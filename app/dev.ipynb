{
 "cells": [
  {
   "cell_type": "code",
   "execution_count": 1,
   "outputs": [],
   "source": [
    "import pandas as pd"
   ],
   "metadata": {
    "collapsed": false,
    "pycharm": {
     "name": "#%%\n"
    }
   }
  },
  {
   "cell_type": "code",
   "execution_count": 3,
   "outputs": [],
   "source": [
    "import streamlit as st\n",
    "import os"
   ],
   "metadata": {
    "collapsed": false,
    "pycharm": {
     "name": "#%%\n"
    }
   }
  },
  {
   "cell_type": "code",
   "execution_count": 5,
   "outputs": [
    {
     "data": {
      "text/plain": "'/Users/taekkim/data/'"
     },
     "execution_count": 5,
     "metadata": {},
     "output_type": "execute_result"
    }
   ],
   "source": [
    "PATH = os.getenv('HOME') + '/data/'\n",
    "PATH"
   ],
   "metadata": {
    "collapsed": false,
    "pycharm": {
     "name": "#%%\n"
    }
   }
  },
  {
   "cell_type": "code",
   "execution_count": 8,
   "outputs": [
    {
     "data": {
      "text/plain": "        Unnamed: 0      연번      환자         확진일   거주지 여행력  \\\n0                0  120000  365713  2021-10-31   성북구   -   \n1                1  119999  365443  2021-10-31  영등포구   -   \n2                2  119998  365716  2021-10-31   성북구   -   \n3                3  119997  365988  2021-10-31  영등포구   -   \n4                4  119996  365797  2021-10-31  영등포구   -   \n...            ...     ...     ...         ...   ...  ..   \n119995          95     105    6070  2020-03-04   강북구   -   \n119996          96     104    6832  2020-03-04   강북구   -   \n119997          97     103    5666  2020-03-04   용산구   -   \n119998          98     102    5695  2020-03-04  동대문구  유럽   \n119999          99     101    5661  2020-03-04   중랑구   -   \n\n                          접촉력 퇴원현황  \n0                   기타 확진자 접촉   퇴원  \n1                   병원 및 요양시설   퇴원  \n2       성북구 소재 병원 관련('21.10.)   퇴원  \n3                   기타 확진자 접촉   퇴원  \n4                   기타 확진자 접촉   퇴원  \n...                       ...  ...  \n119995               감염경로 조사중   퇴원  \n119996              기타 확진자 접촉   퇴원  \n119997              기타 확진자 접촉   퇴원  \n119998                   해외유입   퇴원  \n119999             타시도 확진자 접촉   퇴원  \n\n[120000 rows x 8 columns]",
      "text/html": "<div>\n<style scoped>\n    .dataframe tbody tr th:only-of-type {\n        vertical-align: middle;\n    }\n\n    .dataframe tbody tr th {\n        vertical-align: top;\n    }\n\n    .dataframe thead th {\n        text-align: right;\n    }\n</style>\n<table border=\"1\" class=\"dataframe\">\n  <thead>\n    <tr style=\"text-align: right;\">\n      <th></th>\n      <th>Unnamed: 0</th>\n      <th>연번</th>\n      <th>환자</th>\n      <th>확진일</th>\n      <th>거주지</th>\n      <th>여행력</th>\n      <th>접촉력</th>\n      <th>퇴원현황</th>\n    </tr>\n  </thead>\n  <tbody>\n    <tr>\n      <th>0</th>\n      <td>0</td>\n      <td>120000</td>\n      <td>365713</td>\n      <td>2021-10-31</td>\n      <td>성북구</td>\n      <td>-</td>\n      <td>기타 확진자 접촉</td>\n      <td>퇴원</td>\n    </tr>\n    <tr>\n      <th>1</th>\n      <td>1</td>\n      <td>119999</td>\n      <td>365443</td>\n      <td>2021-10-31</td>\n      <td>영등포구</td>\n      <td>-</td>\n      <td>병원 및 요양시설</td>\n      <td>퇴원</td>\n    </tr>\n    <tr>\n      <th>2</th>\n      <td>2</td>\n      <td>119998</td>\n      <td>365716</td>\n      <td>2021-10-31</td>\n      <td>성북구</td>\n      <td>-</td>\n      <td>성북구 소재 병원 관련('21.10.)</td>\n      <td>퇴원</td>\n    </tr>\n    <tr>\n      <th>3</th>\n      <td>3</td>\n      <td>119997</td>\n      <td>365988</td>\n      <td>2021-10-31</td>\n      <td>영등포구</td>\n      <td>-</td>\n      <td>기타 확진자 접촉</td>\n      <td>퇴원</td>\n    </tr>\n    <tr>\n      <th>4</th>\n      <td>4</td>\n      <td>119996</td>\n      <td>365797</td>\n      <td>2021-10-31</td>\n      <td>영등포구</td>\n      <td>-</td>\n      <td>기타 확진자 접촉</td>\n      <td>퇴원</td>\n    </tr>\n    <tr>\n      <th>...</th>\n      <td>...</td>\n      <td>...</td>\n      <td>...</td>\n      <td>...</td>\n      <td>...</td>\n      <td>...</td>\n      <td>...</td>\n      <td>...</td>\n    </tr>\n    <tr>\n      <th>119995</th>\n      <td>95</td>\n      <td>105</td>\n      <td>6070</td>\n      <td>2020-03-04</td>\n      <td>강북구</td>\n      <td>-</td>\n      <td>감염경로 조사중</td>\n      <td>퇴원</td>\n    </tr>\n    <tr>\n      <th>119996</th>\n      <td>96</td>\n      <td>104</td>\n      <td>6832</td>\n      <td>2020-03-04</td>\n      <td>강북구</td>\n      <td>-</td>\n      <td>기타 확진자 접촉</td>\n      <td>퇴원</td>\n    </tr>\n    <tr>\n      <th>119997</th>\n      <td>97</td>\n      <td>103</td>\n      <td>5666</td>\n      <td>2020-03-04</td>\n      <td>용산구</td>\n      <td>-</td>\n      <td>기타 확진자 접촉</td>\n      <td>퇴원</td>\n    </tr>\n    <tr>\n      <th>119998</th>\n      <td>98</td>\n      <td>102</td>\n      <td>5695</td>\n      <td>2020-03-04</td>\n      <td>동대문구</td>\n      <td>유럽</td>\n      <td>해외유입</td>\n      <td>퇴원</td>\n    </tr>\n    <tr>\n      <th>119999</th>\n      <td>99</td>\n      <td>101</td>\n      <td>5661</td>\n      <td>2020-03-04</td>\n      <td>중랑구</td>\n      <td>-</td>\n      <td>타시도 확진자 접촉</td>\n      <td>퇴원</td>\n    </tr>\n  </tbody>\n</table>\n<p>120000 rows × 8 columns</p>\n</div>"
     },
     "execution_count": 8,
     "metadata": {},
     "output_type": "execute_result"
    }
   ],
   "source": [
    "df = pd.read_csv(PATH + 'covid_data.csv')\n",
    "df"
   ],
   "metadata": {
    "collapsed": false,
    "pycharm": {
     "name": "#%%\n"
    }
   }
  },
  {
   "cell_type": "markdown",
   "source": [
    "저번에는 encoding_errors를 지정해주지 않아도 가져올수 있었는데 encoding_errors를 지정해주어야함\n",
    "replace로 처리를 했는데 replace된걸 어떻게 찾아야할지 걱정"
   ],
   "metadata": {
    "collapsed": false,
    "pycharm": {
     "name": "#%% md\n"
    }
   }
  },
  {
   "cell_type": "markdown",
   "source": [
    "## utf-8 인코딩 형식으로 trend.csv 와 cases.csv 만들어 줌\n",
    "\n",
    "trend.csv 는 오픈소스를 활용"
   ],
   "metadata": {
    "collapsed": false,
    "pycharm": {
     "name": "#%% md\n"
    }
   }
  },
  {
   "cell_type": "code",
   "execution_count": 52,
   "outputs": [
    {
     "ename": "FileNotFoundError",
     "evalue": "[Errno 2] No such file or directory: 'cases.csv'",
     "output_type": "error",
     "traceback": [
      "\u001B[0;31m---------------------------------------------------------------------------\u001B[0m",
      "\u001B[0;31mFileNotFoundError\u001B[0m                         Traceback (most recent call last)",
      "\u001B[0;32m/var/folders/z_/fl1l3lj16n55t2wwqw4xkcw80000gn/T/ipykernel_82810/4152209855.py\u001B[0m in \u001B[0;36m<module>\u001B[0;34m\u001B[0m\n\u001B[1;32m      2\u001B[0m \u001B[0mdf\u001B[0m\u001B[0;34m.\u001B[0m\u001B[0mto_csv\u001B[0m\u001B[0;34m(\u001B[0m\u001B[0mPATH\u001B[0m\u001B[0;34m+\u001B[0m\u001B[0;34m'cases.csv'\u001B[0m\u001B[0;34m,\u001B[0m \u001B[0mencoding\u001B[0m\u001B[0;34m=\u001B[0m\u001B[0;34m'utf-8'\u001B[0m\u001B[0;34m)\u001B[0m\u001B[0;34m\u001B[0m\u001B[0;34m\u001B[0m\u001B[0m\n\u001B[1;32m      3\u001B[0m \u001B[0;34m\u001B[0m\u001B[0m\n\u001B[0;32m----> 4\u001B[0;31m \u001B[0mdf\u001B[0m \u001B[0;34m=\u001B[0m \u001B[0mpd\u001B[0m\u001B[0;34m.\u001B[0m\u001B[0mread_csv\u001B[0m\u001B[0;34m(\u001B[0m\u001B[0;34m'cases.csv'\u001B[0m\u001B[0;34m)\u001B[0m\u001B[0;34m\u001B[0m\u001B[0;34m\u001B[0m\u001B[0m\n\u001B[0m\u001B[1;32m      5\u001B[0m \u001B[0mdf\u001B[0m\u001B[0;34m\u001B[0m\u001B[0;34m\u001B[0m\u001B[0m\n",
      "\u001B[0;32m~/PycharmProjects/how_serious_is_covid/venv/lib/python3.8/site-packages/pandas/util/_decorators.py\u001B[0m in \u001B[0;36mwrapper\u001B[0;34m(*args, **kwargs)\u001B[0m\n\u001B[1;32m    309\u001B[0m                     \u001B[0mstacklevel\u001B[0m\u001B[0;34m=\u001B[0m\u001B[0mstacklevel\u001B[0m\u001B[0;34m,\u001B[0m\u001B[0;34m\u001B[0m\u001B[0;34m\u001B[0m\u001B[0m\n\u001B[1;32m    310\u001B[0m                 )\n\u001B[0;32m--> 311\u001B[0;31m             \u001B[0;32mreturn\u001B[0m \u001B[0mfunc\u001B[0m\u001B[0;34m(\u001B[0m\u001B[0;34m*\u001B[0m\u001B[0margs\u001B[0m\u001B[0;34m,\u001B[0m \u001B[0;34m**\u001B[0m\u001B[0mkwargs\u001B[0m\u001B[0;34m)\u001B[0m\u001B[0;34m\u001B[0m\u001B[0;34m\u001B[0m\u001B[0m\n\u001B[0m\u001B[1;32m    312\u001B[0m \u001B[0;34m\u001B[0m\u001B[0m\n\u001B[1;32m    313\u001B[0m         \u001B[0;32mreturn\u001B[0m \u001B[0mwrapper\u001B[0m\u001B[0;34m\u001B[0m\u001B[0;34m\u001B[0m\u001B[0m\n",
      "\u001B[0;32m~/PycharmProjects/how_serious_is_covid/venv/lib/python3.8/site-packages/pandas/io/parsers/readers.py\u001B[0m in \u001B[0;36mread_csv\u001B[0;34m(filepath_or_buffer, sep, delimiter, header, names, index_col, usecols, squeeze, prefix, mangle_dupe_cols, dtype, engine, converters, true_values, false_values, skipinitialspace, skiprows, skipfooter, nrows, na_values, keep_default_na, na_filter, verbose, skip_blank_lines, parse_dates, infer_datetime_format, keep_date_col, date_parser, dayfirst, cache_dates, iterator, chunksize, compression, thousands, decimal, lineterminator, quotechar, quoting, doublequote, escapechar, comment, encoding, encoding_errors, dialect, error_bad_lines, warn_bad_lines, on_bad_lines, delim_whitespace, low_memory, memory_map, float_precision, storage_options)\u001B[0m\n\u001B[1;32m    584\u001B[0m     \u001B[0mkwds\u001B[0m\u001B[0;34m.\u001B[0m\u001B[0mupdate\u001B[0m\u001B[0;34m(\u001B[0m\u001B[0mkwds_defaults\u001B[0m\u001B[0;34m)\u001B[0m\u001B[0;34m\u001B[0m\u001B[0;34m\u001B[0m\u001B[0m\n\u001B[1;32m    585\u001B[0m \u001B[0;34m\u001B[0m\u001B[0m\n\u001B[0;32m--> 586\u001B[0;31m     \u001B[0;32mreturn\u001B[0m \u001B[0m_read\u001B[0m\u001B[0;34m(\u001B[0m\u001B[0mfilepath_or_buffer\u001B[0m\u001B[0;34m,\u001B[0m \u001B[0mkwds\u001B[0m\u001B[0;34m)\u001B[0m\u001B[0;34m\u001B[0m\u001B[0;34m\u001B[0m\u001B[0m\n\u001B[0m\u001B[1;32m    587\u001B[0m \u001B[0;34m\u001B[0m\u001B[0m\n\u001B[1;32m    588\u001B[0m \u001B[0;34m\u001B[0m\u001B[0m\n",
      "\u001B[0;32m~/PycharmProjects/how_serious_is_covid/venv/lib/python3.8/site-packages/pandas/io/parsers/readers.py\u001B[0m in \u001B[0;36m_read\u001B[0;34m(filepath_or_buffer, kwds)\u001B[0m\n\u001B[1;32m    480\u001B[0m \u001B[0;34m\u001B[0m\u001B[0m\n\u001B[1;32m    481\u001B[0m     \u001B[0;31m# Create the parser.\u001B[0m\u001B[0;34m\u001B[0m\u001B[0;34m\u001B[0m\u001B[0;34m\u001B[0m\u001B[0m\n\u001B[0;32m--> 482\u001B[0;31m     \u001B[0mparser\u001B[0m \u001B[0;34m=\u001B[0m \u001B[0mTextFileReader\u001B[0m\u001B[0;34m(\u001B[0m\u001B[0mfilepath_or_buffer\u001B[0m\u001B[0;34m,\u001B[0m \u001B[0;34m**\u001B[0m\u001B[0mkwds\u001B[0m\u001B[0;34m)\u001B[0m\u001B[0;34m\u001B[0m\u001B[0;34m\u001B[0m\u001B[0m\n\u001B[0m\u001B[1;32m    483\u001B[0m \u001B[0;34m\u001B[0m\u001B[0m\n\u001B[1;32m    484\u001B[0m     \u001B[0;32mif\u001B[0m \u001B[0mchunksize\u001B[0m \u001B[0;32mor\u001B[0m \u001B[0miterator\u001B[0m\u001B[0;34m:\u001B[0m\u001B[0;34m\u001B[0m\u001B[0;34m\u001B[0m\u001B[0m\n",
      "\u001B[0;32m~/PycharmProjects/how_serious_is_covid/venv/lib/python3.8/site-packages/pandas/io/parsers/readers.py\u001B[0m in \u001B[0;36m__init__\u001B[0;34m(self, f, engine, **kwds)\u001B[0m\n\u001B[1;32m    809\u001B[0m             \u001B[0mself\u001B[0m\u001B[0;34m.\u001B[0m\u001B[0moptions\u001B[0m\u001B[0;34m[\u001B[0m\u001B[0;34m\"has_index_names\"\u001B[0m\u001B[0;34m]\u001B[0m \u001B[0;34m=\u001B[0m \u001B[0mkwds\u001B[0m\u001B[0;34m[\u001B[0m\u001B[0;34m\"has_index_names\"\u001B[0m\u001B[0;34m]\u001B[0m\u001B[0;34m\u001B[0m\u001B[0;34m\u001B[0m\u001B[0m\n\u001B[1;32m    810\u001B[0m \u001B[0;34m\u001B[0m\u001B[0m\n\u001B[0;32m--> 811\u001B[0;31m         \u001B[0mself\u001B[0m\u001B[0;34m.\u001B[0m\u001B[0m_engine\u001B[0m \u001B[0;34m=\u001B[0m \u001B[0mself\u001B[0m\u001B[0;34m.\u001B[0m\u001B[0m_make_engine\u001B[0m\u001B[0;34m(\u001B[0m\u001B[0mself\u001B[0m\u001B[0;34m.\u001B[0m\u001B[0mengine\u001B[0m\u001B[0;34m)\u001B[0m\u001B[0;34m\u001B[0m\u001B[0;34m\u001B[0m\u001B[0m\n\u001B[0m\u001B[1;32m    812\u001B[0m \u001B[0;34m\u001B[0m\u001B[0m\n\u001B[1;32m    813\u001B[0m     \u001B[0;32mdef\u001B[0m \u001B[0mclose\u001B[0m\u001B[0;34m(\u001B[0m\u001B[0mself\u001B[0m\u001B[0;34m)\u001B[0m\u001B[0;34m:\u001B[0m\u001B[0;34m\u001B[0m\u001B[0;34m\u001B[0m\u001B[0m\n",
      "\u001B[0;32m~/PycharmProjects/how_serious_is_covid/venv/lib/python3.8/site-packages/pandas/io/parsers/readers.py\u001B[0m in \u001B[0;36m_make_engine\u001B[0;34m(self, engine)\u001B[0m\n\u001B[1;32m   1038\u001B[0m             )\n\u001B[1;32m   1039\u001B[0m         \u001B[0;31m# error: Too many arguments for \"ParserBase\"\u001B[0m\u001B[0;34m\u001B[0m\u001B[0;34m\u001B[0m\u001B[0;34m\u001B[0m\u001B[0m\n\u001B[0;32m-> 1040\u001B[0;31m         \u001B[0;32mreturn\u001B[0m \u001B[0mmapping\u001B[0m\u001B[0;34m[\u001B[0m\u001B[0mengine\u001B[0m\u001B[0;34m]\u001B[0m\u001B[0;34m(\u001B[0m\u001B[0mself\u001B[0m\u001B[0;34m.\u001B[0m\u001B[0mf\u001B[0m\u001B[0;34m,\u001B[0m \u001B[0;34m**\u001B[0m\u001B[0mself\u001B[0m\u001B[0;34m.\u001B[0m\u001B[0moptions\u001B[0m\u001B[0;34m)\u001B[0m  \u001B[0;31m# type: ignore[call-arg]\u001B[0m\u001B[0;34m\u001B[0m\u001B[0;34m\u001B[0m\u001B[0m\n\u001B[0m\u001B[1;32m   1041\u001B[0m \u001B[0;34m\u001B[0m\u001B[0m\n\u001B[1;32m   1042\u001B[0m     \u001B[0;32mdef\u001B[0m \u001B[0m_failover_to_python\u001B[0m\u001B[0;34m(\u001B[0m\u001B[0mself\u001B[0m\u001B[0;34m)\u001B[0m\u001B[0;34m:\u001B[0m\u001B[0;34m\u001B[0m\u001B[0;34m\u001B[0m\u001B[0m\n",
      "\u001B[0;32m~/PycharmProjects/how_serious_is_covid/venv/lib/python3.8/site-packages/pandas/io/parsers/c_parser_wrapper.py\u001B[0m in \u001B[0;36m__init__\u001B[0;34m(self, src, **kwds)\u001B[0m\n\u001B[1;32m     49\u001B[0m \u001B[0;34m\u001B[0m\u001B[0m\n\u001B[1;32m     50\u001B[0m         \u001B[0;31m# open handles\u001B[0m\u001B[0;34m\u001B[0m\u001B[0;34m\u001B[0m\u001B[0;34m\u001B[0m\u001B[0m\n\u001B[0;32m---> 51\u001B[0;31m         \u001B[0mself\u001B[0m\u001B[0;34m.\u001B[0m\u001B[0m_open_handles\u001B[0m\u001B[0;34m(\u001B[0m\u001B[0msrc\u001B[0m\u001B[0;34m,\u001B[0m \u001B[0mkwds\u001B[0m\u001B[0;34m)\u001B[0m\u001B[0;34m\u001B[0m\u001B[0;34m\u001B[0m\u001B[0m\n\u001B[0m\u001B[1;32m     52\u001B[0m         \u001B[0;32massert\u001B[0m \u001B[0mself\u001B[0m\u001B[0;34m.\u001B[0m\u001B[0mhandles\u001B[0m \u001B[0;32mis\u001B[0m \u001B[0;32mnot\u001B[0m \u001B[0;32mNone\u001B[0m\u001B[0;34m\u001B[0m\u001B[0;34m\u001B[0m\u001B[0m\n\u001B[1;32m     53\u001B[0m \u001B[0;34m\u001B[0m\u001B[0m\n",
      "\u001B[0;32m~/PycharmProjects/how_serious_is_covid/venv/lib/python3.8/site-packages/pandas/io/parsers/base_parser.py\u001B[0m in \u001B[0;36m_open_handles\u001B[0;34m(self, src, kwds)\u001B[0m\n\u001B[1;32m    220\u001B[0m         \u001B[0mLet\u001B[0m \u001B[0mthe\u001B[0m \u001B[0mreaders\u001B[0m \u001B[0mopen\u001B[0m \u001B[0mIOHandles\u001B[0m \u001B[0mafter\u001B[0m \u001B[0mthey\u001B[0m \u001B[0mare\u001B[0m \u001B[0mdone\u001B[0m \u001B[0;32mwith\u001B[0m \u001B[0mtheir\u001B[0m \u001B[0mpotential\u001B[0m \u001B[0mraises\u001B[0m\u001B[0;34m.\u001B[0m\u001B[0;34m\u001B[0m\u001B[0;34m\u001B[0m\u001B[0m\n\u001B[1;32m    221\u001B[0m         \"\"\"\n\u001B[0;32m--> 222\u001B[0;31m         self.handles = get_handle(\n\u001B[0m\u001B[1;32m    223\u001B[0m             \u001B[0msrc\u001B[0m\u001B[0;34m,\u001B[0m\u001B[0;34m\u001B[0m\u001B[0;34m\u001B[0m\u001B[0m\n\u001B[1;32m    224\u001B[0m             \u001B[0;34m\"r\"\u001B[0m\u001B[0;34m,\u001B[0m\u001B[0;34m\u001B[0m\u001B[0;34m\u001B[0m\u001B[0m\n",
      "\u001B[0;32m~/PycharmProjects/how_serious_is_covid/venv/lib/python3.8/site-packages/pandas/io/common.py\u001B[0m in \u001B[0;36mget_handle\u001B[0;34m(path_or_buf, mode, encoding, compression, memory_map, is_text, errors, storage_options)\u001B[0m\n\u001B[1;32m    700\u001B[0m         \u001B[0;32mif\u001B[0m \u001B[0mioargs\u001B[0m\u001B[0;34m.\u001B[0m\u001B[0mencoding\u001B[0m \u001B[0;32mand\u001B[0m \u001B[0;34m\"b\"\u001B[0m \u001B[0;32mnot\u001B[0m \u001B[0;32min\u001B[0m \u001B[0mioargs\u001B[0m\u001B[0;34m.\u001B[0m\u001B[0mmode\u001B[0m\u001B[0;34m:\u001B[0m\u001B[0;34m\u001B[0m\u001B[0;34m\u001B[0m\u001B[0m\n\u001B[1;32m    701\u001B[0m             \u001B[0;31m# Encoding\u001B[0m\u001B[0;34m\u001B[0m\u001B[0;34m\u001B[0m\u001B[0;34m\u001B[0m\u001B[0m\n\u001B[0;32m--> 702\u001B[0;31m             handle = open(\n\u001B[0m\u001B[1;32m    703\u001B[0m                 \u001B[0mhandle\u001B[0m\u001B[0;34m,\u001B[0m\u001B[0;34m\u001B[0m\u001B[0;34m\u001B[0m\u001B[0m\n\u001B[1;32m    704\u001B[0m                 \u001B[0mioargs\u001B[0m\u001B[0;34m.\u001B[0m\u001B[0mmode\u001B[0m\u001B[0;34m,\u001B[0m\u001B[0;34m\u001B[0m\u001B[0;34m\u001B[0m\u001B[0m\n",
      "\u001B[0;31mFileNotFoundError\u001B[0m: [Errno 2] No such file or directory: 'cases.csv'"
     ]
    }
   ],
   "source": [
    "df = pd.read_csv(PATH+'seoul_covid_active_cases.csv', encoding='euc-kr', encoding_errors='replace')\n",
    "df.to_csv(PATH+'cases.csv', encoding='utf-8')"
   ],
   "metadata": {
    "collapsed": false,
    "pycharm": {
     "name": "#%%\n"
    }
   }
  },
  {
   "cell_type": "code",
   "execution_count": 53,
   "outputs": [
    {
     "data": {
      "text/plain": "        Unnamed: 0      연번         확진일  환자번호  국적  환자정보    지역  여행력  \\\n0                0  163146  2021-12-03   NaN NaN   NaN  영등포구  NaN   \n1                1  163145  2021-12-03   NaN NaN   NaN   종로구  NaN   \n2                2  163144  2021-12-03   NaN NaN   NaN   성북구  NaN   \n3                3  163143  2021-12-03   NaN NaN   NaN   성북구  NaN   \n4                4  163142  2021-12-03   NaN NaN   NaN    기타  NaN   \n...            ...     ...         ...   ...  ..   ...   ...  ...   \n121484      121484   41662  2021-05-19   NaN NaN   NaN   도봉구  NaN   \n121485      121485   41661  2021-05-19   NaN NaN   NaN   동작구  NaN   \n121486      121486   41660  2021-05-19   NaN NaN   NaN   성동구  NaN   \n121487      121487   41659  2021-05-19   NaN NaN   NaN   중랑구  NaN   \n121488      121488   41658  2021-05-19   NaN NaN   NaN   중랑구  NaN   \n\n                  접촉력  조치사항  상태          이동경로                  등록일  \\\n0            감염경로 조사중   NaN   -           NaN  2021-12-04 10:56:14   \n1            감염경로 조사중   NaN   -           NaN  2021-12-04 10:56:14   \n2            감염경로 조사중   NaN   -           NaN  2021-12-04 10:56:14   \n3            감염경로 조사중   NaN   -           NaN  2021-12-04 10:56:14   \n4            감염경로 조사중   NaN   -           NaN  2021-12-04 10:56:14   \n...               ...   ...  ..           ...                  ...   \n121484  강북구 소재 PC방 관련   NaN  퇴원  이동경로 공개기간 경과  2021-09-22 11:10:24   \n121485      기타 확진자 접촉   NaN  퇴원  이동경로 공개기간 경과  2021-09-22 11:10:24   \n121486      기타 확진자 접촉   NaN  퇴원  이동경로 공개기간 경과  2021-09-22 11:10:24   \n121487      기타 확진자 접촉   NaN  퇴원  이동경로 공개기간 경과  2021-09-22 11:10:24   \n121488       감염경로 조사중   NaN  퇴원  이동경로 공개기간 경과  2021-09-22 11:10:24   \n\n                        수정일 노출여부  \n0       2021-12-04 10:56:14    Y  \n1       2021-12-04 10:56:14    Y  \n2       2021-12-04 10:56:14    Y  \n3       2021-12-04 10:56:14    Y  \n4       2021-12-04 10:56:14    Y  \n...                     ...  ...  \n121484  2021-09-23 09:00:01    Y  \n121485  2021-09-23 09:00:01    Y  \n121486  2021-09-23 09:00:01    Y  \n121487  2021-09-23 09:00:01    Y  \n121488  2021-09-23 09:00:01    Y  \n\n[121489 rows x 15 columns]",
      "text/html": "<div>\n<style scoped>\n    .dataframe tbody tr th:only-of-type {\n        vertical-align: middle;\n    }\n\n    .dataframe tbody tr th {\n        vertical-align: top;\n    }\n\n    .dataframe thead th {\n        text-align: right;\n    }\n</style>\n<table border=\"1\" class=\"dataframe\">\n  <thead>\n    <tr style=\"text-align: right;\">\n      <th></th>\n      <th>Unnamed: 0</th>\n      <th>연번</th>\n      <th>확진일</th>\n      <th>환자번호</th>\n      <th>국적</th>\n      <th>환자정보</th>\n      <th>지역</th>\n      <th>여행력</th>\n      <th>접촉력</th>\n      <th>조치사항</th>\n      <th>상태</th>\n      <th>이동경로</th>\n      <th>등록일</th>\n      <th>수정일</th>\n      <th>노출여부</th>\n    </tr>\n  </thead>\n  <tbody>\n    <tr>\n      <th>0</th>\n      <td>0</td>\n      <td>163146</td>\n      <td>2021-12-03</td>\n      <td>NaN</td>\n      <td>NaN</td>\n      <td>NaN</td>\n      <td>영등포구</td>\n      <td>NaN</td>\n      <td>감염경로 조사중</td>\n      <td>NaN</td>\n      <td>-</td>\n      <td>NaN</td>\n      <td>2021-12-04 10:56:14</td>\n      <td>2021-12-04 10:56:14</td>\n      <td>Y</td>\n    </tr>\n    <tr>\n      <th>1</th>\n      <td>1</td>\n      <td>163145</td>\n      <td>2021-12-03</td>\n      <td>NaN</td>\n      <td>NaN</td>\n      <td>NaN</td>\n      <td>종로구</td>\n      <td>NaN</td>\n      <td>감염경로 조사중</td>\n      <td>NaN</td>\n      <td>-</td>\n      <td>NaN</td>\n      <td>2021-12-04 10:56:14</td>\n      <td>2021-12-04 10:56:14</td>\n      <td>Y</td>\n    </tr>\n    <tr>\n      <th>2</th>\n      <td>2</td>\n      <td>163144</td>\n      <td>2021-12-03</td>\n      <td>NaN</td>\n      <td>NaN</td>\n      <td>NaN</td>\n      <td>성북구</td>\n      <td>NaN</td>\n      <td>감염경로 조사중</td>\n      <td>NaN</td>\n      <td>-</td>\n      <td>NaN</td>\n      <td>2021-12-04 10:56:14</td>\n      <td>2021-12-04 10:56:14</td>\n      <td>Y</td>\n    </tr>\n    <tr>\n      <th>3</th>\n      <td>3</td>\n      <td>163143</td>\n      <td>2021-12-03</td>\n      <td>NaN</td>\n      <td>NaN</td>\n      <td>NaN</td>\n      <td>성북구</td>\n      <td>NaN</td>\n      <td>감염경로 조사중</td>\n      <td>NaN</td>\n      <td>-</td>\n      <td>NaN</td>\n      <td>2021-12-04 10:56:14</td>\n      <td>2021-12-04 10:56:14</td>\n      <td>Y</td>\n    </tr>\n    <tr>\n      <th>4</th>\n      <td>4</td>\n      <td>163142</td>\n      <td>2021-12-03</td>\n      <td>NaN</td>\n      <td>NaN</td>\n      <td>NaN</td>\n      <td>기타</td>\n      <td>NaN</td>\n      <td>감염경로 조사중</td>\n      <td>NaN</td>\n      <td>-</td>\n      <td>NaN</td>\n      <td>2021-12-04 10:56:14</td>\n      <td>2021-12-04 10:56:14</td>\n      <td>Y</td>\n    </tr>\n    <tr>\n      <th>...</th>\n      <td>...</td>\n      <td>...</td>\n      <td>...</td>\n      <td>...</td>\n      <td>...</td>\n      <td>...</td>\n      <td>...</td>\n      <td>...</td>\n      <td>...</td>\n      <td>...</td>\n      <td>...</td>\n      <td>...</td>\n      <td>...</td>\n      <td>...</td>\n      <td>...</td>\n    </tr>\n    <tr>\n      <th>121484</th>\n      <td>121484</td>\n      <td>41662</td>\n      <td>2021-05-19</td>\n      <td>NaN</td>\n      <td>NaN</td>\n      <td>NaN</td>\n      <td>도봉구</td>\n      <td>NaN</td>\n      <td>강북구 소재 PC방 관련</td>\n      <td>NaN</td>\n      <td>퇴원</td>\n      <td>이동경로 공개기간 경과</td>\n      <td>2021-09-22 11:10:24</td>\n      <td>2021-09-23 09:00:01</td>\n      <td>Y</td>\n    </tr>\n    <tr>\n      <th>121485</th>\n      <td>121485</td>\n      <td>41661</td>\n      <td>2021-05-19</td>\n      <td>NaN</td>\n      <td>NaN</td>\n      <td>NaN</td>\n      <td>동작구</td>\n      <td>NaN</td>\n      <td>기타 확진자 접촉</td>\n      <td>NaN</td>\n      <td>퇴원</td>\n      <td>이동경로 공개기간 경과</td>\n      <td>2021-09-22 11:10:24</td>\n      <td>2021-09-23 09:00:01</td>\n      <td>Y</td>\n    </tr>\n    <tr>\n      <th>121486</th>\n      <td>121486</td>\n      <td>41660</td>\n      <td>2021-05-19</td>\n      <td>NaN</td>\n      <td>NaN</td>\n      <td>NaN</td>\n      <td>성동구</td>\n      <td>NaN</td>\n      <td>기타 확진자 접촉</td>\n      <td>NaN</td>\n      <td>퇴원</td>\n      <td>이동경로 공개기간 경과</td>\n      <td>2021-09-22 11:10:24</td>\n      <td>2021-09-23 09:00:01</td>\n      <td>Y</td>\n    </tr>\n    <tr>\n      <th>121487</th>\n      <td>121487</td>\n      <td>41659</td>\n      <td>2021-05-19</td>\n      <td>NaN</td>\n      <td>NaN</td>\n      <td>NaN</td>\n      <td>중랑구</td>\n      <td>NaN</td>\n      <td>기타 확진자 접촉</td>\n      <td>NaN</td>\n      <td>퇴원</td>\n      <td>이동경로 공개기간 경과</td>\n      <td>2021-09-22 11:10:24</td>\n      <td>2021-09-23 09:00:01</td>\n      <td>Y</td>\n    </tr>\n    <tr>\n      <th>121488</th>\n      <td>121488</td>\n      <td>41658</td>\n      <td>2021-05-19</td>\n      <td>NaN</td>\n      <td>NaN</td>\n      <td>NaN</td>\n      <td>중랑구</td>\n      <td>NaN</td>\n      <td>감염경로 조사중</td>\n      <td>NaN</td>\n      <td>퇴원</td>\n      <td>이동경로 공개기간 경과</td>\n      <td>2021-09-22 11:10:24</td>\n      <td>2021-09-23 09:00:01</td>\n      <td>Y</td>\n    </tr>\n  </tbody>\n</table>\n<p>121489 rows × 15 columns</p>\n</div>"
     },
     "execution_count": 53,
     "metadata": {},
     "output_type": "execute_result"
    }
   ],
   "source": [
    "df = pd.read_csv(PATH + 'cases.csv')\n",
    "df"
   ],
   "metadata": {
    "collapsed": false,
    "pycharm": {
     "name": "#%%\n"
    }
   }
  },
  {
   "cell_type": "markdown",
   "source": [
    "# trend.csv 데이터 전처리"
   ],
   "metadata": {
    "collapsed": false,
    "pycharm": {
     "name": "#%% md\n"
    }
   }
  },
  {
   "cell_type": "code",
   "execution_count": 135,
   "outputs": [
    {
     "data": {
      "text/plain": "          서울시 기준일\"  서울시 확진자  서울시 추가 확진  서울시 치료중  서울시 퇴원  서울시 추가 퇴원  서울시 사망  \\\n0    2021.12.04.00   163146       2273    25818  136150       1064    1178   \n1    2021.12.03.00   160873       2099    24639  135086       1889    1148   \n2    2021.12.02.00   158774       2268    24441  133197       1330    1136   \n3    2021.12.01.00   156507       2222    23527  131867       1299    1113   \n4    2021.11.30.00   154286       1186    22618  130568       1264    1100   \n..             ...      ...        ...      ...     ...        ...     ...   \n659  2020.02.09.18       10          0       10       0          0       0   \n660  2020.02.08.18       10          0       10       0          0       0   \n661  2020.02.07.18       10          0       10       0          0       0   \n662  2020.02.06.09       11          0       11       0          0       0   \n663  2020.02.05.15        8          0        8       0          0       0   \n\n     서울시 의심환자 전체  서울시 의심환자 검사중  서울시 의심환자 검사결과(음성)  ...   전국 퇴원  전국 사망  \\\n0            NaN           NaN                NaN  ...  405543   3809   \n1            NaN           NaN                NaN  ...  403419   3739   \n2            NaN           NaN                NaN  ...  400585   3705   \n3            NaN           NaN                NaN  ...  398323   3659   \n4            NaN           NaN                NaN  ...  396070   3624   \n..           ...           ...                ...  ...     ...    ...   \n659        459.0          45.0              414.0  ...       3      0   \n660        414.0          92.0              322.0  ...       2      0   \n661        322.0         115.0              207.0  ...       2      0   \n662        192.0          28.0              164.0  ...       1      0   \n663          0.0          16.0              148.0  ...       0      0   \n\n     전국 의심환자 전체  전국 의심환자 검사중  전국 의심환자 검사결과(음성)  자가격리자 해외입국자 감시중  \\\n0           NaN          NaN               NaN              NaN   \n1           NaN          NaN               NaN              NaN   \n2           NaN          NaN               NaN              NaN   \n3           NaN          NaN               NaN              NaN   \n4           NaN          NaN               NaN              NaN   \n..          ...          ...               ...              ...   \n659      2571.0        888.0            1683.0              0.0   \n660      1677.0        620.0            1057.0              0.0   \n661      1106.0        264.0             842.0              0.0   \n662       591.0        169.0             693.0              0.0   \n663       200.0        174.0             522.0              0.0   \n\n     자가격리자 해외입국자 감시해제  자가격리자 접촉자 감시중  자가격리자 접촉자 감시해제  확인중 확진자  \n0                 NaN            NaN             NaN      0.0  \n1                 NaN            NaN             NaN      0.0  \n2                 NaN            NaN             NaN      0.0  \n3                 NaN            NaN             NaN      0.0  \n4                 NaN            NaN             NaN      0.0  \n..                ...            ...             ...      ...  \n659               0.0            0.0             0.0      NaN  \n660               0.0            0.0             0.0      NaN  \n661               0.0            0.0             0.0      NaN  \n662               0.0            0.0             0.0      NaN  \n663               0.0            0.0             0.0      NaN  \n\n[664 rows x 24 columns]",
      "text/html": "<div>\n<style scoped>\n    .dataframe tbody tr th:only-of-type {\n        vertical-align: middle;\n    }\n\n    .dataframe tbody tr th {\n        vertical-align: top;\n    }\n\n    .dataframe thead th {\n        text-align: right;\n    }\n</style>\n<table border=\"1\" class=\"dataframe\">\n  <thead>\n    <tr style=\"text-align: right;\">\n      <th></th>\n      <th>서울시 기준일\"</th>\n      <th>서울시 확진자</th>\n      <th>서울시 추가 확진</th>\n      <th>서울시 치료중</th>\n      <th>서울시 퇴원</th>\n      <th>서울시 추가 퇴원</th>\n      <th>서울시 사망</th>\n      <th>서울시 의심환자 전체</th>\n      <th>서울시 의심환자 검사중</th>\n      <th>서울시 의심환자 검사결과(음성)</th>\n      <th>...</th>\n      <th>전국 퇴원</th>\n      <th>전국 사망</th>\n      <th>전국 의심환자 전체</th>\n      <th>전국 의심환자 검사중</th>\n      <th>전국 의심환자 검사결과(음성)</th>\n      <th>자가격리자 해외입국자 감시중</th>\n      <th>자가격리자 해외입국자 감시해제</th>\n      <th>자가격리자 접촉자 감시중</th>\n      <th>자가격리자 접촉자 감시해제</th>\n      <th>확인중 확진자</th>\n    </tr>\n  </thead>\n  <tbody>\n    <tr>\n      <th>0</th>\n      <td>2021.12.04.00</td>\n      <td>163146</td>\n      <td>2273</td>\n      <td>25818</td>\n      <td>136150</td>\n      <td>1064</td>\n      <td>1178</td>\n      <td>NaN</td>\n      <td>NaN</td>\n      <td>NaN</td>\n      <td>...</td>\n      <td>405543</td>\n      <td>3809</td>\n      <td>NaN</td>\n      <td>NaN</td>\n      <td>NaN</td>\n      <td>NaN</td>\n      <td>NaN</td>\n      <td>NaN</td>\n      <td>NaN</td>\n      <td>0.0</td>\n    </tr>\n    <tr>\n      <th>1</th>\n      <td>2021.12.03.00</td>\n      <td>160873</td>\n      <td>2099</td>\n      <td>24639</td>\n      <td>135086</td>\n      <td>1889</td>\n      <td>1148</td>\n      <td>NaN</td>\n      <td>NaN</td>\n      <td>NaN</td>\n      <td>...</td>\n      <td>403419</td>\n      <td>3739</td>\n      <td>NaN</td>\n      <td>NaN</td>\n      <td>NaN</td>\n      <td>NaN</td>\n      <td>NaN</td>\n      <td>NaN</td>\n      <td>NaN</td>\n      <td>0.0</td>\n    </tr>\n    <tr>\n      <th>2</th>\n      <td>2021.12.02.00</td>\n      <td>158774</td>\n      <td>2268</td>\n      <td>24441</td>\n      <td>133197</td>\n      <td>1330</td>\n      <td>1136</td>\n      <td>NaN</td>\n      <td>NaN</td>\n      <td>NaN</td>\n      <td>...</td>\n      <td>400585</td>\n      <td>3705</td>\n      <td>NaN</td>\n      <td>NaN</td>\n      <td>NaN</td>\n      <td>NaN</td>\n      <td>NaN</td>\n      <td>NaN</td>\n      <td>NaN</td>\n      <td>0.0</td>\n    </tr>\n    <tr>\n      <th>3</th>\n      <td>2021.12.01.00</td>\n      <td>156507</td>\n      <td>2222</td>\n      <td>23527</td>\n      <td>131867</td>\n      <td>1299</td>\n      <td>1113</td>\n      <td>NaN</td>\n      <td>NaN</td>\n      <td>NaN</td>\n      <td>...</td>\n      <td>398323</td>\n      <td>3659</td>\n      <td>NaN</td>\n      <td>NaN</td>\n      <td>NaN</td>\n      <td>NaN</td>\n      <td>NaN</td>\n      <td>NaN</td>\n      <td>NaN</td>\n      <td>0.0</td>\n    </tr>\n    <tr>\n      <th>4</th>\n      <td>2021.11.30.00</td>\n      <td>154286</td>\n      <td>1186</td>\n      <td>22618</td>\n      <td>130568</td>\n      <td>1264</td>\n      <td>1100</td>\n      <td>NaN</td>\n      <td>NaN</td>\n      <td>NaN</td>\n      <td>...</td>\n      <td>396070</td>\n      <td>3624</td>\n      <td>NaN</td>\n      <td>NaN</td>\n      <td>NaN</td>\n      <td>NaN</td>\n      <td>NaN</td>\n      <td>NaN</td>\n      <td>NaN</td>\n      <td>0.0</td>\n    </tr>\n    <tr>\n      <th>...</th>\n      <td>...</td>\n      <td>...</td>\n      <td>...</td>\n      <td>...</td>\n      <td>...</td>\n      <td>...</td>\n      <td>...</td>\n      <td>...</td>\n      <td>...</td>\n      <td>...</td>\n      <td>...</td>\n      <td>...</td>\n      <td>...</td>\n      <td>...</td>\n      <td>...</td>\n      <td>...</td>\n      <td>...</td>\n      <td>...</td>\n      <td>...</td>\n      <td>...</td>\n      <td>...</td>\n    </tr>\n    <tr>\n      <th>659</th>\n      <td>2020.02.09.18</td>\n      <td>10</td>\n      <td>0</td>\n      <td>10</td>\n      <td>0</td>\n      <td>0</td>\n      <td>0</td>\n      <td>459.0</td>\n      <td>45.0</td>\n      <td>414.0</td>\n      <td>...</td>\n      <td>3</td>\n      <td>0</td>\n      <td>2571.0</td>\n      <td>888.0</td>\n      <td>1683.0</td>\n      <td>0.0</td>\n      <td>0.0</td>\n      <td>0.0</td>\n      <td>0.0</td>\n      <td>NaN</td>\n    </tr>\n    <tr>\n      <th>660</th>\n      <td>2020.02.08.18</td>\n      <td>10</td>\n      <td>0</td>\n      <td>10</td>\n      <td>0</td>\n      <td>0</td>\n      <td>0</td>\n      <td>414.0</td>\n      <td>92.0</td>\n      <td>322.0</td>\n      <td>...</td>\n      <td>2</td>\n      <td>0</td>\n      <td>1677.0</td>\n      <td>620.0</td>\n      <td>1057.0</td>\n      <td>0.0</td>\n      <td>0.0</td>\n      <td>0.0</td>\n      <td>0.0</td>\n      <td>NaN</td>\n    </tr>\n    <tr>\n      <th>661</th>\n      <td>2020.02.07.18</td>\n      <td>10</td>\n      <td>0</td>\n      <td>10</td>\n      <td>0</td>\n      <td>0</td>\n      <td>0</td>\n      <td>322.0</td>\n      <td>115.0</td>\n      <td>207.0</td>\n      <td>...</td>\n      <td>2</td>\n      <td>0</td>\n      <td>1106.0</td>\n      <td>264.0</td>\n      <td>842.0</td>\n      <td>0.0</td>\n      <td>0.0</td>\n      <td>0.0</td>\n      <td>0.0</td>\n      <td>NaN</td>\n    </tr>\n    <tr>\n      <th>662</th>\n      <td>2020.02.06.09</td>\n      <td>11</td>\n      <td>0</td>\n      <td>11</td>\n      <td>0</td>\n      <td>0</td>\n      <td>0</td>\n      <td>192.0</td>\n      <td>28.0</td>\n      <td>164.0</td>\n      <td>...</td>\n      <td>1</td>\n      <td>0</td>\n      <td>591.0</td>\n      <td>169.0</td>\n      <td>693.0</td>\n      <td>0.0</td>\n      <td>0.0</td>\n      <td>0.0</td>\n      <td>0.0</td>\n      <td>NaN</td>\n    </tr>\n    <tr>\n      <th>663</th>\n      <td>2020.02.05.15</td>\n      <td>8</td>\n      <td>0</td>\n      <td>8</td>\n      <td>0</td>\n      <td>0</td>\n      <td>0</td>\n      <td>0.0</td>\n      <td>16.0</td>\n      <td>148.0</td>\n      <td>...</td>\n      <td>0</td>\n      <td>0</td>\n      <td>200.0</td>\n      <td>174.0</td>\n      <td>522.0</td>\n      <td>0.0</td>\n      <td>0.0</td>\n      <td>0.0</td>\n      <td>0.0</td>\n      <td>NaN</td>\n    </tr>\n  </tbody>\n</table>\n<p>664 rows × 24 columns</p>\n</div>"
     },
     "execution_count": 135,
     "metadata": {},
     "output_type": "execute_result"
    }
   ],
   "source": [
    "df = pd.read_csv(PATH + 'trend.csv')\n",
    "df"
   ],
   "metadata": {
    "collapsed": false,
    "pycharm": {
     "name": "#%%\n"
    }
   }
  },
  {
   "cell_type": "markdown",
   "source": [
    "## 이름 이상한 컬럼명 변경"
   ],
   "metadata": {
    "collapsed": false,
    "pycharm": {
     "name": "#%% md\n"
    }
   }
  },
  {
   "cell_type": "code",
   "execution_count": 136,
   "outputs": [
    {
     "data": {
      "text/plain": "Index(['서울시 기준일\"', '서울시 확진자', '서울시 추가 확진', '서울시 치료중', '서울시 퇴원', '서울시 추가 퇴원',\n       '서울시 사망', '서울시 의심환자 전체', '서울시 의심환자 검사중', '서울시 의심환자 검사결과(음성)', '전국 기준일',\n       '전국 확진', '전국 추가 확진', '전국 치료중', '전국 퇴원', '전국 사망', '전국 의심환자 전체',\n       '전국 의심환자 검사중', '전국 의심환자 검사결과(음성)', '자가격리자 해외입국자 감시중',\n       '자가격리자 해외입국자 감시해제', '자가격리자 접촉자 감시중', '자가격리자 접촉자 감시해제', '확인중 확진자'],\n      dtype='object')"
     },
     "execution_count": 136,
     "metadata": {},
     "output_type": "execute_result"
    }
   ],
   "source": [
    "df.columns"
   ],
   "metadata": {
    "collapsed": false,
    "pycharm": {
     "name": "#%%\n"
    }
   }
  },
  {
   "cell_type": "code",
   "execution_count": 137,
   "outputs": [
    {
     "data": {
      "text/plain": "           서울시 기준일  서울시 확진자  서울시 추가 확진  서울시 치료중  서울시 퇴원  서울시 추가 퇴원  서울시 사망  \\\n0    2021.12.04.00   163146       2273    25818  136150       1064    1178   \n1    2021.12.03.00   160873       2099    24639  135086       1889    1148   \n2    2021.12.02.00   158774       2268    24441  133197       1330    1136   \n3    2021.12.01.00   156507       2222    23527  131867       1299    1113   \n4    2021.11.30.00   154286       1186    22618  130568       1264    1100   \n..             ...      ...        ...      ...     ...        ...     ...   \n659  2020.02.09.18       10          0       10       0          0       0   \n660  2020.02.08.18       10          0       10       0          0       0   \n661  2020.02.07.18       10          0       10       0          0       0   \n662  2020.02.06.09       11          0       11       0          0       0   \n663  2020.02.05.15        8          0        8       0          0       0   \n\n     서울시 의심환자 전체  서울시 의심환자 검사중  서울시 의심환자 검사결과(음성)  ...   전국 퇴원  전국 사망  \\\n0            NaN           NaN                NaN  ...  405543   3809   \n1            NaN           NaN                NaN  ...  403419   3739   \n2            NaN           NaN                NaN  ...  400585   3705   \n3            NaN           NaN                NaN  ...  398323   3659   \n4            NaN           NaN                NaN  ...  396070   3624   \n..           ...           ...                ...  ...     ...    ...   \n659        459.0          45.0              414.0  ...       3      0   \n660        414.0          92.0              322.0  ...       2      0   \n661        322.0         115.0              207.0  ...       2      0   \n662        192.0          28.0              164.0  ...       1      0   \n663          0.0          16.0              148.0  ...       0      0   \n\n     전국 의심환자 전체  전국 의심환자 검사중  전국 의심환자 검사결과(음성)  자가격리자 해외입국자 감시중  \\\n0           NaN          NaN               NaN              NaN   \n1           NaN          NaN               NaN              NaN   \n2           NaN          NaN               NaN              NaN   \n3           NaN          NaN               NaN              NaN   \n4           NaN          NaN               NaN              NaN   \n..          ...          ...               ...              ...   \n659      2571.0        888.0            1683.0              0.0   \n660      1677.0        620.0            1057.0              0.0   \n661      1106.0        264.0             842.0              0.0   \n662       591.0        169.0             693.0              0.0   \n663       200.0        174.0             522.0              0.0   \n\n     자가격리자 해외입국자 감시해제  자가격리자 접촉자 감시중  자가격리자 접촉자 감시해제  확인중 확진자  \n0                 NaN            NaN             NaN      0.0  \n1                 NaN            NaN             NaN      0.0  \n2                 NaN            NaN             NaN      0.0  \n3                 NaN            NaN             NaN      0.0  \n4                 NaN            NaN             NaN      0.0  \n..                ...            ...             ...      ...  \n659               0.0            0.0             0.0      NaN  \n660               0.0            0.0             0.0      NaN  \n661               0.0            0.0             0.0      NaN  \n662               0.0            0.0             0.0      NaN  \n663               0.0            0.0             0.0      NaN  \n\n[664 rows x 24 columns]",
      "text/html": "<div>\n<style scoped>\n    .dataframe tbody tr th:only-of-type {\n        vertical-align: middle;\n    }\n\n    .dataframe tbody tr th {\n        vertical-align: top;\n    }\n\n    .dataframe thead th {\n        text-align: right;\n    }\n</style>\n<table border=\"1\" class=\"dataframe\">\n  <thead>\n    <tr style=\"text-align: right;\">\n      <th></th>\n      <th>서울시 기준일</th>\n      <th>서울시 확진자</th>\n      <th>서울시 추가 확진</th>\n      <th>서울시 치료중</th>\n      <th>서울시 퇴원</th>\n      <th>서울시 추가 퇴원</th>\n      <th>서울시 사망</th>\n      <th>서울시 의심환자 전체</th>\n      <th>서울시 의심환자 검사중</th>\n      <th>서울시 의심환자 검사결과(음성)</th>\n      <th>...</th>\n      <th>전국 퇴원</th>\n      <th>전국 사망</th>\n      <th>전국 의심환자 전체</th>\n      <th>전국 의심환자 검사중</th>\n      <th>전국 의심환자 검사결과(음성)</th>\n      <th>자가격리자 해외입국자 감시중</th>\n      <th>자가격리자 해외입국자 감시해제</th>\n      <th>자가격리자 접촉자 감시중</th>\n      <th>자가격리자 접촉자 감시해제</th>\n      <th>확인중 확진자</th>\n    </tr>\n  </thead>\n  <tbody>\n    <tr>\n      <th>0</th>\n      <td>2021.12.04.00</td>\n      <td>163146</td>\n      <td>2273</td>\n      <td>25818</td>\n      <td>136150</td>\n      <td>1064</td>\n      <td>1178</td>\n      <td>NaN</td>\n      <td>NaN</td>\n      <td>NaN</td>\n      <td>...</td>\n      <td>405543</td>\n      <td>3809</td>\n      <td>NaN</td>\n      <td>NaN</td>\n      <td>NaN</td>\n      <td>NaN</td>\n      <td>NaN</td>\n      <td>NaN</td>\n      <td>NaN</td>\n      <td>0.0</td>\n    </tr>\n    <tr>\n      <th>1</th>\n      <td>2021.12.03.00</td>\n      <td>160873</td>\n      <td>2099</td>\n      <td>24639</td>\n      <td>135086</td>\n      <td>1889</td>\n      <td>1148</td>\n      <td>NaN</td>\n      <td>NaN</td>\n      <td>NaN</td>\n      <td>...</td>\n      <td>403419</td>\n      <td>3739</td>\n      <td>NaN</td>\n      <td>NaN</td>\n      <td>NaN</td>\n      <td>NaN</td>\n      <td>NaN</td>\n      <td>NaN</td>\n      <td>NaN</td>\n      <td>0.0</td>\n    </tr>\n    <tr>\n      <th>2</th>\n      <td>2021.12.02.00</td>\n      <td>158774</td>\n      <td>2268</td>\n      <td>24441</td>\n      <td>133197</td>\n      <td>1330</td>\n      <td>1136</td>\n      <td>NaN</td>\n      <td>NaN</td>\n      <td>NaN</td>\n      <td>...</td>\n      <td>400585</td>\n      <td>3705</td>\n      <td>NaN</td>\n      <td>NaN</td>\n      <td>NaN</td>\n      <td>NaN</td>\n      <td>NaN</td>\n      <td>NaN</td>\n      <td>NaN</td>\n      <td>0.0</td>\n    </tr>\n    <tr>\n      <th>3</th>\n      <td>2021.12.01.00</td>\n      <td>156507</td>\n      <td>2222</td>\n      <td>23527</td>\n      <td>131867</td>\n      <td>1299</td>\n      <td>1113</td>\n      <td>NaN</td>\n      <td>NaN</td>\n      <td>NaN</td>\n      <td>...</td>\n      <td>398323</td>\n      <td>3659</td>\n      <td>NaN</td>\n      <td>NaN</td>\n      <td>NaN</td>\n      <td>NaN</td>\n      <td>NaN</td>\n      <td>NaN</td>\n      <td>NaN</td>\n      <td>0.0</td>\n    </tr>\n    <tr>\n      <th>4</th>\n      <td>2021.11.30.00</td>\n      <td>154286</td>\n      <td>1186</td>\n      <td>22618</td>\n      <td>130568</td>\n      <td>1264</td>\n      <td>1100</td>\n      <td>NaN</td>\n      <td>NaN</td>\n      <td>NaN</td>\n      <td>...</td>\n      <td>396070</td>\n      <td>3624</td>\n      <td>NaN</td>\n      <td>NaN</td>\n      <td>NaN</td>\n      <td>NaN</td>\n      <td>NaN</td>\n      <td>NaN</td>\n      <td>NaN</td>\n      <td>0.0</td>\n    </tr>\n    <tr>\n      <th>...</th>\n      <td>...</td>\n      <td>...</td>\n      <td>...</td>\n      <td>...</td>\n      <td>...</td>\n      <td>...</td>\n      <td>...</td>\n      <td>...</td>\n      <td>...</td>\n      <td>...</td>\n      <td>...</td>\n      <td>...</td>\n      <td>...</td>\n      <td>...</td>\n      <td>...</td>\n      <td>...</td>\n      <td>...</td>\n      <td>...</td>\n      <td>...</td>\n      <td>...</td>\n      <td>...</td>\n    </tr>\n    <tr>\n      <th>659</th>\n      <td>2020.02.09.18</td>\n      <td>10</td>\n      <td>0</td>\n      <td>10</td>\n      <td>0</td>\n      <td>0</td>\n      <td>0</td>\n      <td>459.0</td>\n      <td>45.0</td>\n      <td>414.0</td>\n      <td>...</td>\n      <td>3</td>\n      <td>0</td>\n      <td>2571.0</td>\n      <td>888.0</td>\n      <td>1683.0</td>\n      <td>0.0</td>\n      <td>0.0</td>\n      <td>0.0</td>\n      <td>0.0</td>\n      <td>NaN</td>\n    </tr>\n    <tr>\n      <th>660</th>\n      <td>2020.02.08.18</td>\n      <td>10</td>\n      <td>0</td>\n      <td>10</td>\n      <td>0</td>\n      <td>0</td>\n      <td>0</td>\n      <td>414.0</td>\n      <td>92.0</td>\n      <td>322.0</td>\n      <td>...</td>\n      <td>2</td>\n      <td>0</td>\n      <td>1677.0</td>\n      <td>620.0</td>\n      <td>1057.0</td>\n      <td>0.0</td>\n      <td>0.0</td>\n      <td>0.0</td>\n      <td>0.0</td>\n      <td>NaN</td>\n    </tr>\n    <tr>\n      <th>661</th>\n      <td>2020.02.07.18</td>\n      <td>10</td>\n      <td>0</td>\n      <td>10</td>\n      <td>0</td>\n      <td>0</td>\n      <td>0</td>\n      <td>322.0</td>\n      <td>115.0</td>\n      <td>207.0</td>\n      <td>...</td>\n      <td>2</td>\n      <td>0</td>\n      <td>1106.0</td>\n      <td>264.0</td>\n      <td>842.0</td>\n      <td>0.0</td>\n      <td>0.0</td>\n      <td>0.0</td>\n      <td>0.0</td>\n      <td>NaN</td>\n    </tr>\n    <tr>\n      <th>662</th>\n      <td>2020.02.06.09</td>\n      <td>11</td>\n      <td>0</td>\n      <td>11</td>\n      <td>0</td>\n      <td>0</td>\n      <td>0</td>\n      <td>192.0</td>\n      <td>28.0</td>\n      <td>164.0</td>\n      <td>...</td>\n      <td>1</td>\n      <td>0</td>\n      <td>591.0</td>\n      <td>169.0</td>\n      <td>693.0</td>\n      <td>0.0</td>\n      <td>0.0</td>\n      <td>0.0</td>\n      <td>0.0</td>\n      <td>NaN</td>\n    </tr>\n    <tr>\n      <th>663</th>\n      <td>2020.02.05.15</td>\n      <td>8</td>\n      <td>0</td>\n      <td>8</td>\n      <td>0</td>\n      <td>0</td>\n      <td>0</td>\n      <td>0.0</td>\n      <td>16.0</td>\n      <td>148.0</td>\n      <td>...</td>\n      <td>0</td>\n      <td>0</td>\n      <td>200.0</td>\n      <td>174.0</td>\n      <td>522.0</td>\n      <td>0.0</td>\n      <td>0.0</td>\n      <td>0.0</td>\n      <td>0.0</td>\n      <td>NaN</td>\n    </tr>\n  </tbody>\n</table>\n<p>664 rows × 24 columns</p>\n</div>"
     },
     "execution_count": 137,
     "metadata": {},
     "output_type": "execute_result"
    }
   ],
   "source": [
    "df.rename(columns = {'서울시 기준일\"':'서울시 기준일'}, inplace=True)\n",
    "df"
   ],
   "metadata": {
    "collapsed": false,
    "pycharm": {
     "name": "#%%\n"
    }
   }
  },
  {
   "cell_type": "markdown",
   "source": [
    "## NULL 많은 컬럼 제거"
   ],
   "metadata": {
    "collapsed": false,
    "pycharm": {
     "name": "#%% md\n"
    }
   }
  },
  {
   "cell_type": "code",
   "execution_count": 138,
   "outputs": [
    {
     "data": {
      "text/plain": "서울시 기준일                0\n서울시 확진자                0\n서울시 추가 확진              0\n서울시 치료중                0\n서울시 퇴원                 0\n서울시 추가 퇴원              0\n서울시 사망                 0\n서울시 의심환자 전체          477\n서울시 의심환자 검사중         476\n서울시 의심환자 검사결과(음성)    476\n전국 기준일                 0\n전국 확진                  0\n전국 추가 확진               0\n전국 치료중                 0\n전국 퇴원                  0\n전국 사망                  0\n전국 의심환자 전체           477\n전국 의심환자 검사중          476\n전국 의심환자 검사결과(음성)     476\n자가격리자 해외입국자 감시중      476\n자가격리자 해외입국자 감시해제     476\n자가격리자 접촉자 감시중        476\n자가격리자 접촉자 감시해제       476\n확인중 확진자               23\ndtype: int64"
     },
     "execution_count": 138,
     "metadata": {},
     "output_type": "execute_result"
    }
   ],
   "source": [
    "df.isna().sum()"
   ],
   "metadata": {
    "collapsed": false,
    "pycharm": {
     "name": "#%%\n"
    }
   }
  },
  {
   "cell_type": "markdown",
   "source": [
    "길이가 476~477인 column은 재거, 23인 열은 확인"
   ],
   "metadata": {
    "collapsed": false,
    "pycharm": {
     "name": "#%% md\n"
    }
   }
  },
  {
   "cell_type": "code",
   "execution_count": 139,
   "outputs": [
    {
     "data": {
      "text/plain": "0      0.0\n1      0.0\n2      0.0\n3      0.0\n4      0.0\n      ... \n659    NaN\n660    NaN\n661    NaN\n662    NaN\n663    NaN\nName: 확인중 확진자, Length: 664, dtype: float64"
     },
     "execution_count": 139,
     "metadata": {},
     "output_type": "execute_result"
    }
   ],
   "source": [
    "df['확인중 확진자']"
   ],
   "metadata": {
    "collapsed": false,
    "pycharm": {
     "name": "#%%\n"
    }
   }
  },
  {
   "cell_type": "markdown",
   "source": [
    "데이터가 다 0.0이거나 NaN임 drop하면 될 듯"
   ],
   "metadata": {
    "collapsed": false,
    "pycharm": {
     "name": "#%% md\n"
    }
   }
  },
  {
   "cell_type": "markdown",
   "source": [
    "## NaN가진 columns drop"
   ],
   "metadata": {
    "collapsed": false,
    "pycharm": {
     "name": "#%% md\n"
    }
   }
  },
  {
   "cell_type": "code",
   "execution_count": 140,
   "outputs": [
    {
     "data": {
      "text/plain": "           서울시 기준일  서울시 확진자  서울시 추가 확진  서울시 치료중  서울시 퇴원  서울시 추가 퇴원  서울시 사망  \\\n0    2021.12.04.00   163146       2273    25818  136150       1064    1178   \n1    2021.12.03.00   160873       2099    24639  135086       1889    1148   \n2    2021.12.02.00   158774       2268    24441  133197       1330    1136   \n3    2021.12.01.00   156507       2222    23527  131867       1299    1113   \n4    2021.11.30.00   154286       1186    22618  130568       1264    1100   \n..             ...      ...        ...      ...     ...        ...     ...   \n659  2020.02.09.18       10          0       10       0          0       0   \n660  2020.02.08.18       10          0       10       0          0       0   \n661  2020.02.07.18       10          0       10       0          0       0   \n662  2020.02.06.09       11          0       11       0          0       0   \n663  2020.02.05.15        8          0        8       0          0       0   \n\n            전국 기준일   전국 확진  전국 추가 확진  전국 치료중   전국 퇴원  전국 사망  \n0    2021.12.04.00  467907      5352   58555  405543   3809  \n1    2021.12.03.00  462555      4944   55397  403419   3739  \n2    2021.12.02.00  457612      5266   53322  400585   3705  \n3    2021.12.01.00  452350      5123   50368  398323   3659  \n4    2021.11.30.00  447230      3032   47536  396070   3624  \n..             ...     ...       ...     ...     ...    ...  \n659  2020.02.09.18      27         0      24       3      0  \n660  2020.02.08.18      24         0      22       2      0  \n661  2020.02.07.18      24         0      22       2      0  \n662  2020.02.06.09      24         0      23       1      0  \n663  2020.02.05.15      18         0      18       0      0  \n\n[664 rows x 13 columns]",
      "text/html": "<div>\n<style scoped>\n    .dataframe tbody tr th:only-of-type {\n        vertical-align: middle;\n    }\n\n    .dataframe tbody tr th {\n        vertical-align: top;\n    }\n\n    .dataframe thead th {\n        text-align: right;\n    }\n</style>\n<table border=\"1\" class=\"dataframe\">\n  <thead>\n    <tr style=\"text-align: right;\">\n      <th></th>\n      <th>서울시 기준일</th>\n      <th>서울시 확진자</th>\n      <th>서울시 추가 확진</th>\n      <th>서울시 치료중</th>\n      <th>서울시 퇴원</th>\n      <th>서울시 추가 퇴원</th>\n      <th>서울시 사망</th>\n      <th>전국 기준일</th>\n      <th>전국 확진</th>\n      <th>전국 추가 확진</th>\n      <th>전국 치료중</th>\n      <th>전국 퇴원</th>\n      <th>전국 사망</th>\n    </tr>\n  </thead>\n  <tbody>\n    <tr>\n      <th>0</th>\n      <td>2021.12.04.00</td>\n      <td>163146</td>\n      <td>2273</td>\n      <td>25818</td>\n      <td>136150</td>\n      <td>1064</td>\n      <td>1178</td>\n      <td>2021.12.04.00</td>\n      <td>467907</td>\n      <td>5352</td>\n      <td>58555</td>\n      <td>405543</td>\n      <td>3809</td>\n    </tr>\n    <tr>\n      <th>1</th>\n      <td>2021.12.03.00</td>\n      <td>160873</td>\n      <td>2099</td>\n      <td>24639</td>\n      <td>135086</td>\n      <td>1889</td>\n      <td>1148</td>\n      <td>2021.12.03.00</td>\n      <td>462555</td>\n      <td>4944</td>\n      <td>55397</td>\n      <td>403419</td>\n      <td>3739</td>\n    </tr>\n    <tr>\n      <th>2</th>\n      <td>2021.12.02.00</td>\n      <td>158774</td>\n      <td>2268</td>\n      <td>24441</td>\n      <td>133197</td>\n      <td>1330</td>\n      <td>1136</td>\n      <td>2021.12.02.00</td>\n      <td>457612</td>\n      <td>5266</td>\n      <td>53322</td>\n      <td>400585</td>\n      <td>3705</td>\n    </tr>\n    <tr>\n      <th>3</th>\n      <td>2021.12.01.00</td>\n      <td>156507</td>\n      <td>2222</td>\n      <td>23527</td>\n      <td>131867</td>\n      <td>1299</td>\n      <td>1113</td>\n      <td>2021.12.01.00</td>\n      <td>452350</td>\n      <td>5123</td>\n      <td>50368</td>\n      <td>398323</td>\n      <td>3659</td>\n    </tr>\n    <tr>\n      <th>4</th>\n      <td>2021.11.30.00</td>\n      <td>154286</td>\n      <td>1186</td>\n      <td>22618</td>\n      <td>130568</td>\n      <td>1264</td>\n      <td>1100</td>\n      <td>2021.11.30.00</td>\n      <td>447230</td>\n      <td>3032</td>\n      <td>47536</td>\n      <td>396070</td>\n      <td>3624</td>\n    </tr>\n    <tr>\n      <th>...</th>\n      <td>...</td>\n      <td>...</td>\n      <td>...</td>\n      <td>...</td>\n      <td>...</td>\n      <td>...</td>\n      <td>...</td>\n      <td>...</td>\n      <td>...</td>\n      <td>...</td>\n      <td>...</td>\n      <td>...</td>\n      <td>...</td>\n    </tr>\n    <tr>\n      <th>659</th>\n      <td>2020.02.09.18</td>\n      <td>10</td>\n      <td>0</td>\n      <td>10</td>\n      <td>0</td>\n      <td>0</td>\n      <td>0</td>\n      <td>2020.02.09.18</td>\n      <td>27</td>\n      <td>0</td>\n      <td>24</td>\n      <td>3</td>\n      <td>0</td>\n    </tr>\n    <tr>\n      <th>660</th>\n      <td>2020.02.08.18</td>\n      <td>10</td>\n      <td>0</td>\n      <td>10</td>\n      <td>0</td>\n      <td>0</td>\n      <td>0</td>\n      <td>2020.02.08.18</td>\n      <td>24</td>\n      <td>0</td>\n      <td>22</td>\n      <td>2</td>\n      <td>0</td>\n    </tr>\n    <tr>\n      <th>661</th>\n      <td>2020.02.07.18</td>\n      <td>10</td>\n      <td>0</td>\n      <td>10</td>\n      <td>0</td>\n      <td>0</td>\n      <td>0</td>\n      <td>2020.02.07.18</td>\n      <td>24</td>\n      <td>0</td>\n      <td>22</td>\n      <td>2</td>\n      <td>0</td>\n    </tr>\n    <tr>\n      <th>662</th>\n      <td>2020.02.06.09</td>\n      <td>11</td>\n      <td>0</td>\n      <td>11</td>\n      <td>0</td>\n      <td>0</td>\n      <td>0</td>\n      <td>2020.02.06.09</td>\n      <td>24</td>\n      <td>0</td>\n      <td>23</td>\n      <td>1</td>\n      <td>0</td>\n    </tr>\n    <tr>\n      <th>663</th>\n      <td>2020.02.05.15</td>\n      <td>8</td>\n      <td>0</td>\n      <td>8</td>\n      <td>0</td>\n      <td>0</td>\n      <td>0</td>\n      <td>2020.02.05.15</td>\n      <td>18</td>\n      <td>0</td>\n      <td>18</td>\n      <td>0</td>\n      <td>0</td>\n    </tr>\n  </tbody>\n</table>\n<p>664 rows × 13 columns</p>\n</div>"
     },
     "execution_count": 140,
     "metadata": {},
     "output_type": "execute_result"
    }
   ],
   "source": [
    "df.dropna(axis='columns', inplace=True)\n",
    "df"
   ],
   "metadata": {
    "collapsed": false,
    "pycharm": {
     "name": "#%%\n"
    }
   }
  },
  {
   "cell_type": "markdown",
   "source": [
    "## string to datetime"
   ],
   "metadata": {
    "collapsed": false,
    "pycharm": {
     "name": "#%% md\n"
    }
   }
  },
  {
   "cell_type": "code",
   "execution_count": 141,
   "outputs": [],
   "source": [
    "from datetime import datetime as dt"
   ],
   "metadata": {
    "collapsed": false,
    "pycharm": {
     "name": "#%%\n"
    }
   }
  },
  {
   "cell_type": "code",
   "execution_count": 142,
   "outputs": [
    {
     "data": {
      "text/plain": "str"
     },
     "execution_count": 142,
     "metadata": {},
     "output_type": "execute_result"
    }
   ],
   "source": [
    "type(df['서울시 기준일'][0])"
   ],
   "metadata": {
    "collapsed": false,
    "pycharm": {
     "name": "#%%\n"
    }
   }
  },
  {
   "cell_type": "code",
   "execution_count": 143,
   "outputs": [
    {
     "data": {
      "text/plain": "0      True\n1      True\n2      True\n3      True\n4      True\n       ... \n659    True\n660    True\n661    True\n662    True\n663    True\nLength: 664, dtype: bool"
     },
     "execution_count": 143,
     "metadata": {},
     "output_type": "execute_result"
    }
   ],
   "source": [
    "tmp = df['서울시 기준일'].eq(df['전국 기준일'])\n",
    "tmp"
   ],
   "metadata": {
    "collapsed": false,
    "pycharm": {
     "name": "#%%\n"
    }
   }
  },
  {
   "cell_type": "code",
   "execution_count": 144,
   "outputs": [
    {
     "data": {
      "text/plain": "536    2020.06.11.10\n537    2020.06.10.10\n538    2020.06.09.10\n539    2020.06.08.10\n540    2020.06.07.10\n           ...      \n636    2020.03.03.10\n638    2020.03.01.10\n639    2020.02.29.10\n640    2020.02.28.10\n641    2020.02.27.10\nName: 서울시 기준일, Length: 95, dtype: object"
     },
     "execution_count": 144,
     "metadata": {},
     "output_type": "execute_result"
    }
   ],
   "source": [
    "df['서울시 기준일'][tmp == False]"
   ],
   "metadata": {
    "collapsed": false,
    "pycharm": {
     "name": "#%%\n"
    }
   }
  },
  {
   "cell_type": "code",
   "execution_count": 145,
   "outputs": [
    {
     "data": {
      "text/plain": "536    2020.06.11.00\n537    2020.06.10.00\n538    2020.06.09.00\n539    2020.06.08.00\n540    2020.06.07.00\n           ...      \n636    2020.03.03.00\n638    2020.03.01.16\n639    2020.02.29.16\n640    2020.02.28.16\n641    2020.02.27.16\nName: 전국 기준일, Length: 95, dtype: object"
     },
     "execution_count": 145,
     "metadata": {},
     "output_type": "execute_result"
    }
   ],
   "source": [
    "df['전국 기준일'][tmp == False]"
   ],
   "metadata": {
    "collapsed": false,
    "pycharm": {
     "name": "#%%\n"
    }
   }
  },
  {
   "cell_type": "markdown",
   "source": [
    "서울시 기준일과 전국 기준일의 다른점은 시각밖에 없는 것 같다."
   ],
   "metadata": {
    "collapsed": false,
    "pycharm": {
     "name": "#%% md\n"
    }
   }
  },
  {
   "cell_type": "code",
   "execution_count": 146,
   "outputs": [],
   "source": [
    "df['서울시 기준일'] = df['서울시 기준일'].apply(lambda x: dt.strptime(x, '%Y.%m.%d.%H'))\n",
    "df['전국 기준일'] = df['전국 기준일'].apply(lambda x: dt.strptime(x, '%Y.%m.%d.%H'))"
   ],
   "metadata": {
    "collapsed": false,
    "pycharm": {
     "name": "#%%\n"
    }
   }
  },
  {
   "cell_type": "code",
   "execution_count": 147,
   "outputs": [
    {
     "data": {
      "text/plain": "0     2021-12-04 00:00:00\n1     2021-12-03 00:00:00\n2     2021-12-02 00:00:00\n3     2021-12-01 00:00:00\n4     2021-11-30 00:00:00\n              ...        \n659   2020-02-09 18:00:00\n660   2020-02-08 18:00:00\n661   2020-02-07 18:00:00\n662   2020-02-06 09:00:00\n663   2020-02-05 15:00:00\nName: 서울시 기준일, Length: 664, dtype: datetime64[ns]"
     },
     "execution_count": 147,
     "metadata": {},
     "output_type": "execute_result"
    }
   ],
   "source": [
    "df['서울시 기준일']"
   ],
   "metadata": {
    "collapsed": false,
    "pycharm": {
     "name": "#%%\n"
    }
   }
  },
  {
   "cell_type": "markdown",
   "source": [
    "datetime으로 변환하는데 성공했다"
   ],
   "metadata": {
    "collapsed": false,
    "pycharm": {
     "name": "#%% md\n"
    }
   }
  },
  {
   "cell_type": "markdown",
   "source": [
    "### 추가 확진 추가 퇴원같은 column들 삭제"
   ],
   "metadata": {
    "collapsed": false,
    "pycharm": {
     "name": "#%% md\n"
    }
   }
  },
  {
   "cell_type": "code",
   "execution_count": 110,
   "outputs": [
    {
     "data": {
      "text/plain": "                서울시 기준일  서울시 확진자  서울시 치료중  서울시 퇴원  서울시 사망              전국 기준일  \\\n0   2021-12-04 00:00:00   163146    25818  136150    1178 2021-12-04 00:00:00   \n1   2021-12-03 00:00:00   160873    24639  135086    1148 2021-12-03 00:00:00   \n2   2021-12-02 00:00:00   158774    24441  133197    1136 2021-12-02 00:00:00   \n3   2021-12-01 00:00:00   156507    23527  131867    1113 2021-12-01 00:00:00   \n4   2021-11-30 00:00:00   154286    22618  130568    1100 2021-11-30 00:00:00   \n..                  ...      ...      ...     ...     ...                 ...   \n659 2020-02-09 18:00:00       10       10       0       0 2020-02-09 18:00:00   \n660 2020-02-08 18:00:00       10       10       0       0 2020-02-08 18:00:00   \n661 2020-02-07 18:00:00       10       10       0       0 2020-02-07 18:00:00   \n662 2020-02-06 09:00:00       11       11       0       0 2020-02-06 09:00:00   \n663 2020-02-05 15:00:00        8        8       0       0 2020-02-05 15:00:00   \n\n      전국 확진  전국 치료중   전국 퇴원  전국 사망  \n0    467907   58555  405543   3809  \n1    462555   55397  403419   3739  \n2    457612   53322  400585   3705  \n3    452350   50368  398323   3659  \n4    447230   47536  396070   3624  \n..      ...     ...     ...    ...  \n659      27      24       3      0  \n660      24      22       2      0  \n661      24      22       2      0  \n662      24      23       1      0  \n663      18      18       0      0  \n\n[664 rows x 10 columns]",
      "text/html": "<div>\n<style scoped>\n    .dataframe tbody tr th:only-of-type {\n        vertical-align: middle;\n    }\n\n    .dataframe tbody tr th {\n        vertical-align: top;\n    }\n\n    .dataframe thead th {\n        text-align: right;\n    }\n</style>\n<table border=\"1\" class=\"dataframe\">\n  <thead>\n    <tr style=\"text-align: right;\">\n      <th></th>\n      <th>서울시 기준일</th>\n      <th>서울시 확진자</th>\n      <th>서울시 치료중</th>\n      <th>서울시 퇴원</th>\n      <th>서울시 사망</th>\n      <th>전국 기준일</th>\n      <th>전국 확진</th>\n      <th>전국 치료중</th>\n      <th>전국 퇴원</th>\n      <th>전국 사망</th>\n    </tr>\n  </thead>\n  <tbody>\n    <tr>\n      <th>0</th>\n      <td>2021-12-04 00:00:00</td>\n      <td>163146</td>\n      <td>25818</td>\n      <td>136150</td>\n      <td>1178</td>\n      <td>2021-12-04 00:00:00</td>\n      <td>467907</td>\n      <td>58555</td>\n      <td>405543</td>\n      <td>3809</td>\n    </tr>\n    <tr>\n      <th>1</th>\n      <td>2021-12-03 00:00:00</td>\n      <td>160873</td>\n      <td>24639</td>\n      <td>135086</td>\n      <td>1148</td>\n      <td>2021-12-03 00:00:00</td>\n      <td>462555</td>\n      <td>55397</td>\n      <td>403419</td>\n      <td>3739</td>\n    </tr>\n    <tr>\n      <th>2</th>\n      <td>2021-12-02 00:00:00</td>\n      <td>158774</td>\n      <td>24441</td>\n      <td>133197</td>\n      <td>1136</td>\n      <td>2021-12-02 00:00:00</td>\n      <td>457612</td>\n      <td>53322</td>\n      <td>400585</td>\n      <td>3705</td>\n    </tr>\n    <tr>\n      <th>3</th>\n      <td>2021-12-01 00:00:00</td>\n      <td>156507</td>\n      <td>23527</td>\n      <td>131867</td>\n      <td>1113</td>\n      <td>2021-12-01 00:00:00</td>\n      <td>452350</td>\n      <td>50368</td>\n      <td>398323</td>\n      <td>3659</td>\n    </tr>\n    <tr>\n      <th>4</th>\n      <td>2021-11-30 00:00:00</td>\n      <td>154286</td>\n      <td>22618</td>\n      <td>130568</td>\n      <td>1100</td>\n      <td>2021-11-30 00:00:00</td>\n      <td>447230</td>\n      <td>47536</td>\n      <td>396070</td>\n      <td>3624</td>\n    </tr>\n    <tr>\n      <th>...</th>\n      <td>...</td>\n      <td>...</td>\n      <td>...</td>\n      <td>...</td>\n      <td>...</td>\n      <td>...</td>\n      <td>...</td>\n      <td>...</td>\n      <td>...</td>\n      <td>...</td>\n    </tr>\n    <tr>\n      <th>659</th>\n      <td>2020-02-09 18:00:00</td>\n      <td>10</td>\n      <td>10</td>\n      <td>0</td>\n      <td>0</td>\n      <td>2020-02-09 18:00:00</td>\n      <td>27</td>\n      <td>24</td>\n      <td>3</td>\n      <td>0</td>\n    </tr>\n    <tr>\n      <th>660</th>\n      <td>2020-02-08 18:00:00</td>\n      <td>10</td>\n      <td>10</td>\n      <td>0</td>\n      <td>0</td>\n      <td>2020-02-08 18:00:00</td>\n      <td>24</td>\n      <td>22</td>\n      <td>2</td>\n      <td>0</td>\n    </tr>\n    <tr>\n      <th>661</th>\n      <td>2020-02-07 18:00:00</td>\n      <td>10</td>\n      <td>10</td>\n      <td>0</td>\n      <td>0</td>\n      <td>2020-02-07 18:00:00</td>\n      <td>24</td>\n      <td>22</td>\n      <td>2</td>\n      <td>0</td>\n    </tr>\n    <tr>\n      <th>662</th>\n      <td>2020-02-06 09:00:00</td>\n      <td>11</td>\n      <td>11</td>\n      <td>0</td>\n      <td>0</td>\n      <td>2020-02-06 09:00:00</td>\n      <td>24</td>\n      <td>23</td>\n      <td>1</td>\n      <td>0</td>\n    </tr>\n    <tr>\n      <th>663</th>\n      <td>2020-02-05 15:00:00</td>\n      <td>8</td>\n      <td>8</td>\n      <td>0</td>\n      <td>0</td>\n      <td>2020-02-05 15:00:00</td>\n      <td>18</td>\n      <td>18</td>\n      <td>0</td>\n      <td>0</td>\n    </tr>\n  </tbody>\n</table>\n<p>664 rows × 10 columns</p>\n</div>"
     },
     "execution_count": 110,
     "metadata": {},
     "output_type": "execute_result"
    }
   ],
   "source": [
    "df.drop(columns=['서울시 추가 확진', '서울시 추가 퇴원', '전국 추가 확진'], inplace=True)\n",
    "df"
   ],
   "metadata": {
    "collapsed": false,
    "pycharm": {
     "name": "#%%\n"
    }
   }
  },
  {
   "cell_type": "markdown",
   "source": [
    "## 저장"
   ],
   "metadata": {
    "collapsed": false,
    "pycharm": {
     "name": "#%% md\n"
    }
   }
  },
  {
   "cell_type": "code",
   "execution_count": 149,
   "outputs": [
    {
     "data": {
      "text/plain": "                서울시 기준일  서울시 확진자  서울시 추가 확진  서울시 치료중  서울시 퇴원  서울시 추가 퇴원  \\\n0   2021-12-04 00:00:00   163146       2273    25818  136150       1064   \n1   2021-12-03 00:00:00   160873       2099    24639  135086       1889   \n2   2021-12-02 00:00:00   158774       2268    24441  133197       1330   \n3   2021-12-01 00:00:00   156507       2222    23527  131867       1299   \n4   2021-11-30 00:00:00   154286       1186    22618  130568       1264   \n..                  ...      ...        ...      ...     ...        ...   \n659 2020-02-09 18:00:00       10          0       10       0          0   \n660 2020-02-08 18:00:00       10          0       10       0          0   \n661 2020-02-07 18:00:00       10          0       10       0          0   \n662 2020-02-06 09:00:00       11          0       11       0          0   \n663 2020-02-05 15:00:00        8          0        8       0          0   \n\n     서울시 사망              전국 기준일   전국 확진  전국 추가 확진  전국 치료중   전국 퇴원  전국 사망  \n0      1178 2021-12-04 00:00:00  467907      5352   58555  405543   3809  \n1      1148 2021-12-03 00:00:00  462555      4944   55397  403419   3739  \n2      1136 2021-12-02 00:00:00  457612      5266   53322  400585   3705  \n3      1113 2021-12-01 00:00:00  452350      5123   50368  398323   3659  \n4      1100 2021-11-30 00:00:00  447230      3032   47536  396070   3624  \n..      ...                 ...     ...       ...     ...     ...    ...  \n659       0 2020-02-09 18:00:00      27         0      24       3      0  \n660       0 2020-02-08 18:00:00      24         0      22       2      0  \n661       0 2020-02-07 18:00:00      24         0      22       2      0  \n662       0 2020-02-06 09:00:00      24         0      23       1      0  \n663       0 2020-02-05 15:00:00      18         0      18       0      0  \n\n[664 rows x 13 columns]",
      "text/html": "<div>\n<style scoped>\n    .dataframe tbody tr th:only-of-type {\n        vertical-align: middle;\n    }\n\n    .dataframe tbody tr th {\n        vertical-align: top;\n    }\n\n    .dataframe thead th {\n        text-align: right;\n    }\n</style>\n<table border=\"1\" class=\"dataframe\">\n  <thead>\n    <tr style=\"text-align: right;\">\n      <th></th>\n      <th>서울시 기준일</th>\n      <th>서울시 확진자</th>\n      <th>서울시 추가 확진</th>\n      <th>서울시 치료중</th>\n      <th>서울시 퇴원</th>\n      <th>서울시 추가 퇴원</th>\n      <th>서울시 사망</th>\n      <th>전국 기준일</th>\n      <th>전국 확진</th>\n      <th>전국 추가 확진</th>\n      <th>전국 치료중</th>\n      <th>전국 퇴원</th>\n      <th>전국 사망</th>\n    </tr>\n  </thead>\n  <tbody>\n    <tr>\n      <th>0</th>\n      <td>2021-12-04 00:00:00</td>\n      <td>163146</td>\n      <td>2273</td>\n      <td>25818</td>\n      <td>136150</td>\n      <td>1064</td>\n      <td>1178</td>\n      <td>2021-12-04 00:00:00</td>\n      <td>467907</td>\n      <td>5352</td>\n      <td>58555</td>\n      <td>405543</td>\n      <td>3809</td>\n    </tr>\n    <tr>\n      <th>1</th>\n      <td>2021-12-03 00:00:00</td>\n      <td>160873</td>\n      <td>2099</td>\n      <td>24639</td>\n      <td>135086</td>\n      <td>1889</td>\n      <td>1148</td>\n      <td>2021-12-03 00:00:00</td>\n      <td>462555</td>\n      <td>4944</td>\n      <td>55397</td>\n      <td>403419</td>\n      <td>3739</td>\n    </tr>\n    <tr>\n      <th>2</th>\n      <td>2021-12-02 00:00:00</td>\n      <td>158774</td>\n      <td>2268</td>\n      <td>24441</td>\n      <td>133197</td>\n      <td>1330</td>\n      <td>1136</td>\n      <td>2021-12-02 00:00:00</td>\n      <td>457612</td>\n      <td>5266</td>\n      <td>53322</td>\n      <td>400585</td>\n      <td>3705</td>\n    </tr>\n    <tr>\n      <th>3</th>\n      <td>2021-12-01 00:00:00</td>\n      <td>156507</td>\n      <td>2222</td>\n      <td>23527</td>\n      <td>131867</td>\n      <td>1299</td>\n      <td>1113</td>\n      <td>2021-12-01 00:00:00</td>\n      <td>452350</td>\n      <td>5123</td>\n      <td>50368</td>\n      <td>398323</td>\n      <td>3659</td>\n    </tr>\n    <tr>\n      <th>4</th>\n      <td>2021-11-30 00:00:00</td>\n      <td>154286</td>\n      <td>1186</td>\n      <td>22618</td>\n      <td>130568</td>\n      <td>1264</td>\n      <td>1100</td>\n      <td>2021-11-30 00:00:00</td>\n      <td>447230</td>\n      <td>3032</td>\n      <td>47536</td>\n      <td>396070</td>\n      <td>3624</td>\n    </tr>\n    <tr>\n      <th>...</th>\n      <td>...</td>\n      <td>...</td>\n      <td>...</td>\n      <td>...</td>\n      <td>...</td>\n      <td>...</td>\n      <td>...</td>\n      <td>...</td>\n      <td>...</td>\n      <td>...</td>\n      <td>...</td>\n      <td>...</td>\n      <td>...</td>\n    </tr>\n    <tr>\n      <th>659</th>\n      <td>2020-02-09 18:00:00</td>\n      <td>10</td>\n      <td>0</td>\n      <td>10</td>\n      <td>0</td>\n      <td>0</td>\n      <td>0</td>\n      <td>2020-02-09 18:00:00</td>\n      <td>27</td>\n      <td>0</td>\n      <td>24</td>\n      <td>3</td>\n      <td>0</td>\n    </tr>\n    <tr>\n      <th>660</th>\n      <td>2020-02-08 18:00:00</td>\n      <td>10</td>\n      <td>0</td>\n      <td>10</td>\n      <td>0</td>\n      <td>0</td>\n      <td>0</td>\n      <td>2020-02-08 18:00:00</td>\n      <td>24</td>\n      <td>0</td>\n      <td>22</td>\n      <td>2</td>\n      <td>0</td>\n    </tr>\n    <tr>\n      <th>661</th>\n      <td>2020-02-07 18:00:00</td>\n      <td>10</td>\n      <td>0</td>\n      <td>10</td>\n      <td>0</td>\n      <td>0</td>\n      <td>0</td>\n      <td>2020-02-07 18:00:00</td>\n      <td>24</td>\n      <td>0</td>\n      <td>22</td>\n      <td>2</td>\n      <td>0</td>\n    </tr>\n    <tr>\n      <th>662</th>\n      <td>2020-02-06 09:00:00</td>\n      <td>11</td>\n      <td>0</td>\n      <td>11</td>\n      <td>0</td>\n      <td>0</td>\n      <td>0</td>\n      <td>2020-02-06 09:00:00</td>\n      <td>24</td>\n      <td>0</td>\n      <td>23</td>\n      <td>1</td>\n      <td>0</td>\n    </tr>\n    <tr>\n      <th>663</th>\n      <td>2020-02-05 15:00:00</td>\n      <td>8</td>\n      <td>0</td>\n      <td>8</td>\n      <td>0</td>\n      <td>0</td>\n      <td>0</td>\n      <td>2020-02-05 15:00:00</td>\n      <td>18</td>\n      <td>0</td>\n      <td>18</td>\n      <td>0</td>\n      <td>0</td>\n    </tr>\n  </tbody>\n</table>\n<p>664 rows × 13 columns</p>\n</div>"
     },
     "execution_count": 149,
     "metadata": {},
     "output_type": "execute_result"
    }
   ],
   "source": [
    "df.to_csv(PATH + 'trends-extend.csv', index=False)\n",
    "df"
   ],
   "metadata": {
    "collapsed": false,
    "pycharm": {
     "name": "#%%\n"
    }
   }
  },
  {
   "cell_type": "code",
   "execution_count": 150,
   "outputs": [
    {
     "data": {
      "text/plain": "163146"
     },
     "execution_count": 150,
     "metadata": {},
     "output_type": "execute_result"
    }
   ],
   "source": [
    "df.iloc[0, 1]"
   ],
   "metadata": {
    "collapsed": false,
    "pycharm": {
     "name": "#%%\n"
    }
   }
  },
  {
   "cell_type": "code",
   "execution_count": 114,
   "outputs": [
    {
     "data": {
      "text/plain": "                 서울시 기준일  서울시 확진자  서울시 치료중  서울시 퇴원  서울시 사망  \\\n0    2021-12-04 00:00:00   163146    25818  136150    1178   \n1    2021-12-03 00:00:00   160873    24639  135086    1148   \n2    2021-12-02 00:00:00   158774    24441  133197    1136   \n3    2021-12-01 00:00:00   156507    23527  131867    1113   \n4    2021-11-30 00:00:00   154286    22618  130568    1100   \n..                   ...      ...      ...     ...     ...   \n659  2020-02-09 18:00:00       10       10       0       0   \n660  2020-02-08 18:00:00       10       10       0       0   \n661  2020-02-07 18:00:00       10       10       0       0   \n662  2020-02-06 09:00:00       11       11       0       0   \n663  2020-02-05 15:00:00        8        8       0       0   \n\n                  전국 기준일   전국 확진  전국 치료중   전국 퇴원  전국 사망  \n0    2021-12-04 00:00:00  467907   58555  405543   3809  \n1    2021-12-03 00:00:00  462555   55397  403419   3739  \n2    2021-12-02 00:00:00  457612   53322  400585   3705  \n3    2021-12-01 00:00:00  452350   50368  398323   3659  \n4    2021-11-30 00:00:00  447230   47536  396070   3624  \n..                   ...     ...     ...     ...    ...  \n659  2020-02-09 18:00:00      27      24       3      0  \n660  2020-02-08 18:00:00      24      22       2      0  \n661  2020-02-07 18:00:00      24      22       2      0  \n662  2020-02-06 09:00:00      24      23       1      0  \n663  2020-02-05 15:00:00      18      18       0      0  \n\n[664 rows x 10 columns]",
      "text/html": "<div>\n<style scoped>\n    .dataframe tbody tr th:only-of-type {\n        vertical-align: middle;\n    }\n\n    .dataframe tbody tr th {\n        vertical-align: top;\n    }\n\n    .dataframe thead th {\n        text-align: right;\n    }\n</style>\n<table border=\"1\" class=\"dataframe\">\n  <thead>\n    <tr style=\"text-align: right;\">\n      <th></th>\n      <th>서울시 기준일</th>\n      <th>서울시 확진자</th>\n      <th>서울시 치료중</th>\n      <th>서울시 퇴원</th>\n      <th>서울시 사망</th>\n      <th>전국 기준일</th>\n      <th>전국 확진</th>\n      <th>전국 치료중</th>\n      <th>전국 퇴원</th>\n      <th>전국 사망</th>\n    </tr>\n  </thead>\n  <tbody>\n    <tr>\n      <th>0</th>\n      <td>2021-12-04 00:00:00</td>\n      <td>163146</td>\n      <td>25818</td>\n      <td>136150</td>\n      <td>1178</td>\n      <td>2021-12-04 00:00:00</td>\n      <td>467907</td>\n      <td>58555</td>\n      <td>405543</td>\n      <td>3809</td>\n    </tr>\n    <tr>\n      <th>1</th>\n      <td>2021-12-03 00:00:00</td>\n      <td>160873</td>\n      <td>24639</td>\n      <td>135086</td>\n      <td>1148</td>\n      <td>2021-12-03 00:00:00</td>\n      <td>462555</td>\n      <td>55397</td>\n      <td>403419</td>\n      <td>3739</td>\n    </tr>\n    <tr>\n      <th>2</th>\n      <td>2021-12-02 00:00:00</td>\n      <td>158774</td>\n      <td>24441</td>\n      <td>133197</td>\n      <td>1136</td>\n      <td>2021-12-02 00:00:00</td>\n      <td>457612</td>\n      <td>53322</td>\n      <td>400585</td>\n      <td>3705</td>\n    </tr>\n    <tr>\n      <th>3</th>\n      <td>2021-12-01 00:00:00</td>\n      <td>156507</td>\n      <td>23527</td>\n      <td>131867</td>\n      <td>1113</td>\n      <td>2021-12-01 00:00:00</td>\n      <td>452350</td>\n      <td>50368</td>\n      <td>398323</td>\n      <td>3659</td>\n    </tr>\n    <tr>\n      <th>4</th>\n      <td>2021-11-30 00:00:00</td>\n      <td>154286</td>\n      <td>22618</td>\n      <td>130568</td>\n      <td>1100</td>\n      <td>2021-11-30 00:00:00</td>\n      <td>447230</td>\n      <td>47536</td>\n      <td>396070</td>\n      <td>3624</td>\n    </tr>\n    <tr>\n      <th>...</th>\n      <td>...</td>\n      <td>...</td>\n      <td>...</td>\n      <td>...</td>\n      <td>...</td>\n      <td>...</td>\n      <td>...</td>\n      <td>...</td>\n      <td>...</td>\n      <td>...</td>\n    </tr>\n    <tr>\n      <th>659</th>\n      <td>2020-02-09 18:00:00</td>\n      <td>10</td>\n      <td>10</td>\n      <td>0</td>\n      <td>0</td>\n      <td>2020-02-09 18:00:00</td>\n      <td>27</td>\n      <td>24</td>\n      <td>3</td>\n      <td>0</td>\n    </tr>\n    <tr>\n      <th>660</th>\n      <td>2020-02-08 18:00:00</td>\n      <td>10</td>\n      <td>10</td>\n      <td>0</td>\n      <td>0</td>\n      <td>2020-02-08 18:00:00</td>\n      <td>24</td>\n      <td>22</td>\n      <td>2</td>\n      <td>0</td>\n    </tr>\n    <tr>\n      <th>661</th>\n      <td>2020-02-07 18:00:00</td>\n      <td>10</td>\n      <td>10</td>\n      <td>0</td>\n      <td>0</td>\n      <td>2020-02-07 18:00:00</td>\n      <td>24</td>\n      <td>22</td>\n      <td>2</td>\n      <td>0</td>\n    </tr>\n    <tr>\n      <th>662</th>\n      <td>2020-02-06 09:00:00</td>\n      <td>11</td>\n      <td>11</td>\n      <td>0</td>\n      <td>0</td>\n      <td>2020-02-06 09:00:00</td>\n      <td>24</td>\n      <td>23</td>\n      <td>1</td>\n      <td>0</td>\n    </tr>\n    <tr>\n      <th>663</th>\n      <td>2020-02-05 15:00:00</td>\n      <td>8</td>\n      <td>8</td>\n      <td>0</td>\n      <td>0</td>\n      <td>2020-02-05 15:00:00</td>\n      <td>18</td>\n      <td>18</td>\n      <td>0</td>\n      <td>0</td>\n    </tr>\n  </tbody>\n</table>\n<p>664 rows × 10 columns</p>\n</div>"
     },
     "execution_count": 114,
     "metadata": {},
     "output_type": "execute_result"
    }
   ],
   "source": [
    "df = pd.read_csv('~/data/trends.csv')\n",
    "df"
   ],
   "metadata": {
    "collapsed": false,
    "pycharm": {
     "name": "#%%\n"
    }
   }
  },
  {
   "cell_type": "code",
   "execution_count": 156,
   "outputs": [
    {
     "data": {
      "text/plain": "['__add__',\n '__array_priority__',\n '__class__',\n '__delattr__',\n '__dict__',\n '__dir__',\n '__doc__',\n '__eq__',\n '__format__',\n '__ge__',\n '__getattribute__',\n '__gt__',\n '__hash__',\n '__init__',\n '__init_subclass__',\n '__le__',\n '__lt__',\n '__module__',\n '__ne__',\n '__new__',\n '__pyx_vtable__',\n '__radd__',\n '__reduce__',\n '__reduce_cython__',\n '__reduce_ex__',\n '__repr__',\n '__rsub__',\n '__setattr__',\n '__setstate__',\n '__setstate_cython__',\n '__sizeof__',\n '__str__',\n '__sub__',\n '__subclasshook__',\n '__weakref__',\n '_date_repr',\n '_freq',\n '_freqstr',\n '_repr_base',\n '_round',\n '_set_freq',\n '_short_repr',\n '_time_repr',\n 'asm8',\n 'astimezone',\n 'ceil',\n 'combine',\n 'ctime',\n 'date',\n 'day',\n 'day_name',\n 'day_of_week',\n 'day_of_year',\n 'dayofweek',\n 'dayofyear',\n 'days_in_month',\n 'daysinmonth',\n 'dst',\n 'floor',\n 'fold',\n 'freq',\n 'freqstr',\n 'fromisocalendar',\n 'fromisoformat',\n 'fromordinal',\n 'fromtimestamp',\n 'hour',\n 'is_leap_year',\n 'is_month_end',\n 'is_month_start',\n 'is_quarter_end',\n 'is_quarter_start',\n 'is_year_end',\n 'is_year_start',\n 'isocalendar',\n 'isoformat',\n 'isoweekday',\n 'max',\n 'microsecond',\n 'min',\n 'minute',\n 'month',\n 'month_name',\n 'nanosecond',\n 'normalize',\n 'now',\n 'quarter',\n 'replace',\n 'resolution',\n 'round',\n 'second',\n 'strftime',\n 'strptime',\n 'time',\n 'timestamp',\n 'timetuple',\n 'timetz',\n 'to_datetime64',\n 'to_julian_date',\n 'to_numpy',\n 'to_period',\n 'to_pydatetime',\n 'today',\n 'toordinal',\n 'tz',\n 'tz_convert',\n 'tz_localize',\n 'tzinfo',\n 'tzname',\n 'utcfromtimestamp',\n 'utcnow',\n 'utcoffset',\n 'utctimetuple',\n 'value',\n 'week',\n 'weekday',\n 'weekofyear',\n 'year']"
     },
     "execution_count": 156,
     "metadata": {},
     "output_type": "execute_result"
    }
   ],
   "source": [
    "dir(time)"
   ],
   "metadata": {
    "collapsed": false,
    "pycharm": {
     "name": "#%%\n"
    }
   }
  },
  {
   "cell_type": "code",
   "execution_count": 162,
   "outputs": [
    {
     "name": "stdout",
     "output_type": "stream",
     "text": [
      "2021-12-04\n"
     ]
    }
   ],
   "source": [
    "time = df.iloc[0][0]\n",
    "print(time.date())"
   ],
   "metadata": {
    "collapsed": false,
    "pycharm": {
     "name": "#%%\n"
    }
   }
  },
  {
   "cell_type": "code",
   "execution_count": 132,
   "outputs": [
    {
     "data": {
      "text/plain": "                     서울시 확진자  서울시 치료중  서울시 퇴원  서울시 사망\n서울시 기준일                                              \n2021-12-04 00:00:00   163146    25818  136150    1178\n2021-12-03 00:00:00   160873    24639  135086    1148\n2021-12-02 00:00:00   158774    24441  133197    1136\n2021-12-01 00:00:00   156507    23527  131867    1113\n2021-11-30 00:00:00   154286    22618  130568    1100\n...                      ...      ...     ...     ...\n2020-02-09 18:00:00       10       10       0       0\n2020-02-08 18:00:00       10       10       0       0\n2020-02-07 18:00:00       10       10       0       0\n2020-02-06 09:00:00       11       11       0       0\n2020-02-05 15:00:00        8        8       0       0\n\n[664 rows x 4 columns]",
      "text/html": "<div>\n<style scoped>\n    .dataframe tbody tr th:only-of-type {\n        vertical-align: middle;\n    }\n\n    .dataframe tbody tr th {\n        vertical-align: top;\n    }\n\n    .dataframe thead th {\n        text-align: right;\n    }\n</style>\n<table border=\"1\" class=\"dataframe\">\n  <thead>\n    <tr style=\"text-align: right;\">\n      <th></th>\n      <th>서울시 확진자</th>\n      <th>서울시 치료중</th>\n      <th>서울시 퇴원</th>\n      <th>서울시 사망</th>\n    </tr>\n    <tr>\n      <th>서울시 기준일</th>\n      <th></th>\n      <th></th>\n      <th></th>\n      <th></th>\n    </tr>\n  </thead>\n  <tbody>\n    <tr>\n      <th>2021-12-04 00:00:00</th>\n      <td>163146</td>\n      <td>25818</td>\n      <td>136150</td>\n      <td>1178</td>\n    </tr>\n    <tr>\n      <th>2021-12-03 00:00:00</th>\n      <td>160873</td>\n      <td>24639</td>\n      <td>135086</td>\n      <td>1148</td>\n    </tr>\n    <tr>\n      <th>2021-12-02 00:00:00</th>\n      <td>158774</td>\n      <td>24441</td>\n      <td>133197</td>\n      <td>1136</td>\n    </tr>\n    <tr>\n      <th>2021-12-01 00:00:00</th>\n      <td>156507</td>\n      <td>23527</td>\n      <td>131867</td>\n      <td>1113</td>\n    </tr>\n    <tr>\n      <th>2021-11-30 00:00:00</th>\n      <td>154286</td>\n      <td>22618</td>\n      <td>130568</td>\n      <td>1100</td>\n    </tr>\n    <tr>\n      <th>...</th>\n      <td>...</td>\n      <td>...</td>\n      <td>...</td>\n      <td>...</td>\n    </tr>\n    <tr>\n      <th>2020-02-09 18:00:00</th>\n      <td>10</td>\n      <td>10</td>\n      <td>0</td>\n      <td>0</td>\n    </tr>\n    <tr>\n      <th>2020-02-08 18:00:00</th>\n      <td>10</td>\n      <td>10</td>\n      <td>0</td>\n      <td>0</td>\n    </tr>\n    <tr>\n      <th>2020-02-07 18:00:00</th>\n      <td>10</td>\n      <td>10</td>\n      <td>0</td>\n      <td>0</td>\n    </tr>\n    <tr>\n      <th>2020-02-06 09:00:00</th>\n      <td>11</td>\n      <td>11</td>\n      <td>0</td>\n      <td>0</td>\n    </tr>\n    <tr>\n      <th>2020-02-05 15:00:00</th>\n      <td>8</td>\n      <td>8</td>\n      <td>0</td>\n      <td>0</td>\n    </tr>\n  </tbody>\n</table>\n<p>664 rows × 4 columns</p>\n</div>"
     },
     "execution_count": 132,
     "metadata": {},
     "output_type": "execute_result"
    }
   ],
   "source": [
    "df_seoul = df.iloc[:,[0,1,2,3,4]]\n",
    "df_seoul.set_index('서울시 기준일')"
   ],
   "metadata": {
    "collapsed": false,
    "pycharm": {
     "name": "#%%\n"
    }
   }
  },
  {
   "cell_type": "code",
   "execution_count": null,
   "outputs": [],
   "source": [
    "df_new = df.astype(str)\n",
    "df_new"
   ],
   "metadata": {
    "collapsed": false,
    "pycharm": {
     "name": "#%%\n"
    }
   }
  },
  {
   "cell_type": "code",
   "execution_count": 120,
   "outputs": [
    {
     "data": {
      "text/plain": "                 서울시 기준일 서울시 확진자 서울시 치료중  서울시 퇴원 서울시 사망               전국 기준일  \\\n0    2021-12-04 00:00:00  163146   25818  136150   1178  2021-12-04 00:00:00   \n30   2021-10-29 00:00:00  118128   11177  106165    786  2021-10-29 00:00:00   \n60   2021-09-29 00:00:00   99550   13553   85358    639  2021-09-29 00:00:00   \n90   2021-08-30 00:00:00   78899    9280   69037    582  2021-08-30 00:00:00   \n120  2021-07-31 00:00:00   64359    7760   56065    534  2021-07-31 00:00:00   \n150  2021-07-01 00:00:00   50321    3214   46593    514  2021-07-01 00:00:00   \n180  2021-06-01 00:00:00   44064    2541   41032    491  2021-06-01 00:00:00   \n210  2021-05-03 00:00:00   38341    2781   35109    451  2021-05-03 00:00:00   \n240  2021-04-03 00:00:00   32551    2148   29976    427  2021-04-03 00:00:00   \n270  2021-03-04 00:00:00   28691    2884   25419    388  2021-03-04 00:00:00   \n300  2021-02-02 00:00:00   24395    3584   20485    326  2021-02-02 00:00:00   \n330  2021-01-03 00:00:00   19809    8099   11521    189  2021-01-03 00:00:00   \n360  2020-12-04 00:00:00    9716    2845    6774     97  2020-12-04 00:00:00   \n390  2020-11-04 00:00:00    6145     495    5572     78  2020-11-04 00:00:00   \n420  2020-10-05 00:00:00    5395     859    4475     61  2020-10-05 00:00:00   \n450  2020-09-05 00:00:00    4251    2006    2220     25  2020-09-05 00:00:00   \n480  2020-08-06 00:00:00    1636     136    1488     12  2020-08-06 00:00:00   \n510  2020-07-07 00:00:00    1375     223    1144      8  2020-07-07 00:00:00   \n540  2020-06-07 10:00:00     979     324     651      4  2020-06-07 00:00:00   \n570  2020-05-08 10:00:00     648     126     520      2  2020-05-08 00:00:00   \n600  2020-04-08 10:00:00     581     410     169      2  2020-04-08 00:00:00   \n630  2020-03-09 10:00:00     130     101      29      0  2020-03-09 00:00:00   \n660  2020-02-08 18:00:00      10      10       0      0  2020-02-08 18:00:00   \n\n      전국 확진 전국 치료중   전국 퇴원 전국 사망  \n0    467907  58555  405543  3809  \n30   360536  24724  332995  2817  \n60   308725  33527  272724  2474  \n90   250051  27409  220358  2284  \n120  198345  22073  174177  2095  \n150  157723   7678  148024  2021  \n180  140799   7373  131463  1963  \n210  123728   8538  113356  1834  \n240  104736   6800   96196  1740  \n270   91240   7459   82162  1619  \n300   78844   8634   68775  1435  \n330   63244  17775   44507   962  \n360   36332   7185   28611   536  \n390   26925   1835   24616   474  \n420   24164   1856   21886   422  \n450   21010   4668   16009   333  \n480   14499    697   13500   302  \n510   13181    982   11914   285  \n540   11776    951   10552   273  \n570   10822   1082    9484   256  \n600   10384   3408    6776   200  \n630    7382   7165     166    51  \n660      24     22       2     0  ",
      "text/html": "<div>\n<style scoped>\n    .dataframe tbody tr th:only-of-type {\n        vertical-align: middle;\n    }\n\n    .dataframe tbody tr th {\n        vertical-align: top;\n    }\n\n    .dataframe thead th {\n        text-align: right;\n    }\n</style>\n<table border=\"1\" class=\"dataframe\">\n  <thead>\n    <tr style=\"text-align: right;\">\n      <th></th>\n      <th>서울시 기준일</th>\n      <th>서울시 확진자</th>\n      <th>서울시 치료중</th>\n      <th>서울시 퇴원</th>\n      <th>서울시 사망</th>\n      <th>전국 기준일</th>\n      <th>전국 확진</th>\n      <th>전국 치료중</th>\n      <th>전국 퇴원</th>\n      <th>전국 사망</th>\n    </tr>\n  </thead>\n  <tbody>\n    <tr>\n      <th>0</th>\n      <td>2021-12-04 00:00:00</td>\n      <td>163146</td>\n      <td>25818</td>\n      <td>136150</td>\n      <td>1178</td>\n      <td>2021-12-04 00:00:00</td>\n      <td>467907</td>\n      <td>58555</td>\n      <td>405543</td>\n      <td>3809</td>\n    </tr>\n    <tr>\n      <th>30</th>\n      <td>2021-10-29 00:00:00</td>\n      <td>118128</td>\n      <td>11177</td>\n      <td>106165</td>\n      <td>786</td>\n      <td>2021-10-29 00:00:00</td>\n      <td>360536</td>\n      <td>24724</td>\n      <td>332995</td>\n      <td>2817</td>\n    </tr>\n    <tr>\n      <th>60</th>\n      <td>2021-09-29 00:00:00</td>\n      <td>99550</td>\n      <td>13553</td>\n      <td>85358</td>\n      <td>639</td>\n      <td>2021-09-29 00:00:00</td>\n      <td>308725</td>\n      <td>33527</td>\n      <td>272724</td>\n      <td>2474</td>\n    </tr>\n    <tr>\n      <th>90</th>\n      <td>2021-08-30 00:00:00</td>\n      <td>78899</td>\n      <td>9280</td>\n      <td>69037</td>\n      <td>582</td>\n      <td>2021-08-30 00:00:00</td>\n      <td>250051</td>\n      <td>27409</td>\n      <td>220358</td>\n      <td>2284</td>\n    </tr>\n    <tr>\n      <th>120</th>\n      <td>2021-07-31 00:00:00</td>\n      <td>64359</td>\n      <td>7760</td>\n      <td>56065</td>\n      <td>534</td>\n      <td>2021-07-31 00:00:00</td>\n      <td>198345</td>\n      <td>22073</td>\n      <td>174177</td>\n      <td>2095</td>\n    </tr>\n    <tr>\n      <th>150</th>\n      <td>2021-07-01 00:00:00</td>\n      <td>50321</td>\n      <td>3214</td>\n      <td>46593</td>\n      <td>514</td>\n      <td>2021-07-01 00:00:00</td>\n      <td>157723</td>\n      <td>7678</td>\n      <td>148024</td>\n      <td>2021</td>\n    </tr>\n    <tr>\n      <th>180</th>\n      <td>2021-06-01 00:00:00</td>\n      <td>44064</td>\n      <td>2541</td>\n      <td>41032</td>\n      <td>491</td>\n      <td>2021-06-01 00:00:00</td>\n      <td>140799</td>\n      <td>7373</td>\n      <td>131463</td>\n      <td>1963</td>\n    </tr>\n    <tr>\n      <th>210</th>\n      <td>2021-05-03 00:00:00</td>\n      <td>38341</td>\n      <td>2781</td>\n      <td>35109</td>\n      <td>451</td>\n      <td>2021-05-03 00:00:00</td>\n      <td>123728</td>\n      <td>8538</td>\n      <td>113356</td>\n      <td>1834</td>\n    </tr>\n    <tr>\n      <th>240</th>\n      <td>2021-04-03 00:00:00</td>\n      <td>32551</td>\n      <td>2148</td>\n      <td>29976</td>\n      <td>427</td>\n      <td>2021-04-03 00:00:00</td>\n      <td>104736</td>\n      <td>6800</td>\n      <td>96196</td>\n      <td>1740</td>\n    </tr>\n    <tr>\n      <th>270</th>\n      <td>2021-03-04 00:00:00</td>\n      <td>28691</td>\n      <td>2884</td>\n      <td>25419</td>\n      <td>388</td>\n      <td>2021-03-04 00:00:00</td>\n      <td>91240</td>\n      <td>7459</td>\n      <td>82162</td>\n      <td>1619</td>\n    </tr>\n    <tr>\n      <th>300</th>\n      <td>2021-02-02 00:00:00</td>\n      <td>24395</td>\n      <td>3584</td>\n      <td>20485</td>\n      <td>326</td>\n      <td>2021-02-02 00:00:00</td>\n      <td>78844</td>\n      <td>8634</td>\n      <td>68775</td>\n      <td>1435</td>\n    </tr>\n    <tr>\n      <th>330</th>\n      <td>2021-01-03 00:00:00</td>\n      <td>19809</td>\n      <td>8099</td>\n      <td>11521</td>\n      <td>189</td>\n      <td>2021-01-03 00:00:00</td>\n      <td>63244</td>\n      <td>17775</td>\n      <td>44507</td>\n      <td>962</td>\n    </tr>\n    <tr>\n      <th>360</th>\n      <td>2020-12-04 00:00:00</td>\n      <td>9716</td>\n      <td>2845</td>\n      <td>6774</td>\n      <td>97</td>\n      <td>2020-12-04 00:00:00</td>\n      <td>36332</td>\n      <td>7185</td>\n      <td>28611</td>\n      <td>536</td>\n    </tr>\n    <tr>\n      <th>390</th>\n      <td>2020-11-04 00:00:00</td>\n      <td>6145</td>\n      <td>495</td>\n      <td>5572</td>\n      <td>78</td>\n      <td>2020-11-04 00:00:00</td>\n      <td>26925</td>\n      <td>1835</td>\n      <td>24616</td>\n      <td>474</td>\n    </tr>\n    <tr>\n      <th>420</th>\n      <td>2020-10-05 00:00:00</td>\n      <td>5395</td>\n      <td>859</td>\n      <td>4475</td>\n      <td>61</td>\n      <td>2020-10-05 00:00:00</td>\n      <td>24164</td>\n      <td>1856</td>\n      <td>21886</td>\n      <td>422</td>\n    </tr>\n    <tr>\n      <th>450</th>\n      <td>2020-09-05 00:00:00</td>\n      <td>4251</td>\n      <td>2006</td>\n      <td>2220</td>\n      <td>25</td>\n      <td>2020-09-05 00:00:00</td>\n      <td>21010</td>\n      <td>4668</td>\n      <td>16009</td>\n      <td>333</td>\n    </tr>\n    <tr>\n      <th>480</th>\n      <td>2020-08-06 00:00:00</td>\n      <td>1636</td>\n      <td>136</td>\n      <td>1488</td>\n      <td>12</td>\n      <td>2020-08-06 00:00:00</td>\n      <td>14499</td>\n      <td>697</td>\n      <td>13500</td>\n      <td>302</td>\n    </tr>\n    <tr>\n      <th>510</th>\n      <td>2020-07-07 00:00:00</td>\n      <td>1375</td>\n      <td>223</td>\n      <td>1144</td>\n      <td>8</td>\n      <td>2020-07-07 00:00:00</td>\n      <td>13181</td>\n      <td>982</td>\n      <td>11914</td>\n      <td>285</td>\n    </tr>\n    <tr>\n      <th>540</th>\n      <td>2020-06-07 10:00:00</td>\n      <td>979</td>\n      <td>324</td>\n      <td>651</td>\n      <td>4</td>\n      <td>2020-06-07 00:00:00</td>\n      <td>11776</td>\n      <td>951</td>\n      <td>10552</td>\n      <td>273</td>\n    </tr>\n    <tr>\n      <th>570</th>\n      <td>2020-05-08 10:00:00</td>\n      <td>648</td>\n      <td>126</td>\n      <td>520</td>\n      <td>2</td>\n      <td>2020-05-08 00:00:00</td>\n      <td>10822</td>\n      <td>1082</td>\n      <td>9484</td>\n      <td>256</td>\n    </tr>\n    <tr>\n      <th>600</th>\n      <td>2020-04-08 10:00:00</td>\n      <td>581</td>\n      <td>410</td>\n      <td>169</td>\n      <td>2</td>\n      <td>2020-04-08 00:00:00</td>\n      <td>10384</td>\n      <td>3408</td>\n      <td>6776</td>\n      <td>200</td>\n    </tr>\n    <tr>\n      <th>630</th>\n      <td>2020-03-09 10:00:00</td>\n      <td>130</td>\n      <td>101</td>\n      <td>29</td>\n      <td>0</td>\n      <td>2020-03-09 00:00:00</td>\n      <td>7382</td>\n      <td>7165</td>\n      <td>166</td>\n      <td>51</td>\n    </tr>\n    <tr>\n      <th>660</th>\n      <td>2020-02-08 18:00:00</td>\n      <td>10</td>\n      <td>10</td>\n      <td>0</td>\n      <td>0</td>\n      <td>2020-02-08 18:00:00</td>\n      <td>24</td>\n      <td>22</td>\n      <td>2</td>\n      <td>0</td>\n    </tr>\n  </tbody>\n</table>\n</div>"
     },
     "execution_count": 120,
     "metadata": {},
     "output_type": "execute_result"
    }
   ],
   "source": [
    "df_new[::30]"
   ],
   "metadata": {
    "collapsed": false,
    "pycharm": {
     "name": "#%%\n"
    }
   }
  },
  {
   "cell_type": "code",
   "execution_count": null,
   "outputs": [],
   "source": [],
   "metadata": {
    "collapsed": false,
    "pycharm": {
     "name": "#%%\n"
    }
   }
  }
 ],
 "metadata": {
  "kernelspec": {
   "display_name": "Python 3",
   "language": "python",
   "name": "python3"
  },
  "language_info": {
   "codemirror_mode": {
    "name": "ipython",
    "version": 2
   },
   "file_extension": ".py",
   "mimetype": "text/x-python",
   "name": "python",
   "nbconvert_exporter": "python",
   "pygments_lexer": "ipython2",
   "version": "2.7.6"
  }
 },
 "nbformat": 4,
 "nbformat_minor": 0
}