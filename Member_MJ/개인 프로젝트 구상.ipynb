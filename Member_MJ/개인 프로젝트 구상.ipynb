{
 "cells": [
  {
   "cell_type": "markdown",
   "id": "5901e89c",
   "metadata": {
    "slideshow": {
     "slide_type": "slide"
    }
   },
   "source": [
    "## 데이터 분석이란 \n",
    "\n",
    "* 유용한 정보를 발굴하고 도출한 결론 내용을 공유, 의사결정을 지원하는 것을 목표로 데이터를 정리, 변환, 모델링하는 과정\n"
   ]
  },
  {
   "cell_type": "markdown",
   "id": "0b069d6f",
   "metadata": {
    "slideshow": {
     "slide_type": "slide"
    }
   },
   "source": [
    "# 나에게 데이터 분석이란 "
   ]
  },
  {
   "cell_type": "markdown",
   "id": "5543d859",
   "metadata": {
    "slideshow": {
     "slide_type": "slide"
    }
   },
   "source": [
    "<img src=\"https://i.ytimg.com/vi/rOM2Ub37-ds/maxresdefault.jpg\" width = \"1000px\" heigh=\"300px\"><img>"
   ]
  },
  {
   "cell_type": "markdown",
   "id": "3dc9d70b",
   "metadata": {
    "slideshow": {
     "slide_type": "slide"
    }
   },
   "source": [
    "## 매일 새로운 배움을 주고 어제와 다른 오늘을 만들어주는 Medicine"
   ]
  },
  {
   "cell_type": "markdown",
   "id": "7a559675",
   "metadata": {
    "slideshow": {
     "slide_type": "notes"
    }
   },
   "source": [
    "나에게 데이터 분석이란 무엇일까 라는 질문을 던졌을 때 이런 생각이 떠올랐습니다. \n",
    "이러한 맥락에서 비추어 봤을때 매일 새로운 배움을 주고 어제와 다른 오늘을 만들어주는 약이 아닌가? 라는 생각을 해보았습니다."
   ]
  },
  {
   "cell_type": "markdown",
   "id": "623d4407",
   "metadata": {
    "slideshow": {
     "slide_type": "slide"
    }
   },
   "source": [
    "##  - 개인 프로젝트- \n",
    "\n",
    "## NBA 시대별 플레이 스타일 변화  \n",
    "\n",
    "<img src=\"https://az2.hatstoremedia.com/hatstore/images/image-nba-caps-beanies-2017-12-28-084807832/555/555/0/nba-capser-luer.png\" width = \"700px\" heigh=\"300px\"><img>"
   ]
  },
  {
   "cell_type": "markdown",
   "id": "d7e769ac",
   "metadata": {
    "slideshow": {
     "slide_type": "slide"
    }
   },
   "source": [
    "### Problem Definition\n",
    "* 요즘 nba는 과거에 비해 플레이가 거칠지 못하고 부드럽다는 의견 다분 \n",
    "* 과거에 비해 과도하게 많아진 3점슛 시도률(현대에 와서 3점의 전략적 중요도가 올라감)\n",
    "* 포지션이라는 의미의 퇴색 "
   ]
  },
  {
   "cell_type": "markdown",
   "id": "c70bb1e1",
   "metadata": {
    "slideshow": {
     "slide_type": "slide"
    }
   },
   "source": [
    "## Data Collection\n",
    "\n",
    "* ESPN 사이트에서 선수 데이터 크롤링 \n",
    "* Kaggle Dataset 이용 \n",
    "* sports-statistics.com 데이터 이용"
   ]
  },
  {
   "cell_type": "markdown",
   "id": "55075e7d",
   "metadata": {
    "slideshow": {
     "slide_type": "slide"
    }
   },
   "source": [
    "## Data preprocessing \n",
    "\n",
    "* 배운 내용들과 구글선생님의 도움을 빌려 EDA"
   ]
  },
  {
   "cell_type": "markdown",
   "id": "ea567b98",
   "metadata": {
    "slideshow": {
     "slide_type": "slide"
    }
   },
   "source": [
    "## Analysis\n",
    "\n",
    "* NBA에서 과거에 비해 인사이드 공격 비중이 실제로 줄고 외곽에서의 공격비중이 늘어났는가(슛 빈도수 파악)\n",
    "* 10년 이상 NBA에서 뛴 선수들이 시대에 흐름에 따라 플레이 스타일에 변화가 일어났는가\n",
    "* 포지션 별로 플레이에 어떤 변화가 있어났을까 (ex 인사이드에서 플레이하는 센터의 3점슛 시도율)"
   ]
  }
 ],
 "metadata": {
  "celltoolbar": "Slideshow",
  "kernelspec": {
   "display_name": "Python 3",
   "language": "python",
   "name": "python3"
  },
  "language_info": {
   "codemirror_mode": {
    "name": "ipython",
    "version": 3
   },
   "file_extension": ".py",
   "mimetype": "text/x-python",
   "name": "python",
   "nbconvert_exporter": "python",
   "pygments_lexer": "ipython3",
   "version": "3.8.8"
  }
 },
 "nbformat": 4,
 "nbformat_minor": 5
}
