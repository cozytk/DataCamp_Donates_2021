{
 "cells": [
  {
   "cell_type": "markdown",
   "metadata": {},
   "source": [
    "# Matplotlib  time-series"
   ]
  },
  {
   "cell_type": "code",
   "execution_count": null,
   "metadata": {},
   "outputs": [],
   "source": [
    "import numpy as np\n",
    "import pandas as pd\n",
    "import matplotlib.pyplot as plt\n",
    "import os \n",
    "# os.chdir('C://Users//my/Desktop//')"
   ]
  },
  {
   "cell_type": "markdown",
   "metadata": {},
   "source": [
    "#### Parse_dates 사용해 데이터를 날짜 형식으로 불러오기"
   ]
  },
  {
   "cell_type": "code",
   "execution_count": null,
   "metadata": {},
   "outputs": [],
   "source": [
    "temp_2021 = pd.read_csv(\"temp_2021.csv\" , parse_dates = [\"date\"] , index_col = \"date\")\n",
    "temp_2020 = pd.read_csv(\"temp_2020.csv\" , parse_dates = [\"date\"] , index_col = \"date\")\n",
    "display(temp_2021.head(3) , temp_2020.head(3))"
   ]
  },
  {
   "cell_type": "markdown",
   "metadata": {},
   "source": [
    "#### shape : 행과 열의 개수를 튜플로 확인"
   ]
  },
  {
   "cell_type": "code",
   "execution_count": null,
   "metadata": {},
   "outputs": [],
   "source": [
    "display(temp_2021.shape,temp_2020.shape)"
   ]
  },
  {
   "cell_type": "markdown",
   "metadata": {},
   "source": [
    "#### Info : DF정보확인"
   ]
  },
  {
   "cell_type": "code",
   "execution_count": null,
   "metadata": {},
   "outputs": [],
   "source": [
    "temp_2021.info( )"
   ]
  },
  {
   "cell_type": "code",
   "execution_count": null,
   "metadata": {},
   "outputs": [],
   "source": [
    "temp_2020.info( )"
   ]
  },
  {
   "cell_type": "markdown",
   "metadata": {},
   "source": [
    "#### isna() : null값 확인"
   ]
  },
  {
   "cell_type": "code",
   "execution_count": null,
   "metadata": {},
   "outputs": [],
   "source": [
    "for col in temp_2021 :\n",
    "    print(np.round(temp_2021[col].isnull().sum()/ len(temp_2021[col]) *100 ,1 ),col)"
   ]
  },
  {
   "cell_type": "code",
   "execution_count": null,
   "metadata": {},
   "outputs": [],
   "source": [
    "for col in temp_2020 :\n",
    "    print(np.round(temp_2021[col].isnull().sum()/ len(temp_2021[col]) *100 ,1 ),col)"
   ]
  },
  {
   "cell_type": "markdown",
   "metadata": {},
   "source": [
    "#### dropna() : null값 제거 "
   ]
  },
  {
   "cell_type": "code",
   "execution_count": null,
   "metadata": {},
   "outputs": [],
   "source": [
    "temp_2021.dropna(inplace = True)\n",
    "temp_2020.dropna(inplace = True)"
   ]
  },
  {
   "cell_type": "code",
   "execution_count": null,
   "metadata": {},
   "outputs": [],
   "source": [
    "display(temp_2021.isna().sum() ,  temp_2020.isna().sum() )  # 확인"
   ]
  },
  {
   "cell_type": "markdown",
   "metadata": {},
   "source": [
    "## Object Oriented Interface"
   ]
  },
  {
   "cell_type": "markdown",
   "metadata": {},
   "source": [
    "#### temp_2021 "
   ]
  },
  {
   "cell_type": "code",
   "execution_count": null,
   "metadata": {},
   "outputs": [],
   "source": [
    "ig , ax = plt.subplots (figsize = (10,6) )\n",
    "\n",
    "ax.plot(temp_2021.index , temp_2021['temperature']  )   # 2021-10 월 날씨 동향 "
   ]
  },
  {
   "cell_type": "code",
   "execution_count": null,
   "metadata": {},
   "outputs": [],
   "source": [
    "fig, axes = plt.subplots(3,1)\n",
    "\n",
    "axes[0].plot(temp_2021.index ,  temp_2021['wind'] )\n",
    "axes[0].set_title(\"Wind\")\n",
    "\n",
    "axes[1].plot(temp_2021.index , temp_2021['moisture'] ,color = \"g\" )\n",
    "axes[1].set_ylim(25, 100)\n",
    "axes[1].set_title(\"Moisture\")\n",
    "\n",
    "axes[2].plot(temp_2021.index , temp_2021['rain'], color = \"b\")\n",
    "axes[2].set_title(\"Rain\")\n",
    "\n",
    "fig.tight_layout() # 메소드는 서브 플롯간에 올바른 간격을 자동으로 유지합니다.\n",
    "plt.subplots_adjust(left=0.1, right=0.95, bottom=0.1, top=0.95, wspace=0.7, hspace=0.5) #  #subplot 간 간격 조절"
   ]
  },
  {
   "cell_type": "markdown",
   "metadata": {},
   "source": [
    "#### temp_2020 "
   ]
  },
  {
   "cell_type": "code",
   "execution_count": null,
   "metadata": {},
   "outputs": [],
   "source": [
    "temp_2020 = temp_2020.loc['2020-10-1' : '2020-10-21 ']  # temp_2021 Data와 비교를 위해 날짜 맞춤 \n",
    "temp_2020.index"
   ]
  },
  {
   "cell_type": "markdown",
   "metadata": {},
   "source": [
    "### def 함수 사용 "
   ]
  },
  {
   "cell_type": "code",
   "execution_count": null,
   "metadata": {},
   "outputs": [],
   "source": [
    "def temp(axes , x, y ,color ,linestyle ) : \n",
    "    ax.plot(x,y , color = color ,linestyle = linestyle)\n",
    "    "
   ]
  },
  {
   "cell_type": "code",
   "execution_count": null,
   "metadata": {},
   "outputs": [],
   "source": [
    "fig ,ax = plt.subplots(figsize = (10,8))\n",
    "\n",
    "temp(ax , temp_2020.index , temp_2020['temperature'],  'g', '-')"
   ]
  },
  {
   "cell_type": "code",
   "execution_count": null,
   "metadata": {},
   "outputs": [],
   "source": [
    "fig, axes = plt.subplots(3,1)\n",
    "\n",
    "axes[0].plot(temp_2020.index , temp_2020['temperature'], color = 'b' ) \n",
    "axes[0].set_ylim(0,30)\n",
    "\n",
    "axes[1].plot(temp_2020.index ,  temp_2020['wind'] )\n",
    "\n",
    "axes[2].plot(temp_2020.index , temp_2020['moisture'] )\n",
    "axes[2].set_ylim(25, 100)\n",
    "\n",
    "plt.subplots_adjust(left=0.1, right=0.95, bottom=0.1, top=0.95, wspace=0.7, hspace=0.5) #  #subplot 간 간격 조절"
   ]
  },
  {
   "cell_type": "markdown",
   "metadata": {},
   "source": [
    "#### 2021-10 vs 2020-10  온도비교"
   ]
  },
  {
   "cell_type": "code",
   "execution_count": null,
   "metadata": {},
   "outputs": [],
   "source": [
    "#2021년 데이터와 2020년 데이터 날짜 동일하게 적용\n",
    "\n",
    "temp_2021 = temp_2021.reset_index()\n",
    "temp_2020 = temp_2020.reset_index()\n",
    "\n",
    "display(temp_2021.head(3), temp_2020.head(3))"
   ]
  },
  {
   "cell_type": "code",
   "execution_count": null,
   "metadata": {},
   "outputs": [],
   "source": [
    "def dt_index(x):\n",
    "    return str(x)[5:10]\n",
    "\"\"\"\n",
    "x = \"10\"\n",
    "y = \"01\" \n",
    "def dt_index2(x, y): # x = 월 \n",
    "    return x + \"-\" + y\n",
    "dt_index2(x,y) \"\"\" # 2번째 방법 "
   ]
  },
  {
   "cell_type": "code",
   "execution_count": null,
   "metadata": {},
   "outputs": [],
   "source": [
    "temp_2021[\"date\"] = temp_2021[\"date\"].apply(dt_index)"
   ]
  },
  {
   "cell_type": "code",
   "execution_count": null,
   "metadata": {},
   "outputs": [],
   "source": [
    "temp_2021"
   ]
  },
  {
   "cell_type": "code",
   "execution_count": null,
   "metadata": {},
   "outputs": [],
   "source": [
    "temp_2020[\"date\"] = temp_2020[\"date\"].apply(dt_index)"
   ]
  },
  {
   "cell_type": "code",
   "execution_count": null,
   "metadata": {},
   "outputs": [],
   "source": [
    "temp_2020.set_index(\"date\")   ## 민재님!!!"
   ]
  },
  {
   "cell_type": "code",
   "execution_count": null,
   "metadata": {},
   "outputs": [],
   "source": [
    "temp_2020.head(3)"
   ]
  },
  {
   "cell_type": "code",
   "execution_count": null,
   "metadata": {},
   "outputs": [],
   "source": [
    "temp_2020.set_index(\"date\", inplace=True)"
   ]
  },
  {
   "cell_type": "code",
   "execution_count": null,
   "metadata": {},
   "outputs": [],
   "source": [
    "temp_2021.set_index(\"date\", inplace=True)"
   ]
  },
  {
   "cell_type": "code",
   "execution_count": null,
   "metadata": {
    "scrolled": false
   },
   "outputs": [],
   "source": [
    "temp_2020.head(10)"
   ]
  },
  {
   "cell_type": "code",
   "execution_count": null,
   "metadata": {},
   "outputs": [],
   "source": [
    "fig,ax = plt.subplots(figsize = (10,6))\n",
    "ax.plot(temp_2021.index , temp_2021[\"temperature\"], \"r\",label = \"2021-10 Temperature\")\n",
    "ax.plot(temp_2020.index, temp_2020[\"temperature\"] ,  label = \"2020-10 Temperature\")\n",
    "\n",
    "ax.set_title(\"2021-10 VS 2020-10 \")\n",
    "ax.legend()"
   ]
  },
  {
   "cell_type": "code",
   "execution_count": null,
   "metadata": {},
   "outputs": [],
   "source": [
    "tmp20 = temp_2020.groupby(temp_2020.index).mean()\n",
    "tmp21 = temp_2021.groupby(temp_2021.index).mean()\n",
    "tmp20.head(3)"
   ]
  },
  {
   "cell_type": "code",
   "execution_count": null,
   "metadata": {},
   "outputs": [],
   "source": [
    "fig,ax = plt.subplots(figsize = (10,6))\n",
    "ax.plot(tmp21.index , tmp21[\"temperature\"], \"r\",label = \"2021-10 Temperature\")\n",
    "ax.plot(tmp20.index, tmp20[\"temperature\"] ,  label = \"2020-10 Temperature\")\n",
    "ax.tick_params(axis = 'x', labelrotation =45)\n",
    "ax.set_title(\"2021-10 VS 2020-10 \")\n",
    "ax.legend()"
   ]
  },
  {
   "cell_type": "code",
   "execution_count": null,
   "metadata": {},
   "outputs": [],
   "source": [
    "temp_2021.head(3)"
   ]
  },
  {
   "cell_type": "code",
   "execution_count": null,
   "metadata": {},
   "outputs": [],
   "source": [
    "xx = []"
   ]
  },
  {
   "cell_type": "markdown",
   "metadata": {},
   "source": [
    "#### plt.twinx( ) - x-axis를 공유하지만 y-axis는 공유하지 않는 fig "
   ]
  },
  {
   "cell_type": "code",
   "execution_count": null,
   "metadata": {},
   "outputs": [],
   "source": [
    "# 비가 많이 오면 기온이 떨어질까 ?\n",
    "fig , ax = plt.subplots( figsize = (10,6))\n",
    "\n",
    "ax.plot(temp_2021.index , temp_2021['temperature'] , 'b' , marker = 'o')\n",
    "ax.set_ylabel(\"Temperature\")\n",
    "ax.set_xlabel(\"2021_Date\")\n",
    "\n",
    "ax1 = plt.twinx()\n",
    "\n",
    "ax1.plot(temp_2021.index , temp_2021[\"rain\"])\n",
    "ax1.set_ylabel(\"Rain\")"
   ]
  },
  {
   "cell_type": "markdown",
   "metadata": {},
   "source": [
    "#### 텍스트와 주석(Text and Annotation) "
   ]
  },
  {
   "cell_type": "code",
   "execution_count": null,
   "metadata": {},
   "outputs": [],
   "source": [
    "fig ,ax = plt.subplots(figsize = (8,4))\n",
    "ax.axis([0,10,0,10])\n",
    "\n",
    "ax.text(0.2,0.4 , '+ transAxes(0.2,0.4)', transform = ax.transAxes) # 축기준으로\n",
    "ax.text(0.2,0.2, '+ transFigure(0.2,0.2)', transform = fig.transFigure) # figure 기준으로 "
   ]
  },
  {
   "cell_type": "code",
   "execution_count": null,
   "metadata": {},
   "outputs": [],
   "source": [
    "fig , ax = plt.subplots(figsize = (10,6))\n",
    "\n",
    "\n",
    "x = np.random.normal(30,3,100)                   \n",
    "x1 = np.random.normal(20,3,100)\n",
    "x2 = np.random.normal(10,3,100)        \n",
    "\n",
    "ax.plot(x,label = 'x')\n",
    "ax.plot(x1 ,label = 'x1')\n",
    "ax.plot(x2, label = 'x2')\n",
    "ax.legend(loc = 1)\n",
    "\n",
    "ax.annotate('important value',(10,20) , xytext = (5,40) ,arrowprops = dict(arrowstyle = '->'))   \n",
    "# xytext : 텍스트 위치 \n",
    "#xy : 화살표 위치\n",
    "# arrowprops : 화살표 속성들"
   ]
  },
  {
   "cell_type": "code",
   "execution_count": null,
   "metadata": {},
   "outputs": [],
   "source": []
  },
  {
   "cell_type": "code",
   "execution_count": null,
   "metadata": {},
   "outputs": [],
   "source": []
  },
  {
   "cell_type": "markdown",
   "metadata": {},
   "source": [
    "#### 추가 공부거리\n",
    " - https://www.delftstack.com/ko/howto/matplotlib/how-to-rotate-x-axis-tick-label-text-in-matplotlib/"
   ]
  },
  {
   "cell_type": "code",
   "execution_count": null,
   "metadata": {},
   "outputs": [],
   "source": []
  }
 ],
 "metadata": {
  "kernelspec": {
   "display_name": "Python 3",
   "language": "python",
   "name": "python3"
  },
  "language_info": {
   "codemirror_mode": {
    "name": "ipython",
    "version": 3
   },
   "file_extension": ".py",
   "mimetype": "text/x-python",
   "name": "python",
   "nbconvert_exporter": "python",
   "pygments_lexer": "ipython3",
   "version": "3.8.2"
  }
 },
 "nbformat": 4,
 "nbformat_minor": 5
}
