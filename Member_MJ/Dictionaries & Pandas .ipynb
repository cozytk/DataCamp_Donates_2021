{
 "cells": [
  {
   "cell_type": "markdown",
   "id": "fb8c0ff7",
   "metadata": {},
   "source": [
    "# _Dictionaries & Pandas_"
   ]
  },
  {
   "cell_type": "markdown",
   "id": "0dfffaf1",
   "metadata": {},
   "source": [
    "### Dictionaries - 대응 관계를 나타내는 자료형\n",
    "* Dictionaries는 List ,Tuple 처럼 순차적으로 해당 요솟값을 구하지 않고 key를 통해 values값을 얻는다.\n",
    "* {Key1:Value1, Key2:Value2, Key3:Value3, ...}"
   ]
  },
  {
   "cell_type": "markdown",
   "id": "5176db67",
   "metadata": {},
   "source": [
    "#### Dictionary 생성"
   ]
  },
  {
   "cell_type": "code",
   "execution_count": 3,
   "id": "eddd4440",
   "metadata": {},
   "outputs": [],
   "source": [
    "dict = {'Kim Yeon-Koung':'volleyball','Son Heung-min':'football'}"
   ]
  },
  {
   "cell_type": "markdown",
   "id": "cb6ebf54",
   "metadata": {},
   "source": [
    "#### dictonaries 에서 Key 사용해 Value 얻기  \n",
    "  \n",
    "* 리스트나 튜플, 문자열은 요솟값을 얻고자 할 때 인덱싱이나 슬라이싱 기법 중 하나를 사용했다.  \n",
    "  하지만 딕셔너리는 단 한 가지 방법뿐이다. 바로 Key를 사용해서 Value를 구하는 방법이다.\n"
   ]
  },
  {
   "cell_type": "code",
   "execution_count": 3,
   "id": "f49ef1cf",
   "metadata": {},
   "outputs": [
    {
     "data": {
      "text/plain": [
       "'football'"
      ]
     },
     "execution_count": 3,
     "metadata": {},
     "output_type": "execute_result"
    }
   ],
   "source": [
    "dict['Son Heung-min'] # 'Son Heung-min' key를 이용해 'football' value 반환 "
   ]
  },
  {
   "cell_type": "markdown",
   "id": "0543d7b7",
   "metadata": {},
   "source": [
    "#### keys , values 함수 사용 "
   ]
  },
  {
   "cell_type": "code",
   "execution_count": 4,
   "id": "85d2ccf0",
   "metadata": {},
   "outputs": [
    {
     "name": "stdout",
     "output_type": "stream",
     "text": [
      "dict_keys(['Kim Yeon-Koung', 'Son Heung-min'])\n",
      "dict_values(['volleyball', 'football'])\n"
     ]
    }
   ],
   "source": [
    "print(dict.keys()) # key는 unique,immutable object\n",
    "print(dict.values())"
   ]
  },
  {
   "cell_type": "markdown",
   "id": "6d324897",
   "metadata": {},
   "source": [
    "#### Dictionary 요솟값 추가"
   ]
  },
  {
   "cell_type": "code",
   "execution_count": 5,
   "id": "cbe13a3e",
   "metadata": {},
   "outputs": [
    {
     "name": "stdout",
     "output_type": "stream",
     "text": [
      "True\n",
      "{'Kim Yeon-Koung': 'volleyball', 'Son Heung-min': 'football', 'Me': 'study'}\n"
     ]
    }
   ],
   "source": [
    "# Add to value in dict \n",
    "dict['Me'] = 'study'\n",
    "print('Me' in dict )\n",
    "print(dict)"
   ]
  },
  {
   "cell_type": "markdown",
   "id": "82f2e85b",
   "metadata": {},
   "source": [
    "#### del 함수를 이용해 Dictionary 요솟값 제거"
   ]
  },
  {
   "cell_type": "code",
   "execution_count": 6,
   "id": "ba2041ca",
   "metadata": {},
   "outputs": [],
   "source": [
    "# Delete \n",
    "del dict['Me']"
   ]
  },
  {
   "cell_type": "code",
   "execution_count": 7,
   "id": "4b8bc602",
   "metadata": {},
   "outputs": [
    {
     "name": "stdout",
     "output_type": "stream",
     "text": [
      "{'Kim Yeon-Koung': 'volleyball', 'Son Heung-min': 'football'}\n"
     ]
    }
   ],
   "source": [
    "print(dict)"
   ]
  },
  {
   "cell_type": "markdown",
   "id": "e60c9145",
   "metadata": {},
   "source": [
    "#### Dictionary  생성시 주의사항 "
   ]
  },
  {
   "cell_type": "code",
   "execution_count": 8,
   "id": "21b1e584",
   "metadata": {},
   "outputs": [
    {
     "data": {
      "text/plain": [
       "{1: ('A', 'B', 'C'), (2, 3): {'D', 'E'}}"
      ]
     },
     "execution_count": 8,
     "metadata": {},
     "output_type": "execute_result"
    }
   ],
   "source": [
    "a = {1:'A',1:\"B\"} # 중복되는 key값 설정 시 하나를 제외한 나머지 값들은 무시 \n",
    "a  \n",
    "\n",
    "B = {1:('A','B','C'),(2,3):{'D','E','D'}}  #  key값 Tuple 가능,List불가  Dictionary에 key값은Immuatable 이면 가능 \n",
    "                                           #  value값은 모두 가능    \n",
    "B"
   ]
  },
  {
   "cell_type": "markdown",
   "id": "307ea6b1",
   "metadata": {},
   "source": [
    "### Pandas - Python에서 DB처럼 테이블 형식의 데이터를 쉽게 처리할 수 있는 라이브러리 입니다."
   ]
  },
  {
   "cell_type": "code",
   "execution_count": 9,
   "id": "406cf548",
   "metadata": {},
   "outputs": [],
   "source": [
    "import numpy as np\n",
    "import pandas as pd"
   ]
  },
  {
   "cell_type": "markdown",
   "id": "158663e4",
   "metadata": {},
   "source": [
    "* pandas에서는 Series와 DataFrame 두 objects 가 있습니다 .\n",
    "* Series: 1차원 배열과 같은 자료로 값뿐만 아니라 각 값에 연결된 index값도 동시에 저장 \n",
    "* DataFrame: Series들을 하나의 열로 취급한 집합, 데이터를 표의 형태로 처리하는 자료구조 "
   ]
  },
  {
   "cell_type": "markdown",
   "id": "0f22f181",
   "metadata": {},
   "source": [
    "#### Pandas Series 생성"
   ]
  },
  {
   "cell_type": "code",
   "execution_count": 10,
   "id": "af6be563",
   "metadata": {},
   "outputs": [
    {
     "data": {
      "text/plain": [
       "A    1\n",
       "B    2\n",
       "C    3\n",
       "D    4\n",
       "E    5\n",
       "F    6\n",
       "dtype: int64"
      ]
     },
     "execution_count": 10,
     "metadata": {},
     "output_type": "execute_result"
    }
   ],
   "source": [
    "# pd.Series(data,index)\n",
    "s = pd.Series([1,2,3,4,5,6],['A','B','C','D','E','F'])\n",
    "s"
   ]
  },
  {
   "cell_type": "markdown",
   "id": "d84ccb4d",
   "metadata": {},
   "source": [
    "#### Pandas DataFrame 생성"
   ]
  },
  {
   "cell_type": "code",
   "execution_count": 11,
   "id": "09611e28",
   "metadata": {},
   "outputs": [
    {
     "data": {
      "text/html": [
       "<div>\n",
       "<style scoped>\n",
       "    .dataframe tbody tr th:only-of-type {\n",
       "        vertical-align: middle;\n",
       "    }\n",
       "\n",
       "    .dataframe tbody tr th {\n",
       "        vertical-align: top;\n",
       "    }\n",
       "\n",
       "    .dataframe thead th {\n",
       "        text-align: right;\n",
       "    }\n",
       "</style>\n",
       "<table border=\"1\" class=\"dataframe\">\n",
       "  <thead>\n",
       "    <tr style=\"text-align: right;\">\n",
       "      <th></th>\n",
       "      <th>A1</th>\n",
       "      <th>B1</th>\n",
       "      <th>C1</th>\n",
       "    </tr>\n",
       "  </thead>\n",
       "  <tbody>\n",
       "    <tr>\n",
       "      <th>A</th>\n",
       "      <td>0.066944</td>\n",
       "      <td>0.943126</td>\n",
       "      <td>0.886024</td>\n",
       "    </tr>\n",
       "    <tr>\n",
       "      <th>B</th>\n",
       "      <td>0.585812</td>\n",
       "      <td>0.730883</td>\n",
       "      <td>0.525933</td>\n",
       "    </tr>\n",
       "    <tr>\n",
       "      <th>C</th>\n",
       "      <td>0.416264</td>\n",
       "      <td>0.979994</td>\n",
       "      <td>0.663048</td>\n",
       "    </tr>\n",
       "    <tr>\n",
       "      <th>D</th>\n",
       "      <td>0.253336</td>\n",
       "      <td>0.005017</td>\n",
       "      <td>0.753335</td>\n",
       "    </tr>\n",
       "    <tr>\n",
       "      <th>E</th>\n",
       "      <td>0.316150</td>\n",
       "      <td>0.817398</td>\n",
       "      <td>0.338553</td>\n",
       "    </tr>\n",
       "    <tr>\n",
       "      <th>F</th>\n",
       "      <td>0.936198</td>\n",
       "      <td>0.019348</td>\n",
       "      <td>0.962717</td>\n",
       "    </tr>\n",
       "  </tbody>\n",
       "</table>\n",
       "</div>"
      ],
      "text/plain": [
       "         A1        B1        C1\n",
       "A  0.066944  0.943126  0.886024\n",
       "B  0.585812  0.730883  0.525933\n",
       "C  0.416264  0.979994  0.663048\n",
       "D  0.253336  0.005017  0.753335\n",
       "E  0.316150  0.817398  0.338553\n",
       "F  0.936198  0.019348  0.962717"
      ]
     },
     "execution_count": 11,
     "metadata": {},
     "output_type": "execute_result"
    }
   ],
   "source": [
    "#pd.DataFrame (data, index, columns)\n",
    "df = pd.DataFrame(np.random.rand(6,3),\n",
    "                  index = ['A','B','C','D','E','F'],\n",
    "                  columns = ['A1','B1','C1']  )\n",
    "df"
   ]
  },
  {
   "cell_type": "markdown",
   "id": "88e2188a",
   "metadata": {},
   "source": [
    "#### Pandas DataFrame Multiindex 생성"
   ]
  },
  {
   "cell_type": "code",
   "execution_count": 12,
   "id": "07f3c2e1",
   "metadata": {},
   "outputs": [
    {
     "data": {
      "text/html": [
       "<div>\n",
       "<style scoped>\n",
       "    .dataframe tbody tr th:only-of-type {\n",
       "        vertical-align: middle;\n",
       "    }\n",
       "\n",
       "    .dataframe tbody tr th {\n",
       "        vertical-align: top;\n",
       "    }\n",
       "\n",
       "    .dataframe thead tr th {\n",
       "        text-align: left;\n",
       "    }\n",
       "</style>\n",
       "<table border=\"1\" class=\"dataframe\">\n",
       "  <thead>\n",
       "    <tr>\n",
       "      <th></th>\n",
       "      <th></th>\n",
       "      <th colspan=\"2\" halign=\"left\">apple</th>\n",
       "      <th colspan=\"2\" halign=\"left\">banana</th>\n",
       "    </tr>\n",
       "    <tr>\n",
       "      <th></th>\n",
       "      <th></th>\n",
       "      <th>price</th>\n",
       "      <th>qty</th>\n",
       "      <th>price</th>\n",
       "      <th>qty</th>\n",
       "    </tr>\n",
       "  </thead>\n",
       "  <tbody>\n",
       "    <tr>\n",
       "      <th rowspan=\"2\" valign=\"top\">A</th>\n",
       "      <th>s1</th>\n",
       "      <td>0</td>\n",
       "      <td>1</td>\n",
       "      <td>2</td>\n",
       "      <td>3</td>\n",
       "    </tr>\n",
       "    <tr>\n",
       "      <th>s2</th>\n",
       "      <td>4</td>\n",
       "      <td>5</td>\n",
       "      <td>6</td>\n",
       "      <td>7</td>\n",
       "    </tr>\n",
       "    <tr>\n",
       "      <th rowspan=\"2\" valign=\"top\">B</th>\n",
       "      <th>s1</th>\n",
       "      <td>8</td>\n",
       "      <td>9</td>\n",
       "      <td>10</td>\n",
       "      <td>11</td>\n",
       "    </tr>\n",
       "    <tr>\n",
       "      <th>s2</th>\n",
       "      <td>12</td>\n",
       "      <td>13</td>\n",
       "      <td>14</td>\n",
       "      <td>15</td>\n",
       "    </tr>\n",
       "  </tbody>\n",
       "</table>\n",
       "</div>"
      ],
      "text/plain": [
       "     apple     banana    \n",
       "     price qty  price qty\n",
       "A s1     0   1      2   3\n",
       "  s2     4   5      6   7\n",
       "B s1     8   9     10  11\n",
       "  s2    12  13     14  15"
      ]
     },
     "execution_count": 12,
     "metadata": {},
     "output_type": "execute_result"
    }
   ],
   "source": [
    "# Multiindex\n",
    "df2 = pd.DataFrame(np.arange(16).reshape(4,4),\n",
    "\n",
    "                         index = [['A','A','B','B'],['s1','s2','s1','s2']],\n",
    "\n",
    "                         columns = [['apple','apple','banana','banana'], ['price','qty','price','qty']],\n",
    "                         \n",
    "                        )\n",
    "df2"
   ]
  },
  {
   "cell_type": "code",
   "execution_count": 13,
   "id": "387a7980",
   "metadata": {},
   "outputs": [
    {
     "data": {
      "text/plain": [
       "MultiIndex([('A', 's1'),\n",
       "            ('A', 's2'),\n",
       "            ('B', 's1'),\n",
       "            ('B', 's2')],\n",
       "           )"
      ]
     },
     "execution_count": 13,
     "metadata": {},
     "output_type": "execute_result"
    }
   ],
   "source": [
    "df2.index # Tuple형태로 지정"
   ]
  },
  {
   "cell_type": "markdown",
   "id": "065a03d9",
   "metadata": {},
   "source": [
    "#### DataFrame Indexing  \n",
    "loc - 행,열 Label로 접근  \n",
    "iloc - 행,열 인덱스값으로 접근\n"
   ]
  },
  {
   "cell_type": "code",
   "execution_count": 14,
   "id": "e99c3233",
   "metadata": {},
   "outputs": [
    {
     "data": {
      "text/plain": [
       "A    0.943126\n",
       "B    0.730883\n",
       "C    0.979994\n",
       "D    0.005017\n",
       "E    0.817398\n",
       "F    0.019348\n",
       "Name: B1, dtype: float64"
      ]
     },
     "execution_count": 14,
     "metadata": {},
     "output_type": "execute_result"
    }
   ],
   "source": [
    "df.loc[:,'B1'] # Series형태 []"
   ]
  },
  {
   "cell_type": "code",
   "execution_count": 15,
   "id": "fcf31814",
   "metadata": {},
   "outputs": [
    {
     "data": {
      "text/html": [
       "<div>\n",
       "<style scoped>\n",
       "    .dataframe tbody tr th:only-of-type {\n",
       "        vertical-align: middle;\n",
       "    }\n",
       "\n",
       "    .dataframe tbody tr th {\n",
       "        vertical-align: top;\n",
       "    }\n",
       "\n",
       "    .dataframe thead th {\n",
       "        text-align: right;\n",
       "    }\n",
       "</style>\n",
       "<table border=\"1\" class=\"dataframe\">\n",
       "  <thead>\n",
       "    <tr style=\"text-align: right;\">\n",
       "      <th></th>\n",
       "      <th>A1</th>\n",
       "      <th>B1</th>\n",
       "      <th>C1</th>\n",
       "    </tr>\n",
       "  </thead>\n",
       "  <tbody>\n",
       "    <tr>\n",
       "      <th>C</th>\n",
       "      <td>0.416264</td>\n",
       "      <td>0.979994</td>\n",
       "      <td>0.663048</td>\n",
       "    </tr>\n",
       "  </tbody>\n",
       "</table>\n",
       "</div>"
      ],
      "text/plain": [
       "         A1        B1        C1\n",
       "C  0.416264  0.979994  0.663048"
      ]
     },
     "execution_count": 15,
     "metadata": {},
     "output_type": "execute_result"
    }
   ],
   "source": [
    "df.iloc[[2],:] # DF 형태 [[]]"
   ]
  },
  {
   "cell_type": "code",
   "execution_count": 16,
   "id": "8419d1d1",
   "metadata": {},
   "outputs": [
    {
     "data": {
      "text/html": [
       "<div>\n",
       "<style scoped>\n",
       "    .dataframe tbody tr th:only-of-type {\n",
       "        vertical-align: middle;\n",
       "    }\n",
       "\n",
       "    .dataframe tbody tr th {\n",
       "        vertical-align: top;\n",
       "    }\n",
       "\n",
       "    .dataframe thead tr th {\n",
       "        text-align: left;\n",
       "    }\n",
       "</style>\n",
       "<table border=\"1\" class=\"dataframe\">\n",
       "  <thead>\n",
       "    <tr>\n",
       "      <th></th>\n",
       "      <th colspan=\"2\" halign=\"left\">apple</th>\n",
       "      <th colspan=\"2\" halign=\"left\">banana</th>\n",
       "    </tr>\n",
       "    <tr>\n",
       "      <th></th>\n",
       "      <th>price</th>\n",
       "      <th>qty</th>\n",
       "      <th>price</th>\n",
       "      <th>qty</th>\n",
       "    </tr>\n",
       "  </thead>\n",
       "  <tbody>\n",
       "    <tr>\n",
       "      <th>s1</th>\n",
       "      <td>0</td>\n",
       "      <td>1</td>\n",
       "      <td>2</td>\n",
       "      <td>3</td>\n",
       "    </tr>\n",
       "    <tr>\n",
       "      <th>s2</th>\n",
       "      <td>4</td>\n",
       "      <td>5</td>\n",
       "      <td>6</td>\n",
       "      <td>7</td>\n",
       "    </tr>\n",
       "  </tbody>\n",
       "</table>\n",
       "</div>"
      ],
      "text/plain": [
       "   apple     banana    \n",
       "   price qty  price qty\n",
       "s1     0   1      2   3\n",
       "s2     4   5      6   7"
      ]
     },
     "execution_count": 16,
     "metadata": {},
     "output_type": "execute_result"
    }
   ],
   "source": [
    "df2.loc['A']"
   ]
  },
  {
   "cell_type": "code",
   "execution_count": 17,
   "id": "3ea185e7",
   "metadata": {},
   "outputs": [
    {
     "data": {
      "text/plain": [
       "apple   price    0\n",
       "        qty      1\n",
       "banana  price    2\n",
       "        qty      3\n",
       "Name: (A, s1), dtype: int32"
      ]
     },
     "execution_count": 17,
     "metadata": {},
     "output_type": "execute_result"
    }
   ],
   "source": [
    "df2.loc[('A','s1')]  # loc 인덱스에 튜플사용  Series 로 데이터 추출 \n",
    "                     # 일반적으로 MultiIndex 키는 튜플 형식을 취하기 때문  "
   ]
  },
  {
   "cell_type": "code",
   "execution_count": 18,
   "id": "29132adb",
   "metadata": {},
   "outputs": [
    {
     "data": {
      "text/plain": [
       "12"
      ]
     },
     "execution_count": 18,
     "metadata": {},
     "output_type": "execute_result"
    }
   ],
   "source": [
    "df2.loc[('B','s2'),('apple','price')] "
   ]
  }
 ],
 "metadata": {
  "kernelspec": {
   "display_name": "Python 3",
   "language": "python",
   "name": "python3"
  },
  "language_info": {
   "codemirror_mode": {
    "name": "ipython",
    "version": 3
   },
   "file_extension": ".py",
   "mimetype": "text/x-python",
   "name": "python",
   "nbconvert_exporter": "python",
   "pygments_lexer": "ipython3",
   "version": "3.8.8"
  }
 },
 "nbformat": 4,
 "nbformat_minor": 5
}
