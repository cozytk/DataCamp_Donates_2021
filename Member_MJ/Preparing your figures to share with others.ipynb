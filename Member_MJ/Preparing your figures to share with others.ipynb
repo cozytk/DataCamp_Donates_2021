{
 "cells": [
  {
   "cell_type": "markdown",
   "id": "f07085b9",
   "metadata": {},
   "source": [
    "# Preparing your figures to share with others"
   ]
  },
  {
   "cell_type": "markdown",
   "id": "ec02038b",
   "metadata": {},
   "source": [
    "### 라이브러리와 데이터 불러오기"
   ]
  },
  {
   "cell_type": "code",
   "execution_count": 1,
   "id": "6d03f5ad",
   "metadata": {},
   "outputs": [],
   "source": [
    "import numpy as np\n",
    "import pandas as pd\n",
    "import matplotlib.pyplot as plt\n",
    "import seaborn as sns\n",
    "%matplotlib inline "
   ]
  },
  {
   "cell_type": "code",
   "execution_count": 2,
   "id": "4bec4707",
   "metadata": {},
   "outputs": [
    {
     "data": {
      "text/html": [
       "<div>\n",
       "<style scoped>\n",
       "    .dataframe tbody tr th:only-of-type {\n",
       "        vertical-align: middle;\n",
       "    }\n",
       "\n",
       "    .dataframe tbody tr th {\n",
       "        vertical-align: top;\n",
       "    }\n",
       "\n",
       "    .dataframe thead th {\n",
       "        text-align: right;\n",
       "    }\n",
       "</style>\n",
       "<table border=\"1\" class=\"dataframe\">\n",
       "  <thead>\n",
       "    <tr style=\"text-align: right;\">\n",
       "      <th></th>\n",
       "      <th>sepal_length</th>\n",
       "      <th>sepal_width</th>\n",
       "      <th>petal_length</th>\n",
       "      <th>petal_width</th>\n",
       "      <th>species</th>\n",
       "    </tr>\n",
       "  </thead>\n",
       "  <tbody>\n",
       "    <tr>\n",
       "      <th>0</th>\n",
       "      <td>5.1</td>\n",
       "      <td>3.5</td>\n",
       "      <td>1.4</td>\n",
       "      <td>0.2</td>\n",
       "      <td>setosa</td>\n",
       "    </tr>\n",
       "    <tr>\n",
       "      <th>1</th>\n",
       "      <td>4.9</td>\n",
       "      <td>3.0</td>\n",
       "      <td>1.4</td>\n",
       "      <td>0.2</td>\n",
       "      <td>setosa</td>\n",
       "    </tr>\n",
       "    <tr>\n",
       "      <th>2</th>\n",
       "      <td>4.7</td>\n",
       "      <td>3.2</td>\n",
       "      <td>1.3</td>\n",
       "      <td>0.2</td>\n",
       "      <td>setosa</td>\n",
       "    </tr>\n",
       "  </tbody>\n",
       "</table>\n",
       "</div>"
      ],
      "text/plain": [
       "   sepal_length  sepal_width  petal_length  petal_width species\n",
       "0           5.1          3.5           1.4          0.2  setosa\n",
       "1           4.9          3.0           1.4          0.2  setosa\n",
       "2           4.7          3.2           1.3          0.2  setosa"
      ]
     },
     "execution_count": 2,
     "metadata": {},
     "output_type": "execute_result"
    }
   ],
   "source": [
    "df = sns.load_dataset(\"iris\")\n",
    "df.head(3)\n"
   ]
  },
  {
   "cell_type": "markdown",
   "id": "9b794658",
   "metadata": {},
   "source": [
    "* sepal - 꽃받침 \n",
    "* petal - 꽃잎"
   ]
  },
  {
   "cell_type": "markdown",
   "id": "a002e55d",
   "metadata": {},
   "source": [
    "### plt.style.use - figure의 전체 요소를 변경"
   ]
  },
  {
   "cell_type": "code",
   "execution_count": 3,
   "id": "85a36bb9",
   "metadata": {},
   "outputs": [
    {
     "name": "stdout",
     "output_type": "stream",
     "text": [
      "['Solarize_Light2', '_classic_test_patch', 'bmh', 'classic', 'dark_background', 'fast', 'fivethirtyeight', 'ggplot', 'grayscale', 'seaborn', 'seaborn-bright', 'seaborn-colorblind', 'seaborn-dark', 'seaborn-dark-palette', 'seaborn-darkgrid', 'seaborn-deep', 'seaborn-muted', 'seaborn-notebook', 'seaborn-paper', 'seaborn-pastel', 'seaborn-poster', 'seaborn-talk', 'seaborn-ticks', 'seaborn-white', 'seaborn-whitegrid', 'tableau-colorblind10']\n"
     ]
    }
   ],
   "source": [
    "print(plt.style.available) # 사용가능한 plt.style 보기 "
   ]
  },
  {
   "cell_type": "markdown",
   "id": "7002aac5",
   "metadata": {},
   "source": [
    "### fig.set_size_inches([]) \n",
    "> figure사이즈 조정 첫번째 숫자는 페이지에서 그림의 너비를 설정 두번째 숫자는 그림의 높이를 설정"
   ]
  },
  {
   "cell_type": "code",
   "execution_count": 4,
   "id": "19809a8b",
   "metadata": {},
   "outputs": [],
   "source": [
    "def plot_make(data_x ,data_y) :\n",
    "    fig,ax =plt.subplots()\n",
    "    fig.set_size_inches([6,5])\n",
    "    ax.scatter(x = data_x , y =data_y )\n",
    "    \n",
    "\n",
    "def plot_style(style) :\n",
    "    plt.style.use(style)"
   ]
  },
  {
   "cell_type": "markdown",
   "id": "ea2af1ee",
   "metadata": {},
   "source": [
    "### Solarize_Light2"
   ]
  },
  {
   "cell_type": "code",
   "execution_count": 6,
   "id": "bd63e7c0",
   "metadata": {},
   "outputs": [
    {
     "data": {
      "image/png": "[encoded data removed]",
      "text/plain": [
       "<Figure size 432x360 with 1 Axes>"
      ]
     },
     "metadata": {},
     "output_type": "display_data"
    }
   ],
   "source": [
    "plot_make(df[\"sepal_length\"], df[\"sepal_width\"])\n",
    "plot_style('Solarize_Light2')"
   ]
  },
  {
   "cell_type": "markdown",
   "id": "a1b97157",
   "metadata": {},
   "source": [
    "### dark_background"
   ]
  },
  {
   "cell_type": "code",
   "execution_count": 8,
   "id": "3b63f40f",
   "metadata": {},
   "outputs": [
    {
     "data": {
      "image/png": "[encoded data removed]",
      "text/plain": [
       "<Figure size 432x360 with 1 Axes>"
      ]
     },
     "metadata": {},
     "output_type": "display_data"
    }
   ],
   "source": [
    "plot_make(df[\"petal_length\"], df[\"petal_width\"])\n",
    "plot_style('dark_background')"
   ]
  },
  {
   "cell_type": "markdown",
   "id": "7bd56a9a",
   "metadata": {},
   "source": [
    "### grayscale"
   ]
  },
  {
   "cell_type": "code",
   "execution_count": 10,
   "id": "36e1fef5",
   "metadata": {},
   "outputs": [
    {
     "data": {
      "image/png": "[encoded data removed]",
      "text/plain": [
       "<Figure size 432x360 with 1 Axes>"
      ]
     },
     "metadata": {},
     "output_type": "display_data"
    }
   ],
   "source": [
    "plot_make(df[\"sepal_length\"], df[\"petal_length\"])\n",
    "plot_style('grayscale')"
   ]
  },
  {
   "cell_type": "markdown",
   "id": "0e5887e6",
   "metadata": {},
   "source": [
    "### tableau-colorblind10"
   ]
  },
  {
   "cell_type": "code",
   "execution_count": 12,
   "id": "e8624e5f",
   "metadata": {},
   "outputs": [
    {
     "data": {
      "image/png": "[encoded data removed]",
      "text/plain": [
       "<Figure size 432x360 with 1 Axes>"
      ]
     },
     "metadata": {},
     "output_type": "display_data"
    }
   ],
   "source": [
    "plot_make(df[\"sepal_width\"], df[\"petal_width\"])\n",
    "plot_style('seaborn-whitegrid')"
   ]
  },
  {
   "cell_type": "markdown",
   "id": "73431128",
   "metadata": {},
   "source": [
    "### 시각화 자료 저장\n",
    "> fig.savefig(\" .(png, jpg ,svg)\" ) "
   ]
  },
  {
   "cell_type": "code",
   "execution_count": null,
   "id": "6f2ab046",
   "metadata": {},
   "outputs": [],
   "source": [
    "fig.savefig(\"visualization.png\")"
   ]
  }
 ],
 "metadata": {
  "kernelspec": {
   "display_name": "Python 3",
   "language": "python",
   "name": "python3"
  },
  "language_info": {
   "codemirror_mode": {
    "name": "ipython",
    "version": 3
   },
   "file_extension": ".py",
   "mimetype": "text/x-python",
   "name": "python",
   "nbconvert_exporter": "python",
   "pygments_lexer": "ipython3",
   "version": "3.8.8"
  }
 },
 "nbformat": 4,
 "nbformat_minor": 5
}
