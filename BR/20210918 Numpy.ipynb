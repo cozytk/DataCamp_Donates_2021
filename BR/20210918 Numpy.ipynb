{
 "cells": [
  {
   "attachments": {
    "image.png": {
     "image/png": "[encoded data removed]"
    }
   },
   "cell_type": "markdown",
   "metadata": {},
   "source": [
    "# NumPy\n",
    "\n",
    "![image.png](attachment:image.png)\n",
    "\n",
    "- 단일 데이터 타입 사용만 가능하다  \n",
    "- Enforce single data type : Speed!  \n",
    "시간을 절약하고 결과를 빠르게 도출 하기위해서!"
   ]
  },
  {
   "cell_type": "code",
   "execution_count": 3,
   "metadata": {},
   "outputs": [],
   "source": [
    "import numpy as np # 넘파이를 적용하려면 import를 꼭 해줘야한다"
   ]
  },
  {
   "cell_type": "markdown",
   "metadata": {},
   "source": [
    "# 2D Numpy arrays\n",
    "\n",
    "- ndarray = n dementional array \n",
    "-  Also for 2D arrays, the Numpy rule applies: an array can only contain a single type. If you change one float to be string, all the array elements will be coerced to strings, to end up with a homogeneous array.\n",
    "- In Python, the first element is at index 0!!"
   ]
  },
  {
   "cell_type": "markdown",
   "metadata": {},
   "source": [
    "# Numpy : Basic Statistics\n",
    "\n",
    "- mean : 평균값\n",
    "  \n",
    "  np.mean 은 np.average와 비슷하다 "
   ]
  },
  {
   "cell_type": "code",
   "execution_count": 9,
   "metadata": {},
   "outputs": [
    {
     "name": "stdout",
     "output_type": "stream",
     "text": [
      "5.0\n"
     ]
    }
   ],
   "source": [
    "a = np.array ([2,4,5,6,8]) # mean (평균값 구하기의 예) \n",
    "print (np.mean(a))"
   ]
  },
  {
   "cell_type": "code",
   "execution_count": 4,
   "metadata": {},
   "outputs": [
    {
     "name": "stdout",
     "output_type": "stream",
     "text": [
      "5.0\n"
     ]
    }
   ],
   "source": [
    "a = np.array ([2,4,5,6,8])\n",
    "print (np.average(a))"
   ]
  },
  {
   "cell_type": "markdown",
   "metadata": {},
   "source": [
    "- median : 중앙값 , 즉 자료의 중앙(가운데) 에 위치한 값  \n",
    "\n",
    "데이터가 홀수로 들어오면 자료의 가장 가운데 값을 반환하지만  \n",
    "데이터가 짝수로 들어오면 자료의 가운데 두 요소의 평균값을 리턴함."
   ]
  },
  {
   "cell_type": "code",
   "execution_count": 11,
   "metadata": {},
   "outputs": [
    {
     "name": "stdout",
     "output_type": "stream",
     "text": [
      "5.0\n"
     ]
    }
   ],
   "source": [
    "#데이터가 홀수로 들어왔을때\n",
    "#데이터의 가장 큰 값인 90이 있더라도 중간값인 5를 리턴함을 볼 수있다.\n",
    "a = np.array ([2,4,5,6,90])\n",
    "print (np.median (a)) "
   ]
  },
  {
   "cell_type": "code",
   "execution_count": 12,
   "metadata": {},
   "outputs": [
    {
     "name": "stdout",
     "output_type": "stream",
     "text": [
      "5.0\n"
     ]
    }
   ],
   "source": [
    "# 데이터가 짝수 일때\n",
    "a = np.array ([2,4,6,8])\n",
    "print (np.median (a))\n",
    "# 중간 4 와 6의 평균인 5를 리턴하는것을 볼 수있다."
   ]
  },
  {
   "cell_type": "markdown",
   "metadata": {},
   "source": [
    "## mean 과 median이 중요한 이유  \n",
    "\n",
    "- It's always a good idea to check both the median and the mean,  \n",
    "to get an idea about the overall distribution of the entire dataset.  \n",
    "\n",
    "\n",
    "- 평균값과 중앙값을 모두 확인해보는것이 중요한 이유  \n",
    "데이터 상의 이상치(outliers) 로 인한 오류를 줄이고  \n",
    "원하는 자료 분석을 위한 데이터의 전반적인 부분을 파악할수 있도록 하기 위해서이다. \n",
    "\n",
    "    *(예를들어 우리동네 사람들의 평균 자동차 보유량과 차의 가격대를 구하고 싶은데  \n",
    "    갑자기 중동부자가 이사를 와서 남들 1대2대 가지고 있을때 슈퍼카 50대를 차고에 모시고 있다면..평균값이..???)*"
   ]
  },
  {
   "cell_type": "code",
   "execution_count": 13,
   "metadata": {},
   "outputs": [
    {
     "name": "stdout",
     "output_type": "stream",
     "text": [
      "21.4\n",
      "5.0\n"
     ]
    }
   ],
   "source": [
    "a = np. array ([2,4,5,6,90])\n",
    "print (np.mean (a))\n",
    "print (np.median (a))"
   ]
  },
  {
   "cell_type": "markdown",
   "metadata": {},
   "source": [
    "* sum :자료 값을 모두 더해준다."
   ]
  },
  {
   "cell_type": "code",
   "execution_count": 14,
   "metadata": {},
   "outputs": [
    {
     "name": "stdout",
     "output_type": "stream",
     "text": [
      "107\n"
     ]
    }
   ],
   "source": [
    "a = np.array ([2,4,5,6,90])\n",
    "print (np.sum (a))"
   ]
  },
  {
   "cell_type": "markdown",
   "metadata": {},
   "source": [
    "- np.std (표준편차) : 자료가 평균을 중심으로 얼마나 퍼져 있는지를 나타내는 수치  \n",
    "  np.corrcoef(상관관계함수) : 한개의 변수가 다른 변수와 어느 정도의 관련성이 있는지를 나타내는 수치"
   ]
  },
  {
   "cell_type": "markdown",
   "metadata": {},
   "source": [
    "--------------------------------------------------------------------------------------------------------------------------------\n",
    "\n",
    "\n",
    "이번에 많이 도움받은 자료  \n",
    "https://youtu.be/iJy2X8dtl4Y (mean,median,var,std) 등을 쉽게 설명해 주었다.\n",
    "\n",
    "팀원들과 함께 공유하고 싶은 웹사이트  \n",
    "https://datascienceschool.net/intro.html  \n",
    "데이터 사이언스 스쿨이라는 사이트로 아직 어렵긴 하지만 초보에게 필요한 지식이 방대하다."
   ]
  },
  {
   "cell_type": "code",
   "execution_count": null,
   "metadata": {},
   "outputs": [],
   "source": []
  }
 ],
 "metadata": {
  "kernelspec": {
   "display_name": "Python 3",
   "language": "python",
   "name": "python3"
  },
  "language_info": {
   "codemirror_mode": {
    "name": "ipython",
    "version": 3
   },
   "file_extension": ".py",
   "mimetype": "text/x-python",
   "name": "python",
   "nbconvert_exporter": "python",
   "pygments_lexer": "ipython3",
   "version": "3.8.5"
  }
 },
 "nbformat": 4,
 "nbformat_minor": 4
}
