{
 "cells": [
  {
   "cell_type": "markdown",
   "id": "127449fb",
   "metadata": {},
   "source": [
    "conda create --name covd-dashboard python=3.8 pandas=1.3.4\n",
    "\n",
    "conda activate covd-dashboard\n",
    "\n",
    "pip install streamlit\n",
    "\n",
    "(바탕화면으로 이동) cd Desktop\n",
    "\n",
    "mkdir testenv\n",
    "\n",
    "cd testenv\n",
    "\n",
    "git clone https://github.com/cozytk/covid_dashboard.git\n",
    "\n",
    "cd covid_dashboard\n",
    "\n",
    "(app.py 파일 수정) 아래 2가지 방식 중 한 가지\n",
    "1) jupyter notebook 열어서 수정 후 저장 \n",
    "2) 로컬에서 파일 수정 후 저장\n",
    "\n",
    "streamlit run app/app.py\n",
    "\n",
    "(로컬호스트 주소 url로 오픈)\n"
   ]
  },
  {
   "cell_type": "code",
   "execution_count": 6,
   "id": "4b84f52d",
   "metadata": {},
   "outputs": [
    {
     "ename": "SyntaxError",
     "evalue": "invalid syntax (<ipython-input-6-290f010255bc>, line 1)",
     "output_type": "error",
     "traceback": [
      "\u001b[1;36m  File \u001b[1;32m\"<ipython-input-6-290f010255bc>\"\u001b[1;36m, line \u001b[1;32m1\u001b[0m\n\u001b[1;33m    streamlit run app/app.py\u001b[0m\n\u001b[1;37m              ^\u001b[0m\n\u001b[1;31mSyntaxError\u001b[0m\u001b[1;31m:\u001b[0m invalid syntax\n"
     ]
    }
   ],
   "source": [
    "streamlit run app/app.py"
   ]
  }
 ],
 "metadata": {
  "kernelspec": {
   "display_name": "Python 3",
   "language": "python",
   "name": "python3"
  },
  "language_info": {
   "codemirror_mode": {
    "name": "ipython",
    "version": 3
   },
   "file_extension": ".py",
   "mimetype": "text/x-python",
   "name": "python",
   "nbconvert_exporter": "python",
   "pygments_lexer": "ipython3",
   "version": "3.8.8"
  }
 },
 "nbformat": 4,
 "nbformat_minor": 5
}
