{
 "cells": [
  {
   "cell_type": "code",
   "execution_count": 14,
   "metadata": {},
   "outputs": [],
   "source": [
    "import numpy as np\n",
    "import matplotlib.pyplot as plt"
   ]
  },
  {
   "cell_type": "markdown",
   "metadata": {},
   "source": [
    "# Exploring relationships"
   ]
  },
  {
   "cell_type": "markdown",
   "metadata": {},
   "source": [
    "### Height and weight"
   ]
  },
  {
   "cell_type": "markdown",
   "metadata": {},
   "source": [
    "### Scatter plot"
   ]
  },
  {
   "cell_type": "markdown",
   "metadata": {},
   "source": [
    "```python\n",
    "df = pd.read_csv(PATH)\n",
    "height = df['height']\n",
    "weight = df['weight']\n",
    "plt.plot(height, weight, 'o')\n",
    "plt.xlabel('Height in cm')\n",
    "plt.ylabel('Weight in kg')\n",
    "plt.show()\n",
    "```"
   ]
  },
  {
   "cell_type": "markdown",
   "metadata": {},
   "source": [
    "<img width=\"503\" alt=\"스크린샷 2022-01-02 오전 2 03 38\" src=\"https://user-images.githubusercontent.com/59143479/147855883-1c1af36b-e9bb-44bc-b3b6-4c905eed0349.png\">"
   ]
  },
  {
   "cell_type": "markdown",
   "metadata": {},
   "source": [
    "# Transparency (투명도)\n",
    "```python\n",
    "plt.plot(height, weight, 'o', alpha=0.02)\n",
    "plt.show()\n",
    "```"
   ]
  },
  {
   "cell_type": "markdown",
   "metadata": {},
   "source": [
    "<img width=\"336\" alt=\"스크린샷 2022-01-02 오전 2 05 08\" src=\"https://user-images.githubusercontent.com/59143479/147855904-dfa7d1c6-5504-497d-be05-c5c2e49985a6.png\">"
   ]
  },
  {
   "cell_type": "markdown",
   "metadata": {},
   "source": [
    "# Marker size\n",
    "```python\n",
    "plt.plot(height, weight, 'o', markersize=1, alpha=0.02)\n",
    "plt.show()\n",
    "```"
   ]
  },
  {
   "cell_type": "markdown",
   "metadata": {},
   "source": [
    "<img width=\"337\" alt=\"스크린샷 2022-01-02 오전 2 05 56\" src=\"https://user-images.githubusercontent.com/59143479/147855919-11e81218-b492-4889-848f-353711f3d3ef.png\">"
   ]
  },
  {
   "cell_type": "markdown",
   "metadata": {},
   "source": [
    "# Jittering\n",
    "\n",
    "```python\n",
    "height_jitter = height + np.random.normal(0, 2, size=len(df))\n",
    "plt.plot(height_jitter, weight, 'o', markersize=1, alpha=0.02)\n",
    "plt.show()\n",
    "```"
   ]
  },
  {
   "cell_type": "markdown",
   "metadata": {},
   "source": [
    "<img width=\"345\" alt=\"스크린샷 2022-01-02 오전 2 24 48\" src=\"https://user-images.githubusercontent.com/59143479/147856335-715c8e74-6b3a-403b-8593-89f9f0c5d4a7.png\">"
   ]
  },
  {
   "cell_type": "markdown",
   "metadata": {},
   "source": [
    "# More jittering\n",
    "\n",
    "```python\n",
    "height_jitter = height + np.random.normal(0, 2, size=len(df))\n",
    "weight_jitter = weight + np.random.normal(0, 2, size=len(df))\n",
    "plt.plot(height_jitter, weight_jitter, 'o', markersize=1, alpha=0.02)\n",
    "plt.show()\n",
    "```"
   ]
  },
  {
   "cell_type": "markdown",
   "metadata": {},
   "source": [
    "<img width=\"333\" alt=\"스크린샷 2022-01-02 오전 2 24 55\" src=\"https://user-images.githubusercontent.com/59143479/147856339-e784fc6c-5836-4541-870b-520e1dbe5d2f.png\">"
   ]
  },
  {
   "cell_type": "markdown",
   "metadata": {},
   "source": [
    "# Zoom\n",
    "\n",
    "```python\n",
    "plt.plot(height_jitter, weight_jitter, 'o', markersize=1, alpha=0.02)\n",
    "plt.axis([140, 200, 0, 160])\n",
    "plt.show()\n",
    "```"
   ]
  },
  {
   "cell_type": "markdown",
   "metadata": {},
   "source": [
    "<img width=\"350\" alt=\"스크린샷 2022-01-02 오전 2 25 02\" src=\"https://user\n",
    "-images.githubusercontent.com/59143479/147856343-f75f23fa-b918-496a-ac09-7c6c21bfa24c.png\">"
   ]
  },
  {
   "cell_type": "markdown",
   "metadata": {},
   "source": [
    "<img width=\"579\" alt=\"스크린샷 2022-01-02 오전 2 25 08\" src=\"https://user-images.githubusercontent.com/59143479/147856348-e688a0fa-82cb-4780-ab2b-ac5aaaaae07f.png\">"
   ]
  },
  {
   "cell_type": "markdown",
   "metadata": {},
   "source": [
    "# visualization"
   ]
  },
  {
   "cell_type": "markdown",
   "metadata": {},
   "source": [
    "<img width=\"422\" alt=\"스크린샷 2022-01-02 오전 3 26 39\" src=\"https://user-images.githubusercontent.com/59143479/\n",
    "147857599-1f77cee6-eae7-494f-bb7b-dde6d54ef87a.png\">\n",
    "\n",
    "위와 같은 분포는 boxplot, violine plot 그리고 log화 해서 표현할 수 있음\n",
    "\n",
    "<img width=\"582\" alt=\"스크린샷 2022-01-02 오전 3 27 53\" src=\"https://user-images.githubusercontent.com/59143479/147857622-6501e0c3-01a3-4ef4-a07a-f1980f2fe0c7.png\">"
   ]
  },
  {
   "cell_type": "markdown",
   "metadata": {},
   "source": [
    "# Correlation coefficient\n",
    "`corr()` 함수를 사용해서 correlation 테이블을 구할 수 있음"
   ]
  },
  {
   "cell_type": "markdown",
   "metadata": {},
   "source": [
    "<img width=\"542\" alt=\"스크린샷 2022-01-02 오전 3 31 13\" src=\"https://user-images.githubusercontent.com/59143479/147857665-82b3bf77-38fe-4061-b35e-e04bf1fb9dc8.png\">"
   ]
  },
  {
   "cell_type": "markdown",
   "metadata": {},
   "source": [
    "`corrcoef`함수를 사용해서 numpy array도 구할 수 있음"
   ]
  },
  {
   "cell_type": "markdown",
   "metadata": {},
   "source": [
    "```python\n",
    "import numpy as np\n",
    "rng = np.random.default_rng(seed=42)\n",
    "xarr = rng.random((3, 3))\n",
    "xarr\n",
    "array([[0.77395605, 0.43887844, 0.85859792],\n",
    "       [0.69736803, 0.09417735, 0.97562235],\n",
    "       [0.7611397 , 0.78606431, 0.12811363]])\n",
    "R1 = np.corrcoef(xarr)\n",
    "R1\n",
    "array([[ 1.        ,  0.99256089, -0.68080986],\n",
    "       [ 0.99256089,  1.        , -0.76492172],\n",
    "       [-0.68080986, -0.76492172,  1.        ]])\n",
    "````"
   ]
  },
  {
   "cell_type": "markdown",
   "metadata": {},
   "source": [
    "# linregress 를 사용하여 간단한 선형회귀 그래프 그릴 수 있음"
   ]
  },
  {
   "cell_type": "code",
   "execution_count": 17,
   "metadata": {},
   "outputs": [
    {
     "name": "stdout",
     "output_type": "stream",
     "text": [
      "R-squared: 0.715166\n"
     ]
    },
    {
     "data": {
      "image/png": "[encoded data removed]",
      "text/plain": [
       "<Figure size 432x288 with 1 Axes>"
      ]
     },
     "metadata": {
      "needs_background": "light"
     },
     "output_type": "display_data"
    }
   ],
   "source": [
    "import matplotlib.pyplot as plt\n",
    "from scipy import stats\n",
    "rng = np.random.default_rng()\n",
    "\n",
    "x = rng.random(10)\n",
    "y = 1.6*x + rng.random(10)\n",
    "\n",
    "res = stats.linregress(x, y)\n",
    "\n",
    "print(f\"R-squared: {res.rvalue**2:.6f}\")\n",
    "\n",
    "plt.plot(x, y, 'o', label='original data')\n",
    "plt.plot(x, res.intercept + res.slope*x, 'r', label='fitted line')\n",
    "plt.legend()\n",
    "plt.show()"
   ]
  },
  {
   "cell_type": "markdown",
   "metadata": {},
   "source": [
    "# Multiple regression\n",
    "`import statsmodels.formula.api as smf`"
   ]
  },
  {
   "cell_type": "markdown",
   "metadata": {},
   "source": [
    "```python\n",
    "smf.ols()\n",
    "````"
   ]
  },
  {
   "cell_type": "markdown",
   "metadata": {},
   "source": [
    "<img width=\"529\" alt=\"스크린샷 2022-01-02 오전 3 38 03\" src=\"https://user-images.githubusercontent.com/59143479/147857775-440cb357-5d9f-4067-8d4b-49fe8ae6fcc6.png\">\n"
   ]
  },
  {
   "cell_type": "markdown",
   "metadata": {},
   "source": [
    "# Logistic regression"
   ]
  },
  {
   "cell_type": "markdown",
   "metadata": {},
   "source": [
    "- 데이터가 해당 클래스에 속할 확률을 0과 1 사이 값으로 나타냄"
   ]
  },
  {
   "cell_type": "markdown",
   "metadata": {},
   "source": [
    "```python\n",
    "smf.logit().fit()\n",
    "```"
   ]
  },
  {
   "cell_type": "markdown",
   "metadata": {},
   "source": [
    "<img width=\"503\" alt=\"스크린샷 2022-01-02 오전 3 40 41\" src=\"https://user-images.githubusercontent.com/59143479/147857812-0ca79bb1-1e38-4911-a74f-97fd6c98eaf9.png\">"
   ]
  }
 ],
 "metadata": {
  "interpreter": {
   "hash": "76925a60f1fe05db65a6fee4f61e02009b70dace84134e3097ceb232fd5e00ca"
  },
  "kernelspec": {
   "display_name": "Python 3.8.8 64-bit ('base': conda)",
   "language": "python",
   "name": "python3"
  },
  "language_info": {
   "codemirror_mode": {
    "name": "ipython",
    "version": 3
   },
   "file_extension": ".py",
   "mimetype": "text/x-python",
   "name": "python",
   "nbconvert_exporter": "python",
   "pygments_lexer": "ipython3",
   "version": "3.8.8"
  },
  "orig_nbformat": 4
 },
 "nbformat": 4,
 "nbformat_minor": 2
}
