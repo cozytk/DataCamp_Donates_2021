{
 "cells": [
  {
   "cell_type": "markdown",
   "metadata": {},
   "source": [
    "# Pandas\n",
    "- csv, pdf 그리고 hdf 등 읽을 수 있음 `pd.read_hdf()`"
   ]
  },
  {
   "cell_type": "code",
   "execution_count": 15,
   "metadata": {},
   "outputs": [],
   "source": [
    "import os\n",
    "import pandas as pd\n",
    "import numpy as np"
   ]
  },
  {
   "cell_type": "code",
   "execution_count": 3,
   "metadata": {},
   "outputs": [],
   "source": [
    "PATH = os.getenv('HOME')"
   ]
  },
  {
   "cell_type": "code",
   "execution_count": 4,
   "metadata": {},
   "outputs": [
    {
     "data": {
      "text/html": [
       "<div>\n",
       "<style scoped>\n",
       "    .dataframe tbody tr th:only-of-type {\n",
       "        vertical-align: middle;\n",
       "    }\n",
       "\n",
       "    .dataframe tbody tr th {\n",
       "        vertical-align: top;\n",
       "    }\n",
       "\n",
       "    .dataframe thead th {\n",
       "        text-align: right;\n",
       "    }\n",
       "</style>\n",
       "<table border=\"1\" class=\"dataframe\">\n",
       "  <thead>\n",
       "    <tr style=\"text-align: right;\">\n",
       "      <th></th>\n",
       "      <th>서울시 기준일</th>\n",
       "      <th>서울시 확진자</th>\n",
       "      <th>서울시 추가 확진</th>\n",
       "      <th>서울시 치료중</th>\n",
       "      <th>서울시 퇴원</th>\n",
       "      <th>서울시 추가 퇴원</th>\n",
       "      <th>서울시 사망</th>\n",
       "      <th>전국 기준일</th>\n",
       "      <th>전국 확진</th>\n",
       "      <th>전국 추가 확진</th>\n",
       "      <th>전국 치료중</th>\n",
       "      <th>전국 퇴원</th>\n",
       "      <th>전국 사망</th>\n",
       "    </tr>\n",
       "  </thead>\n",
       "  <tbody>\n",
       "    <tr>\n",
       "      <th>0</th>\n",
       "      <td>2021-12-04 00:00:00</td>\n",
       "      <td>163146</td>\n",
       "      <td>2273</td>\n",
       "      <td>25818</td>\n",
       "      <td>136150</td>\n",
       "      <td>1064</td>\n",
       "      <td>1178</td>\n",
       "      <td>2021-12-04 00:00:00</td>\n",
       "      <td>467907</td>\n",
       "      <td>5352</td>\n",
       "      <td>58555</td>\n",
       "      <td>405543</td>\n",
       "      <td>3809</td>\n",
       "    </tr>\n",
       "    <tr>\n",
       "      <th>1</th>\n",
       "      <td>2021-12-03 00:00:00</td>\n",
       "      <td>160873</td>\n",
       "      <td>2099</td>\n",
       "      <td>24639</td>\n",
       "      <td>135086</td>\n",
       "      <td>1889</td>\n",
       "      <td>1148</td>\n",
       "      <td>2021-12-03 00:00:00</td>\n",
       "      <td>462555</td>\n",
       "      <td>4944</td>\n",
       "      <td>55397</td>\n",
       "      <td>403419</td>\n",
       "      <td>3739</td>\n",
       "    </tr>\n",
       "    <tr>\n",
       "      <th>2</th>\n",
       "      <td>2021-12-02 00:00:00</td>\n",
       "      <td>158774</td>\n",
       "      <td>2268</td>\n",
       "      <td>24441</td>\n",
       "      <td>133197</td>\n",
       "      <td>1330</td>\n",
       "      <td>1136</td>\n",
       "      <td>2021-12-02 00:00:00</td>\n",
       "      <td>457612</td>\n",
       "      <td>5266</td>\n",
       "      <td>53322</td>\n",
       "      <td>400585</td>\n",
       "      <td>3705</td>\n",
       "    </tr>\n",
       "    <tr>\n",
       "      <th>3</th>\n",
       "      <td>2021-12-01 00:00:00</td>\n",
       "      <td>156507</td>\n",
       "      <td>2222</td>\n",
       "      <td>23527</td>\n",
       "      <td>131867</td>\n",
       "      <td>1299</td>\n",
       "      <td>1113</td>\n",
       "      <td>2021-12-01 00:00:00</td>\n",
       "      <td>452350</td>\n",
       "      <td>5123</td>\n",
       "      <td>50368</td>\n",
       "      <td>398323</td>\n",
       "      <td>3659</td>\n",
       "    </tr>\n",
       "    <tr>\n",
       "      <th>4</th>\n",
       "      <td>2021-11-30 00:00:00</td>\n",
       "      <td>154286</td>\n",
       "      <td>1186</td>\n",
       "      <td>22618</td>\n",
       "      <td>130568</td>\n",
       "      <td>1264</td>\n",
       "      <td>1100</td>\n",
       "      <td>2021-11-30 00:00:00</td>\n",
       "      <td>447230</td>\n",
       "      <td>3032</td>\n",
       "      <td>47536</td>\n",
       "      <td>396070</td>\n",
       "      <td>3624</td>\n",
       "    </tr>\n",
       "  </tbody>\n",
       "</table>\n",
       "</div>"
      ],
      "text/plain": [
       "               서울시 기준일  서울시 확진자  서울시 추가 확진  서울시 치료중  서울시 퇴원  서울시 추가 퇴원  \\\n",
       "0  2021-12-04 00:00:00   163146       2273    25818  136150       1064   \n",
       "1  2021-12-03 00:00:00   160873       2099    24639  135086       1889   \n",
       "2  2021-12-02 00:00:00   158774       2268    24441  133197       1330   \n",
       "3  2021-12-01 00:00:00   156507       2222    23527  131867       1299   \n",
       "4  2021-11-30 00:00:00   154286       1186    22618  130568       1264   \n",
       "\n",
       "   서울시 사망               전국 기준일   전국 확진  전국 추가 확진  전국 치료중   전국 퇴원  전국 사망  \n",
       "0    1178  2021-12-04 00:00:00  467907      5352   58555  405543   3809  \n",
       "1    1148  2021-12-03 00:00:00  462555      4944   55397  403419   3739  \n",
       "2    1136  2021-12-02 00:00:00  457612      5266   53322  400585   3705  \n",
       "3    1113  2021-12-01 00:00:00  452350      5123   50368  398323   3659  \n",
       "4    1100  2021-11-30 00:00:00  447230      3032   47536  396070   3624  "
      ]
     },
     "execution_count": 4,
     "metadata": {},
     "output_type": "execute_result"
    }
   ],
   "source": [
    "df = pd.read_csv(PATH + '/data/trends-extend.csv')\n",
    "df.head()"
   ]
  },
  {
   "cell_type": "code",
   "execution_count": 5,
   "metadata": {},
   "outputs": [
    {
     "data": {
      "text/plain": [
       "(664, 13)"
      ]
     },
     "execution_count": 5,
     "metadata": {},
     "output_type": "execute_result"
    }
   ],
   "source": [
    "df.shape"
   ]
  },
  {
   "cell_type": "code",
   "execution_count": 6,
   "metadata": {},
   "outputs": [
    {
     "data": {
      "text/plain": [
       "Index(['서울시 기준일', '서울시 확진자', '서울시 추가 확진', '서울시 치료중', '서울시 퇴원', '서울시 추가 퇴원',\n",
       "       '서울시 사망', '전국 기준일', '전국 확진', '전국 추가 확진', '전국 치료중', '전국 퇴원', '전국 사망'],\n",
       "      dtype='object')"
      ]
     },
     "execution_count": 6,
     "metadata": {},
     "output_type": "execute_result"
    }
   ],
   "source": [
    "df.columns"
   ]
  },
  {
   "cell_type": "markdown",
   "metadata": {},
   "source": [
    "# Clean and Validate\n",
    "### Describe\n",
    "`series.value_counts().sort_index()`\n",
    "`series.describe()`\n",
    "### Replace\n",
    "`series.replace([98, 99], np.nan, inplace=True)`\n",
    "### Arithmetic with Series\n",
    "`series_new = s1 + s2 / 16.0`\n"
   ]
  },
  {
   "cell_type": "markdown",
   "metadata": {},
   "source": [
    "# Filter and visualize\n",
    "### Histogram\n",
    "`plt.hist(series.dropna(), bins=30)`"
   ]
  },
  {
   "cell_type": "code",
   "execution_count": 8,
   "metadata": {},
   "outputs": [
    {
     "data": {
      "text/plain": [
       "0     True\n",
       "1     True\n",
       "2     True\n",
       "3     True\n",
       "4    False\n",
       "Name: 서울시 추가 확진, dtype: bool"
      ]
     },
     "execution_count": 8,
     "metadata": {},
     "output_type": "execute_result"
    }
   ],
   "source": [
    "# Boolean Series\n",
    "\n",
    "added_cases = df['서울시 추가 확진'] > 2000\n",
    "added_cases.head()"
   ]
  },
  {
   "cell_type": "code",
   "execution_count": 9,
   "metadata": {},
   "outputs": [
    {
     "data": {
      "text/plain": [
       "4"
      ]
     },
     "execution_count": 9,
     "metadata": {},
     "output_type": "execute_result"
    }
   ],
   "source": [
    "added_cases.sum()"
   ]
  },
  {
   "cell_type": "markdown",
   "metadata": {},
   "source": [
    "### 2000 이상 평균"
   ]
  },
  {
   "cell_type": "code",
   "execution_count": 12,
   "metadata": {},
   "outputs": [
    {
     "data": {
      "text/plain": [
       "2215.5"
      ]
     },
     "execution_count": 12,
     "metadata": {},
     "output_type": "execute_result"
    }
   ],
   "source": [
    "cases = df['서울시 추가 확진'][added_cases]\n",
    "cases.mean()"
   ]
  },
  {
   "cell_type": "markdown",
   "metadata": {},
   "source": [
    "### 2000 이하 평균"
   ]
  },
  {
   "cell_type": "code",
   "execution_count": 13,
   "metadata": {},
   "outputs": [
    {
     "data": {
      "text/plain": [
       "224.91666666666666"
      ]
     },
     "execution_count": 13,
     "metadata": {},
     "output_type": "execute_result"
    }
   ],
   "source": [
    "cases = df['서울시 추가 확진'][~added_cases]\n",
    "cases.mean()"
   ]
  },
  {
   "cell_type": "markdown",
   "metadata": {},
   "source": [
    "# Filtering\n",
    "### logical operators:\n",
    "- `&` for AND\n",
    "- `|` for OR"
   ]
  },
  {
   "cell_type": "code",
   "execution_count": 21,
   "metadata": {},
   "outputs": [
    {
     "data": {
      "text/plain": [
       "3"
      ]
     },
     "execution_count": 21,
     "metadata": {},
     "output_type": "execute_result"
    }
   ],
   "source": [
    "whole_over_5000 = df['전국 추가 확진'] > 5000\n",
    "whole_over_5000.sum()"
   ]
  },
  {
   "cell_type": "code",
   "execution_count": 22,
   "metadata": {},
   "outputs": [
    {
     "data": {
      "text/plain": [
       "4"
      ]
     },
     "execution_count": 22,
     "metadata": {},
     "output_type": "execute_result"
    }
   ],
   "source": [
    "seoul_over_2000 = added_cases\n",
    "added_cases.sum()"
   ]
  },
  {
   "cell_type": "code",
   "execution_count": 23,
   "metadata": {},
   "outputs": [
    {
     "data": {
      "text/html": [
       "<div>\n",
       "<style scoped>\n",
       "    .dataframe tbody tr th:only-of-type {\n",
       "        vertical-align: middle;\n",
       "    }\n",
       "\n",
       "    .dataframe tbody tr th {\n",
       "        vertical-align: top;\n",
       "    }\n",
       "\n",
       "    .dataframe thead th {\n",
       "        text-align: right;\n",
       "    }\n",
       "</style>\n",
       "<table border=\"1\" class=\"dataframe\">\n",
       "  <thead>\n",
       "    <tr style=\"text-align: right;\">\n",
       "      <th></th>\n",
       "      <th>서울시 기준일</th>\n",
       "      <th>서울시 확진자</th>\n",
       "      <th>서울시 추가 확진</th>\n",
       "      <th>서울시 치료중</th>\n",
       "      <th>서울시 퇴원</th>\n",
       "      <th>서울시 추가 퇴원</th>\n",
       "      <th>서울시 사망</th>\n",
       "      <th>전국 기준일</th>\n",
       "      <th>전국 확진</th>\n",
       "      <th>전국 추가 확진</th>\n",
       "      <th>전국 치료중</th>\n",
       "      <th>전국 퇴원</th>\n",
       "      <th>전국 사망</th>\n",
       "    </tr>\n",
       "  </thead>\n",
       "  <tbody>\n",
       "    <tr>\n",
       "      <th>0</th>\n",
       "      <td>2021-12-04 00:00:00</td>\n",
       "      <td>163146</td>\n",
       "      <td>2273</td>\n",
       "      <td>25818</td>\n",
       "      <td>136150</td>\n",
       "      <td>1064</td>\n",
       "      <td>1178</td>\n",
       "      <td>2021-12-04 00:00:00</td>\n",
       "      <td>467907</td>\n",
       "      <td>5352</td>\n",
       "      <td>58555</td>\n",
       "      <td>405543</td>\n",
       "      <td>3809</td>\n",
       "    </tr>\n",
       "    <tr>\n",
       "      <th>2</th>\n",
       "      <td>2021-12-02 00:00:00</td>\n",
       "      <td>158774</td>\n",
       "      <td>2268</td>\n",
       "      <td>24441</td>\n",
       "      <td>133197</td>\n",
       "      <td>1330</td>\n",
       "      <td>1136</td>\n",
       "      <td>2021-12-02 00:00:00</td>\n",
       "      <td>457612</td>\n",
       "      <td>5266</td>\n",
       "      <td>53322</td>\n",
       "      <td>400585</td>\n",
       "      <td>3705</td>\n",
       "    </tr>\n",
       "    <tr>\n",
       "      <th>3</th>\n",
       "      <td>2021-12-01 00:00:00</td>\n",
       "      <td>156507</td>\n",
       "      <td>2222</td>\n",
       "      <td>23527</td>\n",
       "      <td>131867</td>\n",
       "      <td>1299</td>\n",
       "      <td>1113</td>\n",
       "      <td>2021-12-01 00:00:00</td>\n",
       "      <td>452350</td>\n",
       "      <td>5123</td>\n",
       "      <td>50368</td>\n",
       "      <td>398323</td>\n",
       "      <td>3659</td>\n",
       "    </tr>\n",
       "  </tbody>\n",
       "</table>\n",
       "</div>"
      ],
      "text/plain": [
       "               서울시 기준일  서울시 확진자  서울시 추가 확진  서울시 치료중  서울시 퇴원  서울시 추가 퇴원  \\\n",
       "0  2021-12-04 00:00:00   163146       2273    25818  136150       1064   \n",
       "2  2021-12-02 00:00:00   158774       2268    24441  133197       1330   \n",
       "3  2021-12-01 00:00:00   156507       2222    23527  131867       1299   \n",
       "\n",
       "   서울시 사망               전국 기준일   전국 확진  전국 추가 확진  전국 치료중   전국 퇴원  전국 사망  \n",
       "0    1178  2021-12-04 00:00:00  467907      5352   58555  405543   3809  \n",
       "2    1136  2021-12-02 00:00:00  457612      5266   53322  400585   3705  \n",
       "3    1113  2021-12-01 00:00:00  452350      5123   50368  398323   3659  "
      ]
     },
     "execution_count": 23,
     "metadata": {},
     "output_type": "execute_result"
    }
   ],
   "source": [
    "df[whole_over_5000 & seoul_over_2000]"
   ]
  },
  {
   "cell_type": "code",
   "execution_count": 24,
   "metadata": {},
   "outputs": [
    {
     "data": {
      "text/html": [
       "<div>\n",
       "<style scoped>\n",
       "    .dataframe tbody tr th:only-of-type {\n",
       "        vertical-align: middle;\n",
       "    }\n",
       "\n",
       "    .dataframe tbody tr th {\n",
       "        vertical-align: top;\n",
       "    }\n",
       "\n",
       "    .dataframe thead th {\n",
       "        text-align: right;\n",
       "    }\n",
       "</style>\n",
       "<table border=\"1\" class=\"dataframe\">\n",
       "  <thead>\n",
       "    <tr style=\"text-align: right;\">\n",
       "      <th></th>\n",
       "      <th>서울시 기준일</th>\n",
       "      <th>서울시 확진자</th>\n",
       "      <th>서울시 추가 확진</th>\n",
       "      <th>서울시 치료중</th>\n",
       "      <th>서울시 퇴원</th>\n",
       "      <th>서울시 추가 퇴원</th>\n",
       "      <th>서울시 사망</th>\n",
       "      <th>전국 기준일</th>\n",
       "      <th>전국 확진</th>\n",
       "      <th>전국 추가 확진</th>\n",
       "      <th>전국 치료중</th>\n",
       "      <th>전국 퇴원</th>\n",
       "      <th>전국 사망</th>\n",
       "    </tr>\n",
       "  </thead>\n",
       "  <tbody>\n",
       "    <tr>\n",
       "      <th>1</th>\n",
       "      <td>2021-12-03 00:00:00</td>\n",
       "      <td>160873</td>\n",
       "      <td>2099</td>\n",
       "      <td>24639</td>\n",
       "      <td>135086</td>\n",
       "      <td>1889</td>\n",
       "      <td>1148</td>\n",
       "      <td>2021-12-03 00:00:00</td>\n",
       "      <td>462555</td>\n",
       "      <td>4944</td>\n",
       "      <td>55397</td>\n",
       "      <td>403419</td>\n",
       "      <td>3739</td>\n",
       "    </tr>\n",
       "  </tbody>\n",
       "</table>\n",
       "</div>"
      ],
      "text/plain": [
       "               서울시 기준일  서울시 확진자  서울시 추가 확진  서울시 치료중  서울시 퇴원  서울시 추가 퇴원  \\\n",
       "1  2021-12-03 00:00:00   160873       2099    24639  135086       1889   \n",
       "\n",
       "   서울시 사망               전국 기준일   전국 확진  전국 추가 확진  전국 치료중   전국 퇴원  전국 사망  \n",
       "1    1148  2021-12-03 00:00:00  462555      4944   55397  403419   3739  "
      ]
     },
     "execution_count": 24,
     "metadata": {},
     "output_type": "execute_result"
    }
   ],
   "source": [
    "df[~whole_over_5000 & seoul_over_2000]"
   ]
  },
  {
   "cell_type": "markdown",
   "metadata": {},
   "source": [
    "### PMF\n",
    "- 정확히 그 값\n",
    "### CDF\n",
    "- 누적합"
   ]
  },
  {
   "cell_type": "markdown",
   "metadata": {},
   "source": [
    "# The normal distribution\n",
    "`np.random.normal(size=)` \n",
    "\n",
    "# The noraml CDF"
   ]
  },
  {
   "cell_type": "code",
   "execution_count": 32,
   "metadata": {},
   "outputs": [],
   "source": [
    "from scipy.stats import norm\n",
    "import matplotlib.pyplot as plt\n",
    "import seaborn as sns"
   ]
  },
  {
   "cell_type": "code",
   "execution_count": 28,
   "metadata": {},
   "outputs": [],
   "source": [
    "xs = np.linspace(-3, 3)\n",
    "ys = norm(0, 1).cdf(xs)"
   ]
  },
  {
   "cell_type": "code",
   "execution_count": 30,
   "metadata": {},
   "outputs": [
    {
     "data": {
      "text/plain": [
       "[<matplotlib.lines.Line2D at 0x7fb2328725b0>]"
      ]
     },
     "execution_count": 30,
     "metadata": {},
     "output_type": "execute_result"
    },
    {
     "data": {
      "image/png": "[encoded data removed]",
      "text/plain": [
       "<Figure size 432x288 with 1 Axes>"
      ]
     },
     "metadata": {
      "needs_background": "light"
     },
     "output_type": "display_data"
    }
   ],
   "source": [
    "plt.plot(xs, ys, color='gray')"
   ]
  },
  {
   "cell_type": "code",
   "execution_count": 31,
   "metadata": {},
   "outputs": [
    {
     "data": {
      "text/plain": [
       "[<matplotlib.lines.Line2D at 0x7fb2329bce20>]"
      ]
     },
     "execution_count": 31,
     "metadata": {},
     "output_type": "execute_result"
    },
    {
     "data": {
      "image/png": "[encoded data removed]",
      "text/plain": [
       "<Figure size 432x288 with 1 Axes>"
      ]
     },
     "metadata": {
      "needs_background": "light"
     },
     "output_type": "display_data"
    }
   ],
   "source": [
    "xs = np.linspace(-3, 3)\n",
    "ys = norm(0,1).pdf(xs)\n",
    "plt.plot(xs, ys, color='gray')"
   ]
  },
  {
   "cell_type": "code",
   "execution_count": 37,
   "metadata": {},
   "outputs": [
    {
     "data": {
      "text/plain": [
       "<AxesSubplot:ylabel='Density'>"
      ]
     },
     "execution_count": 37,
     "metadata": {},
     "output_type": "execute_result"
    },
    {
     "data": {
      "image/png": "[encoded data removed]",
      "text/plain": [
       "<Figure size 432x288 with 1 Axes>"
      ]
     },
     "metadata": {
      "needs_background": "light"
     },
     "output_type": "display_data"
    }
   ],
   "source": [
    "sns.kdeplot(sample)"
   ]
  },
  {
   "cell_type": "code",
   "execution_count": 36,
   "metadata": {},
   "outputs": [],
   "source": [
    "sample = np.random.normal(size=1000)"
   ]
  },
  {
   "cell_type": "code",
   "execution_count": 38,
   "metadata": {},
   "outputs": [
    {
     "data": {
      "text/plain": [
       "<AxesSubplot:ylabel='Density'>"
      ]
     },
     "execution_count": 38,
     "metadata": {},
     "output_type": "execute_result"
    },
    {
     "data": {
      "image/png": "[encoded data removed]",
      "text/plain": [
       "<Figure size 432x288 with 1 Axes>"
      ]
     },
     "metadata": {
      "needs_background": "light"
     },
     "output_type": "display_data"
    }
   ],
   "source": [
    "xs = np.linspace(-3, 3)\n",
    "ys = norm.pdf(xs)\n",
    "plt.plot(xs, ys, color='gray')\n",
    "sns.kdeplot(sample)"
   ]
  },
  {
   "cell_type": "markdown",
   "metadata": {},
   "source": [
    "# PMF, CDF, KDE\n",
    "- Use CDFs for explortation.\n",
    "- Use PMFs if there are a small number of unique values.\n",
    "- Use KDE if there are a lot of values"
   ]
  }
 ],
 "metadata": {
  "interpreter": {
   "hash": "76925a60f1fe05db65a6fee4f61e02009b70dace84134e3097ceb232fd5e00ca"
  },
  "kernelspec": {
   "display_name": "Python 3.8.8 64-bit ('base': conda)",
   "language": "python",
   "name": "python3"
  },
  "language_info": {
   "codemirror_mode": {
    "name": "ipython",
    "version": 3
   },
   "file_extension": ".py",
   "mimetype": "text/x-python",
   "name": "python",
   "nbconvert_exporter": "python",
   "pygments_lexer": "ipython3",
   "version": "3.8.8"
  },
  "orig_nbformat": 4
 },
 "nbformat": 4,
 "nbformat_minor": 2
}
