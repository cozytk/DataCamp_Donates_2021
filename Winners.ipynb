{
 "cells": [
  {
   "cell_type": "markdown",
   "metadata": {},
   "source": [
    "# Random Sampling"
   ]
  },
  {
   "cell_type": "code",
   "execution_count": 1,
   "metadata": {},
   "outputs": [
    {
     "name": "stdout",
     "output_type": "stream",
     "text": [
      "['보람', '민재', '태균']\n",
      "['선민', '태균', '민재']\n",
      "['민재', '보람', '태균'] << 공유발표 당첨\n",
      "['보람', '선민', '태균']\n",
      "['민재', '선민', '보람']\n"
     ]
    }
   ],
   "source": [
    "from random import sample \n",
    "\n",
    "lucky_num = 3\n",
    "\n",
    "for i in range(5):    \n",
    "    list1 = ['선민','민재','태균','보람']  \n",
    "    if i == lucky_num-1:\n",
    "        print(sample(list1,3), '<< 공유발표 당첨')   \n",
    "    else:\n",
    "        print(sample(list1,3))"
   ]
  },
  {
   "cell_type": "markdown",
   "metadata": {},
   "source": [
    "# History"
   ]
  },
  {
   "cell_type": "code",
   "execution_count": 2,
   "metadata": {},
   "outputs": [
    {
     "name": "stdout",
     "output_type": "stream",
     "text": [
      "1회차 ['사라', '민재', '보람']\n",
      "2회차 ['민재', '사라', '태균']\n",
      "3회차 ['보람', '선민', 'ㅁㅁ']\n",
      "2021.11.27 ['ㅁㅁ', 'ㅁㅁ', 'ㅁㅁ']\n",
      "2021.12.04 ['사라', '태균', '선민']\n",
      "2021.12.11 ['보람', '선민', '태균']\n"
     ]
    }
   ],
   "source": [
    "# Dictionary에 Winner History 저장\n",
    "d = dict({'1회차':['사라', '민재', '보람'], \n",
    "          '2회차':['민재', '사라', '태균'],\n",
    "          '3회차':['보람', '선민', 'ㅁㅁ'],\n",
    "          '2021.11.27':['ㅁㅁ', 'ㅁㅁ', 'ㅁㅁ'],\n",
    "          '2021.12.04':['사라', '태균', '선민'],\n",
    "          '2021.12.11':['보람', '선민', '태균']\n",
    "})\n",
    "\n",
    "# History 출력\n",
    "for key, val in d.items():\n",
    "    print(key, val)"
   ]
  },
  {
   "cell_type": "code",
   "execution_count": null,
   "metadata": {},
   "outputs": [],
   "source": []
  },
  {
   "cell_type": "code",
   "execution_count": null,
   "metadata": {},
   "outputs": [],
   "source": []
  }
 ],
 "metadata": {
  "kernelspec": {
   "display_name": "Python 3",
   "language": "python",
   "name": "python3"
  },
  "language_info": {
   "codemirror_mode": {
    "name": "ipython",
    "version": 3
   },
   "file_extension": ".py",
   "mimetype": "text/x-python",
   "name": "python",
   "nbconvert_exporter": "python",
   "pygments_lexer": "ipython3",
   "version": "3.8.2"
  }
 },
 "nbformat": 4,
 "nbformat_minor": 4
}
