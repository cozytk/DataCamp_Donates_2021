{
  "nbformat": 4,
  "nbformat_minor": 0,
  "metadata": {
    "colab": {
      "name": "데사스터디_0918_Numpy.ipynb",
      "provenance": []
    },
    "kernelspec": {
      "name": "python3",
      "display_name": "Python 3"
    },
    "language_info": {
      "name": "python"
    }
  },
  "cells": [
    {
      "cell_type": "markdown",
      "metadata": {
        "id": "7lsCm1joR7yt"
      },
      "source": [
        "#Numpy는 할 수 있지만 일반 리스트는 할 수 없는것"
      ]
    },
    {
      "cell_type": "code",
      "metadata": {
        "colab": {
          "base_uri": "https://localhost:8080/",
          "height": 203
        },
        "id": "y4VQginVR4R0",
        "outputId": "583ad843-96ce-4196-8adb-d672803b2218"
      },
      "source": [
        "#일반 list에서는 모두 일괄적인 계산이 어렵다.고로 에러가 뜬다!\n",
        "height = [1.73,1.68,1.71,1.89,1.79]\n",
        "weight = [65.4,56.7,33.6,66.5,34.6]\n",
        "weight / height ** 2 "
      ],
      "execution_count": 17,
      "outputs": [
        {
          "output_type": "error",
          "ename": "TypeError",
          "evalue": "ignored",
          "traceback": [
            "\u001b[0;31m---------------------------------------------------------------------------\u001b[0m",
            "\u001b[0;31mTypeError\u001b[0m                                 Traceback (most recent call last)",
            "\u001b[0;32m<ipython-input-17-d2ffa7e3eef4>\u001b[0m in \u001b[0;36m<module>\u001b[0;34m()\u001b[0m\n\u001b[1;32m      2\u001b[0m \u001b[0mheight\u001b[0m \u001b[0;34m=\u001b[0m \u001b[0;34m[\u001b[0m\u001b[0;36m1.73\u001b[0m\u001b[0;34m,\u001b[0m\u001b[0;36m1.68\u001b[0m\u001b[0;34m,\u001b[0m\u001b[0;36m1.71\u001b[0m\u001b[0;34m,\u001b[0m\u001b[0;36m1.89\u001b[0m\u001b[0;34m,\u001b[0m\u001b[0;36m1.79\u001b[0m\u001b[0;34m]\u001b[0m\u001b[0;34m\u001b[0m\u001b[0;34m\u001b[0m\u001b[0m\n\u001b[1;32m      3\u001b[0m \u001b[0mweight\u001b[0m \u001b[0;34m=\u001b[0m \u001b[0;34m[\u001b[0m\u001b[0;36m65.4\u001b[0m\u001b[0;34m,\u001b[0m\u001b[0;36m56.7\u001b[0m\u001b[0;34m,\u001b[0m\u001b[0;36m33.6\u001b[0m\u001b[0;34m,\u001b[0m\u001b[0;36m66.5\u001b[0m\u001b[0;34m,\u001b[0m\u001b[0;36m34.6\u001b[0m\u001b[0;34m]\u001b[0m\u001b[0;34m\u001b[0m\u001b[0;34m\u001b[0m\u001b[0m\n\u001b[0;32m----> 4\u001b[0;31m \u001b[0mweight\u001b[0m \u001b[0;34m/\u001b[0m \u001b[0mheight\u001b[0m \u001b[0;34m**\u001b[0m \u001b[0;36m2\u001b[0m\u001b[0;34m\u001b[0m\u001b[0;34m\u001b[0m\u001b[0m\n\u001b[0m",
            "\u001b[0;31mTypeError\u001b[0m: unsupported operand type(s) for ** or pow(): 'list' and 'int'"
          ]
        }
      ]
    },
    {
      "cell_type": "code",
      "metadata": {
        "colab": {
          "base_uri": "https://localhost:8080/"
        },
        "id": "_hfpq3trS0lT",
        "outputId": "26e7b486-5cd9-4b12-a766-68e5d0cc75db"
      },
      "source": [
        "#Numpy는 작업방법을 알고 있어 쉽게 계산할 수 있다.\n",
        "import numpy as np\n",
        "np_height = np.array(height)\n",
        "np_weight = np.array(weight)\n",
        "np_weight / np_height ** 2"
      ],
      "execution_count": 18,
      "outputs": [
        {
          "output_type": "execute_result",
          "data": {
            "text/plain": [
              "array([21.85171573, 20.08928571, 11.49071509, 18.6165001 , 10.79866421])"
            ]
          },
          "metadata": {},
          "execution_count": 18
        }
      ]
    },
    {
      "cell_type": "markdown",
      "metadata": {
        "id": "3ouMi0ywTYJ-"
      },
      "source": [
        "#Numpy Subsetting & Numpy Side Effects"
      ]
    },
    {
      "cell_type": "code",
      "metadata": {
        "colab": {
          "base_uri": "https://localhost:8080/"
        },
        "id": "aUUwJNraTr-T",
        "outputId": "66a8b96e-85e9-4a2e-af75-4946e0cab965"
      },
      "source": [
        "#Numpy는 오직 한 종류의 type만 가능하다(유형이 다른 요소를 포함할 수 없다)\n",
        "#자동으로 타입을 동일하게 변환해준다.\n",
        "np.array([1.0,\"is\", True])"
      ],
      "execution_count": 19,
      "outputs": [
        {
          "output_type": "execute_result",
          "data": {
            "text/plain": [
              "array(['1.0', 'is', 'True'], dtype='<U32')"
            ]
          },
          "metadata": {},
          "execution_count": 19
        }
      ]
    },
    {
      "cell_type": "code",
      "metadata": {
        "colab": {
          "base_uri": "https://localhost:8080/"
        },
        "id": "u--MuPRwUB9q",
        "outputId": "47713cd0-ceaf-40d5-d71d-b76d9cc0c3c5"
      },
      "source": [
        "#자동으로 구현되는 Numpy만의 메소드가 존재한다.\n",
        "python_List = [1,2,3]\n",
        "numpy_array = np.array([1,2,3])\n",
        "\n",
        "print(python_List + python_List)\n",
        "\n",
        "print(numpy_array + numpy_array)"
      ],
      "execution_count": 20,
      "outputs": [
        {
          "output_type": "stream",
          "name": "stdout",
          "text": [
            "[1, 2, 3, 1, 2, 3]\n",
            "[2 4 6]\n"
          ]
        }
      ]
    },
    {
      "cell_type": "code",
      "metadata": {
        "colab": {
          "base_uri": "https://localhost:8080/"
        },
        "id": "ETYYcKjvU0o_",
        "outputId": "899481d8-87ab-48b6-8f09-f134cf41bb8e"
      },
      "source": [
        "#이렇게도 원하는 결과값을 확인 할 수 있다.\n",
        "bmi= np.array([21.456,23.444,56.333,13.455])\n",
        "print(bmi[1])\n",
        "\n",
        "print(bmi > 23) #불린값을 구할 수 있다\n",
        "\n",
        "print(bmi[bmi > 23]) #불린값을 통해 요소를 프린트할 수 있다.\n"
      ],
      "execution_count": 21,
      "outputs": [
        {
          "output_type": "stream",
          "name": "stdout",
          "text": [
            "23.444\n",
            "[False  True  True False]\n",
            "[23.444 56.333]\n"
          ]
        }
      ]
    },
    {
      "cell_type": "markdown",
      "metadata": {
        "id": "PLoBqgyUpaYa"
      },
      "source": [
        "##파이썬 리스트와 넘파이의 차이"
      ]
    },
    {
      "cell_type": "code",
      "metadata": {
        "colab": {
          "base_uri": "https://localhost:8080/"
        },
        "id": "39s2Aq1akPtP",
        "outputId": "33795b44-cc25-4b70-e506-6b5f69dc4180"
      },
      "source": [
        "#넘파이 배열에 사용되는 연산자는 배열의 모든 요소에 개별적으로 연산이 적용된다!\n",
        "list_data = [1,2,3,4]\n",
        "array_data = np.array([1,2,3,4])\n",
        "\n",
        "#파이썬 리스트는 곱셈 연산자를 만나면 지정된 횟수만큼 리스트의 요소를 반복하는 리스트를 만드므로 길이가 두배로 늘어난다.\n",
        "print('파이썬 리스트 곱셈 연산 결과: {}'.format(list_data * 2))\n",
        "print('넘파이 배열 곱셈 연산 결과:{}'.format(array_data * 2))"
      ],
      "execution_count": 22,
      "outputs": [
        {
          "output_type": "stream",
          "name": "stdout",
          "text": [
            "파이썬 리스트 곱셈 연산 결과: [1, 2, 3, 4, 1, 2, 3, 4]\n",
            "넘파이 배열 곱셈 연산 결과:[2 4 6 8]\n"
          ]
        }
      ]
    },
    {
      "cell_type": "markdown",
      "metadata": {
        "id": "6xbOZ2gtrgQm"
      },
      "source": [
        "##넘파이의 다양한 함수모음"
      ]
    },
    {
      "cell_type": "code",
      "metadata": {
        "id": "BYQ-E_wqrf1o",
        "colab": {
          "base_uri": "https://localhost:8080/"
        },
        "outputId": "1665d7d4-4c5d-4ab7-f9c9-4f8f02bc1059"
      },
      "source": [
        "import numpy as np\n",
        "\n",
        "one_point=np.array([1,2,3,4,5,6])\n",
        "print(one_point.dtype) #자료형을 출력해준다\n",
        "\n",
        "one_point.astype(str) #해당 형식으로 변경\n",
        "\n",
        "one_1 = np.arange(10) #0번부터 인덱스 순서대로 값을 넣는다\n",
        "print(one_1)\n",
        "\n",
        "one_2 = np.arange(0, 10, 0.5) #0부터 9.5까지 0.5 간격으로 \n",
        "print(one_2)\n",
        "\n",
        "one_3 = np.arange(20).reshape(4,5) #0부터 인덱스 20까지 reshape를 통해 행과 열 설정해줌\n",
        "print(one_3)\n",
        "# np.reshape(행,열) #특정 배열을 행,열에 맞춰서 배치한다.\n",
        "\n",
        "np.zeros((3,4)) #모든 값을 0으로 채운다."
      ],
      "execution_count": 23,
      "outputs": [
        {
          "output_type": "stream",
          "name": "stdout",
          "text": [
            "int64\n",
            "[0 1 2 3 4 5 6 7 8 9]\n",
            "[0.  0.5 1.  1.5 2.  2.5 3.  3.5 4.  4.5 5.  5.5 6.  6.5 7.  7.5 8.  8.5\n",
            " 9.  9.5]\n",
            "[[ 0  1  2  3  4]\n",
            " [ 5  6  7  8  9]\n",
            " [10 11 12 13 14]\n",
            " [15 16 17 18 19]]\n"
          ]
        },
        {
          "output_type": "execute_result",
          "data": {
            "text/plain": [
              "array([[0., 0., 0., 0.],\n",
              "       [0., 0., 0., 0.],\n",
              "       [0., 0., 0., 0.]])"
            ]
          },
          "metadata": {},
          "execution_count": 23
        }
      ]
    }
  ]
}