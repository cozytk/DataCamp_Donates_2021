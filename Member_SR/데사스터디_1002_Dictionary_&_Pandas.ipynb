{
  "nbformat": 4,
  "nbformat_minor": 0,
  "metadata": {
    "colab": {
      "name": "데사스터디_1002_Dictionary & Pandas.ipynb",
      "provenance": [],
      "collapsed_sections": []
    },
    "kernelspec": {
      "name": "python3",
      "display_name": "Python 3"
    },
    "language_info": {
      "name": "python"
    }
  },
  "cells": [
    {
      "cell_type": "markdown",
      "metadata": {
        "id": "0Sdo85OOnLhw"
      },
      "source": [
        "###Dictionary 등장배경"
      ]
    },
    {
      "cell_type": "code",
      "metadata": {
        "id": "cjq_gIbpnD3l",
        "colab": {
          "base_uri": "https://localhost:8080/"
        },
        "outputId": "8981a7b4-c850-41c0-89a6-46fde269e098"
      },
      "source": [
        "#List로 각 음식(키로 가정)과 가격(값으로 가정)을 연결하려면 이렇게 해야한다.\n",
        "food = [\"고구마치즈돈까스\",\"연어덮밥\",\"고등어회\",\"회냉면\"]\n",
        "price = [9000,11000,30000,8500]\n",
        "ind = food.index(\"고등어회\")\n",
        "print(ind) \n",
        "\n",
        "#매우 불편한 것을 볼 수 있다.\n",
        "price[ind]"
      ],
      "execution_count": null,
      "outputs": [
        {
          "output_type": "stream",
          "name": "stdout",
          "text": [
            "2\n"
          ]
        },
        {
          "output_type": "execute_result",
          "data": {
            "text/plain": [
              "30000"
            ]
          },
          "metadata": {},
          "execution_count": 2
        }
      ]
    },
    {
      "cell_type": "code",
      "metadata": {
        "colab": {
          "base_uri": "https://localhost:8080/"
        },
        "id": "nhzlqgYBqmZN",
        "outputId": "112c0769-aeda-4184-8386-3f5755d45af5"
      },
      "source": [
        "#하지만 Dictionary는 이렇게 편리하다!\n",
        "foodworld = {\"고구마치즈돈까스\":9000,\"연어덮밥\":11000,\"고등어회\":30000,\"회냉면\":8500}\n",
        "foodworld[\"고구마치즈돈까스\"]"
      ],
      "execution_count": null,
      "outputs": [
        {
          "output_type": "execute_result",
          "data": {
            "text/plain": [
              "9000"
            ]
          },
          "metadata": {},
          "execution_count": 3
        }
      ]
    },
    {
      "cell_type": "markdown",
      "metadata": {
        "id": "YS8-5FA2sjPp"
      },
      "source": [
        "####Dictionary 특징\n",
        "1.딕셔너리 객체는 넣은 순서대로 저장되지 않기 때문에 검색할 때 속도가 좋다.(해싱 기법을 이용하기 때문에 자료가 순서대로 저장되지 않는다.) \n",
        "\n",
        "2.해싱기법이란 --> 잘 정리된 블로그글참고!\n",
        "https://comdoc.tistory.com/entry/17-%ED%95%B4%EC%8B%B1hashing-%ED%8C%8C%EC%9D%B4%EC%8D%AC\n",
        " \n",
        "\n",
        "3.key값는 변하지 않는 값을 사용하고, 중복이 불가능하다. value값은 변동이 가능하다.\n",
        "\n",
        "4.index기능이 없고, key값으로 조회가 가능\n",
        "\n",
        "5.딕셔너리에 리스트요소 추가 가능하고, 딕셔너리에 딕셔너리 요소 추가도 가능하다."
      ]
    },
    {
      "cell_type": "code",
      "metadata": {
        "colab": {
          "base_uri": "https://localhost:8080/"
        },
        "id": "h0eF549KsqKD",
        "outputId": "c6f2302b-4d3b-4324-ff68-6585405ab2a2"
      },
      "source": [
        "#list는 index를 숫자로만 지정할 수 있지만, dictionary는 문자,집합\n",
        "foodworld = {\"고구마치즈돈까스\":9000,\"연어덮밥\":11000,\"고등어회\":30000,\"회냉면\":8500,\"고구마치즈돈까스\":7000}\n",
        "foodworld\n",
        "\n",
        "#새로운 키:값을 추가하는 방법이다.\n",
        "foodworld[\"비빔밥\"] = 15000\n",
        "print(foodworld)\n",
        "\n",
        "#이렇게 참/거짓으로 확인해 볼 수도 있다.\n",
        "\"비빔밥\" in foodworld"
      ],
      "execution_count": null,
      "outputs": [
        {
          "output_type": "stream",
          "name": "stdout",
          "text": [
            "{'고구마치즈돈까스': 7000, '연어덮밥': 11000, '고등어회': 30000, '회냉면': 8500, '비빔밥': 15000}\n"
          ]
        },
        {
          "output_type": "execute_result",
          "data": {
            "text/plain": [
              "True"
            ]
          },
          "metadata": {},
          "execution_count": 4
        }
      ]
    },
    {
      "cell_type": "code",
      "metadata": {
        "colab": {
          "base_uri": "https://localhost:8080/"
        },
        "id": "I3mjh3ZcEPLp",
        "outputId": "35f4fe26-f441-4353-e5f7-ba777f2074dc"
      },
      "source": [
        "#추가한 키값 삭제하기\n",
        "del(foodworld[\"비빔밥\"])\n",
        "foodworld"
      ],
      "execution_count": null,
      "outputs": [
        {
          "output_type": "execute_result",
          "data": {
            "text/plain": [
              "{'고구마치즈돈까스': 7000, '고등어회': 30000, '연어덮밥': 11000, '회냉면': 8500}"
            ]
          },
          "metadata": {},
          "execution_count": 5
        }
      ]
    },
    {
      "cell_type": "markdown",
      "metadata": {
        "id": "obT3u2kHnPrr"
      },
      "source": [
        "##Pandas 등장배경"
      ]
    },
    {
      "cell_type": "code",
      "metadata": {
        "colab": {
          "base_uri": "https://localhost:8080/",
          "height": 110
        },
        "id": "INuD4_f4OxyC",
        "outputId": "0c780224-1384-465e-8696-6fa39a62dc7d"
      },
      "source": [
        "#Numpy도 있는데, 왜 Pandas?\n",
        "#Pandas는 Numpy 패키지를 기반으로 구축되었고, Numpy보다 다양한 유형이 커버 가능!\n",
        "#Pandas에서 행은 관측치, 열은 변수를 나타낸다.\n",
        "import pandas as pd\n",
        "dict = {\n",
        "    \"date\":['21.10.8','21.10.9'],\n",
        "    \"time\":['9:00',\"10:00\"],\n",
        "    \"action\":['running','eating'] }\n",
        "dataframe = pd.DataFrame(dict)\n",
        "dataframe.index = [\"one\",\"two\"]\n",
        "dataframe"
      ],
      "execution_count": 2,
      "outputs": [
        {
          "output_type": "execute_result",
          "data": {
            "text/html": [
              "<div>\n",
              "<style scoped>\n",
              "    .dataframe tbody tr th:only-of-type {\n",
              "        vertical-align: middle;\n",
              "    }\n",
              "\n",
              "    .dataframe tbody tr th {\n",
              "        vertical-align: top;\n",
              "    }\n",
              "\n",
              "    .dataframe thead th {\n",
              "        text-align: right;\n",
              "    }\n",
              "</style>\n",
              "<table border=\"1\" class=\"dataframe\">\n",
              "  <thead>\n",
              "    <tr style=\"text-align: right;\">\n",
              "      <th></th>\n",
              "      <th>date</th>\n",
              "      <th>time</th>\n",
              "      <th>action</th>\n",
              "    </tr>\n",
              "  </thead>\n",
              "  <tbody>\n",
              "    <tr>\n",
              "      <th>one</th>\n",
              "      <td>21.10.8</td>\n",
              "      <td>9:00</td>\n",
              "      <td>running</td>\n",
              "    </tr>\n",
              "    <tr>\n",
              "      <th>two</th>\n",
              "      <td>21.10.9</td>\n",
              "      <td>10:00</td>\n",
              "      <td>eating</td>\n",
              "    </tr>\n",
              "  </tbody>\n",
              "</table>\n",
              "</div>"
            ],
            "text/plain": [
              "        date   time   action\n",
              "one  21.10.8   9:00  running\n",
              "two  21.10.9  10:00   eating"
            ]
          },
          "metadata": {},
          "execution_count": 2
        }
      ]
    },
    {
      "cell_type": "markdown",
      "metadata": {
        "id": "V1u2TAq7Zed8"
      },
      "source": [
        "###다량의 외부데이터 가져오는 방법(feat.CSV)"
      ]
    },
    {
      "cell_type": "code",
      "metadata": {
        "id": "LYdubxCTZnmJ"
      },
      "source": [
        "#CSV는 쉼표로 구분 된 값의 약자이다.\n",
        "#pd.read_csv함수를 통해 csv파일을 가져올 수 있다. index_col함수는 \n",
        "dataframe2 = pd.read_csv(\"/content/drive/MyDrive/my_data/서울특별시_용산구_종량제봉투가격_csv.csv\",encoding='CP949',index_col=0)"
      ],
      "execution_count": 4,
      "outputs": []
    },
    {
      "cell_type": "code",
      "metadata": {
        "colab": {
          "base_uri": "https://localhost:8080/",
          "height": 979
        },
        "id": "vE8vWL8Lljow",
        "outputId": "fcf1e46f-e931-4d74-f3d7-3f578f74496c"
      },
      "source": [
        "print(dataframe2)\n",
        "garbage_bag = pd.DataFrame(dataframe2)\n",
        "garbage_bag"
      ],
      "execution_count": 7,
      "outputs": [
        {
          "output_type": "stream",
          "name": "stdout",
          "text": [
            "      시군구명  종량제봉투종류 종량제봉투처리방식 종량제봉투용도  ... 125ℓ가격  관리부서명      관리부서전화번호     데이터기준일자\n",
            "시도명                                    ...                                        \n",
            "서울특별시  용산구     규격봉투        기타   생활쓰레기  ...      0  자원순환과  02-2199-7298  2021-09-27\n",
            "서울특별시  용산구     규격봉투        기타  음식물쓰레기  ...      0  자원순환과  02-2199-7298  2021-09-27\n",
            "서울특별시  용산구   특수규격마대        기타   생활쓰레기  ...      0  자원순환과  02-2199-7298  2021-09-27\n",
            "서울특별시  용산구  재사용규격봉투        기타   생활쓰레기  ...      0  자원순환과  02-2199-7298  2021-09-27\n",
            "서울특별시  용산구     규격봉투        기타   생활쓰레기  ...      0  자원순환과  02-2199-7298  2021-09-27\n",
            "\n",
            "[5 rows x 23 columns]\n"
          ]
        },
        {
          "output_type": "execute_result",
          "data": {
            "text/html": [
              "<div>\n",
              "<style scoped>\n",
              "    .dataframe tbody tr th:only-of-type {\n",
              "        vertical-align: middle;\n",
              "    }\n",
              "\n",
              "    .dataframe tbody tr th {\n",
              "        vertical-align: top;\n",
              "    }\n",
              "\n",
              "    .dataframe thead th {\n",
              "        text-align: right;\n",
              "    }\n",
              "</style>\n",
              "<table border=\"1\" class=\"dataframe\">\n",
              "  <thead>\n",
              "    <tr style=\"text-align: right;\">\n",
              "      <th></th>\n",
              "      <th>시군구명</th>\n",
              "      <th>종량제봉투종류</th>\n",
              "      <th>종량제봉투처리방식</th>\n",
              "      <th>종량제봉투용도</th>\n",
              "      <th>종량제봉투사용대상</th>\n",
              "      <th>1ℓ가격</th>\n",
              "      <th>1.5ℓ가격</th>\n",
              "      <th>2ℓ가격</th>\n",
              "      <th>2.5ℓ가격</th>\n",
              "      <th>3ℓ가격</th>\n",
              "      <th>5ℓ가격</th>\n",
              "      <th>10ℓ가격</th>\n",
              "      <th>20ℓ가격</th>\n",
              "      <th>30ℓ가격</th>\n",
              "      <th>50ℓ가격</th>\n",
              "      <th>60ℓ가격</th>\n",
              "      <th>75ℓ가격</th>\n",
              "      <th>100ℓ가격</th>\n",
              "      <th>120ℓ가격</th>\n",
              "      <th>125ℓ가격</th>\n",
              "      <th>관리부서명</th>\n",
              "      <th>관리부서전화번호</th>\n",
              "      <th>데이터기준일자</th>\n",
              "    </tr>\n",
              "    <tr>\n",
              "      <th>시도명</th>\n",
              "      <th></th>\n",
              "      <th></th>\n",
              "      <th></th>\n",
              "      <th></th>\n",
              "      <th></th>\n",
              "      <th></th>\n",
              "      <th></th>\n",
              "      <th></th>\n",
              "      <th></th>\n",
              "      <th></th>\n",
              "      <th></th>\n",
              "      <th></th>\n",
              "      <th></th>\n",
              "      <th></th>\n",
              "      <th></th>\n",
              "      <th></th>\n",
              "      <th></th>\n",
              "      <th></th>\n",
              "      <th></th>\n",
              "      <th></th>\n",
              "      <th></th>\n",
              "      <th></th>\n",
              "      <th></th>\n",
              "    </tr>\n",
              "  </thead>\n",
              "  <tbody>\n",
              "    <tr>\n",
              "      <th>서울특별시</th>\n",
              "      <td>용산구</td>\n",
              "      <td>규격봉투</td>\n",
              "      <td>기타</td>\n",
              "      <td>생활쓰레기</td>\n",
              "      <td>가정용</td>\n",
              "      <td>0</td>\n",
              "      <td>0</td>\n",
              "      <td>0</td>\n",
              "      <td>0</td>\n",
              "      <td>90</td>\n",
              "      <td>130</td>\n",
              "      <td>250</td>\n",
              "      <td>490</td>\n",
              "      <td>740</td>\n",
              "      <td>1250</td>\n",
              "      <td>0</td>\n",
              "      <td>1880</td>\n",
              "      <td>2500</td>\n",
              "      <td>0</td>\n",
              "      <td>0</td>\n",
              "      <td>자원순환과</td>\n",
              "      <td>02-2199-7298</td>\n",
              "      <td>2021-09-27</td>\n",
              "    </tr>\n",
              "    <tr>\n",
              "      <th>서울특별시</th>\n",
              "      <td>용산구</td>\n",
              "      <td>규격봉투</td>\n",
              "      <td>기타</td>\n",
              "      <td>음식물쓰레기</td>\n",
              "      <td>가정용</td>\n",
              "      <td>100</td>\n",
              "      <td>0</td>\n",
              "      <td>190</td>\n",
              "      <td>0</td>\n",
              "      <td>300</td>\n",
              "      <td>500</td>\n",
              "      <td>1000</td>\n",
              "      <td>0</td>\n",
              "      <td>0</td>\n",
              "      <td>0</td>\n",
              "      <td>0</td>\n",
              "      <td>0</td>\n",
              "      <td>0</td>\n",
              "      <td>0</td>\n",
              "      <td>0</td>\n",
              "      <td>자원순환과</td>\n",
              "      <td>02-2199-7298</td>\n",
              "      <td>2021-09-27</td>\n",
              "    </tr>\n",
              "    <tr>\n",
              "      <th>서울특별시</th>\n",
              "      <td>용산구</td>\n",
              "      <td>특수규격마대</td>\n",
              "      <td>기타</td>\n",
              "      <td>생활쓰레기</td>\n",
              "      <td>가정용</td>\n",
              "      <td>0</td>\n",
              "      <td>0</td>\n",
              "      <td>0</td>\n",
              "      <td>0</td>\n",
              "      <td>0</td>\n",
              "      <td>0</td>\n",
              "      <td>0</td>\n",
              "      <td>2040</td>\n",
              "      <td>0</td>\n",
              "      <td>5100</td>\n",
              "      <td>0</td>\n",
              "      <td>0</td>\n",
              "      <td>0</td>\n",
              "      <td>0</td>\n",
              "      <td>0</td>\n",
              "      <td>자원순환과</td>\n",
              "      <td>02-2199-7298</td>\n",
              "      <td>2021-09-27</td>\n",
              "    </tr>\n",
              "    <tr>\n",
              "      <th>서울특별시</th>\n",
              "      <td>용산구</td>\n",
              "      <td>재사용규격봉투</td>\n",
              "      <td>기타</td>\n",
              "      <td>생활쓰레기</td>\n",
              "      <td>가정용</td>\n",
              "      <td>0</td>\n",
              "      <td>0</td>\n",
              "      <td>0</td>\n",
              "      <td>0</td>\n",
              "      <td>0</td>\n",
              "      <td>0</td>\n",
              "      <td>250</td>\n",
              "      <td>490</td>\n",
              "      <td>0</td>\n",
              "      <td>0</td>\n",
              "      <td>0</td>\n",
              "      <td>0</td>\n",
              "      <td>0</td>\n",
              "      <td>0</td>\n",
              "      <td>0</td>\n",
              "      <td>자원순환과</td>\n",
              "      <td>02-2199-7298</td>\n",
              "      <td>2021-09-27</td>\n",
              "    </tr>\n",
              "    <tr>\n",
              "      <th>서울특별시</th>\n",
              "      <td>용산구</td>\n",
              "      <td>규격봉투</td>\n",
              "      <td>기타</td>\n",
              "      <td>생활쓰레기</td>\n",
              "      <td>사업장용</td>\n",
              "      <td>0</td>\n",
              "      <td>0</td>\n",
              "      <td>0</td>\n",
              "      <td>0</td>\n",
              "      <td>0</td>\n",
              "      <td>0</td>\n",
              "      <td>0</td>\n",
              "      <td>0</td>\n",
              "      <td>0</td>\n",
              "      <td>2000</td>\n",
              "      <td>0</td>\n",
              "      <td>3000</td>\n",
              "      <td>4000</td>\n",
              "      <td>0</td>\n",
              "      <td>0</td>\n",
              "      <td>자원순환과</td>\n",
              "      <td>02-2199-7298</td>\n",
              "      <td>2021-09-27</td>\n",
              "    </tr>\n",
              "  </tbody>\n",
              "</table>\n",
              "</div>"
            ],
            "text/plain": [
              "      시군구명  종량제봉투종류 종량제봉투처리방식 종량제봉투용도  ... 125ℓ가격  관리부서명      관리부서전화번호     데이터기준일자\n",
              "시도명                                    ...                                        \n",
              "서울특별시  용산구     규격봉투        기타   생활쓰레기  ...      0  자원순환과  02-2199-7298  2021-09-27\n",
              "서울특별시  용산구     규격봉투        기타  음식물쓰레기  ...      0  자원순환과  02-2199-7298  2021-09-27\n",
              "서울특별시  용산구   특수규격마대        기타   생활쓰레기  ...      0  자원순환과  02-2199-7298  2021-09-27\n",
              "서울특별시  용산구  재사용규격봉투        기타   생활쓰레기  ...      0  자원순환과  02-2199-7298  2021-09-27\n",
              "서울특별시  용산구     규격봉투        기타   생활쓰레기  ...      0  자원순환과  02-2199-7298  2021-09-27\n",
              "\n",
              "[5 rows x 23 columns]"
            ]
          },
          "metadata": {},
          "execution_count": 7
        }
      ]
    },
    {
      "cell_type": "markdown",
      "metadata": {
        "id": "k4kMeFDUlX4F"
      },
      "source": [
        "###DataFrame에서 다양한 메소드"
      ]
    },
    {
      "cell_type": "code",
      "metadata": {
        "colab": {
          "base_uri": "https://localhost:8080/"
        },
        "id": "GZNTZRzzriNR",
        "outputId": "e8845a1b-d226-40a1-f0b8-e3e87c87efa7"
      },
      "source": [
        "#열을 선택하고 시리즈 타입으로 받아오는 경우 / []\n",
        "#열을 선택하고, 타입은 유지하려는 경우 / [[]]는 데이터프레임 타입 반환\n",
        "print(type(garbage_bag['1.5ℓ가격']))\n",
        "print(type(garbage_bag[['1.5ℓ가격']]))"
      ],
      "execution_count": 9,
      "outputs": [
        {
          "output_type": "stream",
          "name": "stdout",
          "text": [
            "<class 'pandas.core.series.Series'>\n",
            "<class 'pandas.core.frame.DataFrame'>\n"
          ]
        }
      ]
    },
    {
      "cell_type": "code",
      "metadata": {
        "colab": {
          "base_uri": "https://localhost:8080/"
        },
        "id": "WLaV7PzrPfi_",
        "outputId": "7fac0ec9-431b-4c17-b537-bc9047e7f885"
      },
      "source": [
        "#데이터프레임의 상위 n개 행을 출력해 보여줌\n",
        "print(garbage_bag.head(3))\n",
        "\n",
        "#데이터프레임의 하위 n개 행을 출력해 보여줌\n",
        "print(garbage_bag.tail(2))\n",
        "\n",
        "#행과 열 정보를 보여준다(row, column)\n",
        "print(garbage_bag.shape)\n",
        "\n",
        "#column(열)정보를 보여준다\n",
        "print(garbage_bag.columns)\n",
        "\n",
        "#모든 열과, 열에 대한 정보를 보여주기 때문에 결측치의 유무 또한 알 수 있다.\n",
        "print(garbage_bag.info())\n",
        "\n",
        "#각 column(열)에 대한 여러 통계량들을 보여준다\n",
        "#count,mean,std,min,25%,50%,75%,max 순서대로\n",
        "print(garbage_bag.describe())"
      ],
      "execution_count": 16,
      "outputs": [
        {
          "output_type": "stream",
          "name": "stdout",
          "text": [
            "      시군구명 종량제봉투종류 종량제봉투처리방식 종량제봉투용도  ... 125ℓ가격  관리부서명      관리부서전화번호     데이터기준일자\n",
            "시도명                                   ...                                        \n",
            "서울특별시  용산구    규격봉투        기타   생활쓰레기  ...      0  자원순환과  02-2199-7298  2021-09-27\n",
            "서울특별시  용산구    규격봉투        기타  음식물쓰레기  ...      0  자원순환과  02-2199-7298  2021-09-27\n",
            "서울특별시  용산구  특수규격마대        기타   생활쓰레기  ...      0  자원순환과  02-2199-7298  2021-09-27\n",
            "\n",
            "[3 rows x 23 columns]\n",
            "      시군구명  종량제봉투종류 종량제봉투처리방식 종량제봉투용도  ... 125ℓ가격  관리부서명      관리부서전화번호     데이터기준일자\n",
            "시도명                                    ...                                        \n",
            "서울특별시  용산구  재사용규격봉투        기타   생활쓰레기  ...      0  자원순환과  02-2199-7298  2021-09-27\n",
            "서울특별시  용산구     규격봉투        기타   생활쓰레기  ...      0  자원순환과  02-2199-7298  2021-09-27\n",
            "\n",
            "[2 rows x 23 columns]\n",
            "(5, 23)\n",
            "Index(['시군구명', '종량제봉투종류', '종량제봉투처리방식', '종량제봉투용도', '종량제봉투사용대상', '1ℓ가격',\n",
            "       '1.5ℓ가격', '2ℓ가격', '2.5ℓ가격', '3ℓ가격', '5ℓ가격', '10ℓ가격', '20ℓ가격', '30ℓ가격',\n",
            "       '50ℓ가격', '60ℓ가격', '75ℓ가격', '100ℓ가격', '120ℓ가격', '125ℓ가격', '관리부서명',\n",
            "       '관리부서전화번호', '데이터기준일자'],\n",
            "      dtype='object')\n",
            "<class 'pandas.core.frame.DataFrame'>\n",
            "Index: 5 entries, 서울특별시 to 서울특별시\n",
            "Data columns (total 23 columns):\n",
            " #   Column     Non-Null Count  Dtype \n",
            "---  ------     --------------  ----- \n",
            " 0   시군구명       5 non-null      object\n",
            " 1   종량제봉투종류    5 non-null      object\n",
            " 2   종량제봉투처리방식  5 non-null      object\n",
            " 3   종량제봉투용도    5 non-null      object\n",
            " 4   종량제봉투사용대상  5 non-null      object\n",
            " 5   1ℓ가격       5 non-null      int64 \n",
            " 6   1.5ℓ가격     5 non-null      int64 \n",
            " 7   2ℓ가격       5 non-null      int64 \n",
            " 8   2.5ℓ가격     5 non-null      int64 \n",
            " 9   3ℓ가격       5 non-null      int64 \n",
            " 10  5ℓ가격       5 non-null      int64 \n",
            " 11  10ℓ가격      5 non-null      int64 \n",
            " 12  20ℓ가격      5 non-null      int64 \n",
            " 13  30ℓ가격      5 non-null      int64 \n",
            " 14  50ℓ가격      5 non-null      int64 \n",
            " 15  60ℓ가격      5 non-null      int64 \n",
            " 16  75ℓ가격      5 non-null      int64 \n",
            " 17  100ℓ가격     5 non-null      int64 \n",
            " 18  120ℓ가격     5 non-null      int64 \n",
            " 19  125ℓ가격     5 non-null      int64 \n",
            " 20  관리부서명      5 non-null      object\n",
            " 21  관리부서전화번호   5 non-null      object\n",
            " 22  데이터기준일자    5 non-null      object\n",
            "dtypes: int64(15), object(8)\n",
            "memory usage: 960.0+ bytes\n",
            "None\n",
            "            1ℓ가격  1.5ℓ가격        2ℓ가격  ...       100ℓ가격  120ℓ가격  125ℓ가격\n",
            "count    5.00000     5.0    5.000000  ...     5.000000     5.0     5.0\n",
            "mean    20.00000     0.0   38.000000  ...  1300.000000     0.0     0.0\n",
            "std     44.72136     0.0   84.970583  ...  1857.417562     0.0     0.0\n",
            "min      0.00000     0.0    0.000000  ...     0.000000     0.0     0.0\n",
            "25%      0.00000     0.0    0.000000  ...     0.000000     0.0     0.0\n",
            "50%      0.00000     0.0    0.000000  ...     0.000000     0.0     0.0\n",
            "75%      0.00000     0.0    0.000000  ...  2500.000000     0.0     0.0\n",
            "max    100.00000     0.0  190.000000  ...  4000.000000     0.0     0.0\n",
            "\n",
            "[8 rows x 15 columns]\n"
          ]
        }
      ]
    },
    {
      "cell_type": "code",
      "metadata": {
        "id": "JGhE4nqTRwYB",
        "colab": {
          "base_uri": "https://localhost:8080/"
        },
        "outputId": "7d8d994b-8360-4457-8b97-6face9d57e47"
      },
      "source": [
        "#loc를 통해 컬럼명으로 접근이 가능하고,iloc를 통해 인덱스로 접근이 가능하다!\n",
        "print(garbage_bag.iloc[0:1])\n",
        "print(garbage_bag.iloc[0])\n",
        "\n",
        "print(garbage_bag.loc['서울특별시','종량제봉투사용대상'])"
      ],
      "execution_count": 25,
      "outputs": [
        {
          "output_type": "stream",
          "name": "stdout",
          "text": [
            "      시군구명 종량제봉투종류 종량제봉투처리방식 종량제봉투용도  ... 125ℓ가격  관리부서명      관리부서전화번호     데이터기준일자\n",
            "시도명                                   ...                                        \n",
            "서울특별시  용산구    규격봉투        기타   생활쓰레기  ...      0  자원순환과  02-2199-7298  2021-09-27\n",
            "\n",
            "[1 rows x 23 columns]\n",
            "시군구명                  용산구\n",
            "종량제봉투종류              규격봉투\n",
            "종량제봉투처리방식              기타\n",
            "종량제봉투용도             생활쓰레기\n",
            "종량제봉투사용대상             가정용\n",
            "1ℓ가격                    0\n",
            "1.5ℓ가격                  0\n",
            "2ℓ가격                    0\n",
            "2.5ℓ가격                  0\n",
            "3ℓ가격                   90\n",
            "5ℓ가격                  130\n",
            "10ℓ가격                 250\n",
            "20ℓ가격                 490\n",
            "30ℓ가격                 740\n",
            "50ℓ가격                1250\n",
            "60ℓ가격                   0\n",
            "75ℓ가격                1880\n",
            "100ℓ가격               2500\n",
            "120ℓ가격                  0\n",
            "125ℓ가격                  0\n",
            "관리부서명               자원순환과\n",
            "관리부서전화번호     02-2199-7298\n",
            "데이터기준일자        2021-09-27\n",
            "Name: 서울특별시, dtype: object\n",
            "시도명\n",
            "서울특별시     가정용\n",
            "서울특별시     가정용\n",
            "서울특별시     가정용\n",
            "서울특별시     가정용\n",
            "서울특별시    사업장용\n",
            "Name: 종량제봉투사용대상, dtype: object\n"
          ]
        }
      ]
    }
  ]
}