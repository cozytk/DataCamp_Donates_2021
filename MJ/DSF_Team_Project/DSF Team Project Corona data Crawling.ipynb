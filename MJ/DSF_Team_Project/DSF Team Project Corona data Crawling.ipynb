{
 "cells": [
  {
   "cell_type": "code",
   "execution_count": 1,
   "id": "0f6d910d",
   "metadata": {},
   "outputs": [],
   "source": [
    "import pandas as pd\n",
    "import numpy as np\n",
    "import matplotlib.pyplot as pl\n",
    "import seaborn as sns\n",
    "%matplotlib inline\n",
    "\n",
    "from pandas.io.json import json_normalize\n",
    "import requests # 크롤링을 위함\n",
    "import json # json파일을 다루기위함\n",
    "import time # 크롤링에 딜레이를 두기 위함\n",
    "from tqdm import trange #  크롤링 진행시 progress Bar "
   ]
  },
  {
   "cell_type": "markdown",
   "id": "90869728",
   "metadata": {},
   "source": [
    "### 크롤링 사이트 주소"
   ]
  },
  {
   "cell_type": "markdown",
   "id": "82dbec6c",
   "metadata": {},
   "source": [
    "https://www.seoul.go.kr/coronaV/coronaStatus.do 발생동향|서울시 코로나 19 "
   ]
  },
  {
   "cell_type": "markdown",
   "id": "a3f82a33",
   "metadata": {},
   "source": [
    "### 크롤링 함수 생성 "
   ]
  },
  {
   "cell_type": "code",
   "execution_count": 2,
   "id": "2b3cda4f",
   "metadata": {},
   "outputs": [],
   "source": [
    "# 발생동향|서울시 코로나 19 사이트에서 확진자 상세현황에 있는 데이터를 크콜링 하기 위해서는 두개의 함수 생성이 필요\n",
    "# URL 정의가 다르기 때문에 각각에 맞는 URL를 넣어서 함수 생성 \n",
    "\n",
    "# 과거120000 확진자까지의 데이터를 크롤링하는 함수 \n",
    "\n",
    "def get_seoul_covid19_past(page_num):\n",
    "    \n",
    "    start_no = (page_num - 3) * 100\n",
    "    \n",
    "    url = f\"https://news.seoul.go.kr/api/27/getCorona19Status/get_status_ajax_pre.php?draw={page_num}\"\n",
    "    url = f\"{url}&order%5B0%5D%5Bdir%5D=desc&start={start_no}&length=100\"\n",
    "        \n",
    "    response = requests.get(url)\n",
    "    data_json = response.json()\n",
    "    \n",
    "    return data_json"
   ]
  },
  {
   "cell_type": "code",
   "execution_count": null,
   "id": "afe5d86d",
   "metadata": {},
   "outputs": [],
   "source": [
    "page_list = []\n",
    "all_page = 1\n",
    "end_page = 1201\n",
    "\n",
    "for page_no in trange(all_page ,end_page):\n",
    "    \n",
    "    # 차단막는 코드, 랜덤으로 time.sleep 지정\n",
    "    seed = np.random.randint(100)\n",
    "    np.random.seed(seed)\n",
    "    a = np.random.randint(3)\n",
    "    time.sleep(a)\n",
    "        \n",
    "        \n",
    "    df = get_seoul_covid19_past(page_no)\n",
    "    #json 타입 데이터에서 'data' key와 매칭하는 value 데이터를 데이터프레임으로 변환\n",
    "    \n",
    "    df = pd.DataFrame(df[\"data\"]) \n",
    "    page_list.append(df)"
   ]
  },
  {
   "cell_type": "code",
   "execution_count": null,
   "id": "0fa13606",
   "metadata": {},
   "outputs": [],
   "source": [
    "# 크롤링한 결과를 한번에 결합시킬 수 있지만 데이터가 문제없이 크롤링 되었는지 살펴보기위해 따로 저장 \n",
    "df = pd.concat(page_list)\n",
    "df.tail(3)"
   ]
  },
  {
   "cell_type": "code",
   "execution_count": null,
   "id": "4a97f6ab",
   "metadata": {},
   "outputs": [],
   "source": [
    "# 120001~ 현재 확진자까지의 데이터를 크롤링하는 함수\n",
    "\n",
    "def get_seoul_covid19_today(page_num):\n",
    "    \n",
    "    start_no = (page_num - 3) * 100\n",
    "    \n",
    "    url = f\"https://news.seoul.go.kr/api/27/getCorona19Status/get_status_ajax.php?draw={page_num}\"\n",
    "    url = f\"{url}&order%5B0%5D%5Bdir%5D=desc&start={start_num}&length=100\"\n",
    "        \n",
    "    response = requests.get(url)\n",
    "    data_json = response.json()\n",
    "    \n",
    "    return data_json"
   ]
  },
  {
   "cell_type": "code",
   "execution_count": null,
   "id": "7076e5f1",
   "metadata": {},
   "outputs": [],
   "source": [
    "page_list = []\n",
    "\n",
    "#크롤링할 페이지 설정\n",
    "all_page = 1\n",
    "end_page = 514\n",
    "\n",
    "for page_no in trange(all_page ,end_page):\n",
    "    \n",
    "    # 차단막는 코드, 랜덤으로 time.sleep 지정\n",
    "    seed = np.random.randint(100)\n",
    "    np.random.seed(seed)\n",
    "    a = np.random.randint(3)\n",
    "    time.sleep(a)\n",
    "            \n",
    "    df = get_seoul_covid19_today(page_num)\n",
    "    \n",
    "    #json 타입 데이터에서 'data' key와 매칭하는 value 데이터를 데이터프레임으로 변환\n",
    "    df = pd.DataFrame(df[\"data\"]) \n",
    "    page_list.append(df)"
   ]
  },
  {
   "cell_type": "code",
   "execution_count": null,
   "id": "fc081118",
   "metadata": {},
   "outputs": [],
   "source": [
    "df1 =pd.concat(page_list)\n",
    "df1.tail(3)"
   ]
  },
  {
   "cell_type": "code",
   "execution_count": null,
   "id": "aff50f0c",
   "metadata": {},
   "outputs": [],
   "source": [
    "# past ,today DataFrame 결합 \n",
    "df = pd.concat([df1,df], ignore_index =True)"
   ]
  },
  {
   "cell_type": "code",
   "execution_count": null,
   "id": "5c093b9d",
   "metadata": {},
   "outputs": [],
   "source": [
    "# csv파일로 저장 \n",
    "df.to_csv(\"covid.csv\")"
   ]
  },
  {
   "cell_type": "markdown",
   "id": "fde71bf9",
   "metadata": {},
   "source": [
    "### Preprocessing"
   ]
  },
  {
   "cell_type": "code",
   "execution_count": null,
   "id": "275b70e0",
   "metadata": {},
   "outputs": [],
   "source": [
    "df = pd.read_csv(\"covid_csv\")"
   ]
  },
  {
   "cell_type": "code",
   "execution_count": null,
   "id": "51f7dc04",
   "metadata": {},
   "outputs": [],
   "source": [
    "#정규표현식 사용을 위해 import re \n",
    "import re"
   ]
  },
  {
   "cell_type": "code",
   "execution_count": null,
   "id": "e2c3c978",
   "metadata": {},
   "outputs": [],
   "source": [
    "def extract_number(num_string):\n",
    "    if type(num_string) == str:\n",
    "        num_string = num_string.replace(\"corona19\", \"\") # 'corona19'를 제거한 후에 \n",
    "        num = re.sub(\"[^0-9]\", \"\", num_string)# 숫자가 아닌 문자 모두 제거 ,re.sub（정규 표현식, 대상 문자열 , 치환 문자）\n",
    "        # [^0-9] not을 표현하며 0~9를 제외한 문자를 의미 \n",
    "        \n",
    "        num = int(num)\n",
    "        return num\n",
    "    else:\n",
    "        return num_string\n",
    "\n",
    "df[\"연번\"] = df[\"연번\"].map(extract_number)\n",
    "df    "
   ]
  },
  {
   "cell_type": "code",
   "execution_count": null,
   "id": "4a1d0a2f",
   "metadata": {},
   "outputs": [],
   "source": [
    "def extract_hangeul(origin_text):\n",
    "    subtract_text = re.sub(\"[^가-힣]\", \"\", origin_text) # 한글이 아닌 문자 제거\n",
    "    # [^가-힣] not을 표현하며 가~힣 를 제외한 문자를 의미 \n",
    "    \n",
    "    return subtract_text\n",
    "\n",
    "df[\"퇴원현황\"] = df[\"퇴원현황\"].map(extract_hangeul)\n",
    "df.loc[df[\"퇴원현황\"].isin(['']), \"퇴원현황\"] = np.nan # 퇴원현황 값이 없으면 NaN으로 표기 \n",
    "df"
   ]
  },
  {
   "cell_type": "code",
   "execution_count": null,
   "id": "39cc109b",
   "metadata": {},
   "outputs": [],
   "source": [
    "df.to_csv(\"covid_data.csv\")"
   ]
  }
 ],
 "metadata": {
  "kernelspec": {
   "display_name": "Python 3",
   "language": "python",
   "name": "python3"
  },
  "language_info": {
   "codemirror_mode": {
    "name": "ipython",
    "version": 3
   },
   "file_extension": ".py",
   "mimetype": "text/x-python",
   "name": "python",
   "nbconvert_exporter": "python",
   "pygments_lexer": "ipython3",
   "version": "3.8.8"
  }
 },
 "nbformat": 4,
 "nbformat_minor": 5
}
