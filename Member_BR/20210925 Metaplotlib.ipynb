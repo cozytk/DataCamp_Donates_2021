{
 "cells": [
  {
   "cell_type": "markdown",
   "metadata": {},
   "source": [
    "# Metaplotlib\n",
    "- remember this: the plot function tells Python what to plot and how to plot it.   \n",
    "show actually displays the plot."
   ]
  },
  {
   "cell_type": "code",
   "execution_count": 5,
   "metadata": {},
   "outputs": [],
   "source": [
    "import matplotlib.pyplot as plt # metplotlib을 꼭 import하자\n",
    "import numpy as np #numpy도 같이 import하자"
   ]
  },
  {
   "cell_type": "markdown",
   "metadata": {},
   "source": [
    "- Line Plot  \n",
    "- Scatter Plot (산포그래프)  \n",
    "plt.scatter (x,y)  \n",
    "x,y 데이터 간의 분포형태및 상관관계 파악등에 자주 사용.\n",
    "\n",
    "plt.plot (x=가로축 , y=세로축 )  \n",
    "첫 x argument는 가로축, 두번째 y argument는 세로축에 속한다.  \n",
    "\n",
    "plt.show () 자료를 보여지게 하려면 사용한다  \n",
    "\n",
    "도움된 자료 : https://blog.naver.com/ahn_ss75/222420688171"
   ]
  },
  {
   "cell_type": "markdown",
   "metadata": {},
   "source": [
    "## Histogram \n",
    "\n",
    "데이터의 구간별 빈도수 분포 형태를 보여준다.  \n",
    "\n",
    "plt.hist (x,bins = \"막대그래프의 숫자\")  \n",
    "x는 히스토그램을 만드려는 자료 값의 목록.  \n",
    "x is list of values you want to build a histogram for.  \n",
    "bins은 막대그래프의 숫자로 값을 미지정시 기본으로 10개가 지정된다.\n",
    "\n",
    "* plt.clf () 기존 그래프를 삭제할때 사용한다.\n",
    "\n",
    "참고한 자료: https://blog.naver.com/ahn_ss75/222447409510  \n",
    "\n",
    "Youtube : https://youtu.be/1fU87IDn_pg"
   ]
  },
  {
   "cell_type": "markdown",
   "metadata": {},
   "source": [
    "## Customization \n",
    "\n",
    "모든 customization은 plt.show () 값 위에 저장되어야한다.\n",
    "\n",
    "- plt.xlabel ('x축의 값 이름')  \n",
    "plt.ylable ('y축의 값 이름')  \n",
    "plt.title ('그래프의 이름')  \n",
    "title을 넣을때는 데이터의 내용을 이해할수 있도록 지정하는것이 중요.  \n",
    "\n",
    "plt.yticks ([y축의 간격과 눈금 지정])  \n",
    "plt.xticks ([x축의 간격과 눈금 지정])  \n",
    "plt.xscale ('log') : x축 조절  \n",
    "plt.text ( 그래프 안 특정 값에 글자를 넣고 싶을때)  \n",
    "plt.grid(True) 그래프에 눈금이 보이게 하고 싶을때. True의 첫문자는 대문자!\n",
    "\n",
    "\n",
    "- 색상은 color,또는 c = col로 dictionary로 지정후 넣을수 있는데  \n",
    "딕셔너리는 다음주에 배운다고 한다. "
   ]
  },
  {
   "cell_type": "code",
   "execution_count": null,
   "metadata": {},
   "outputs": [],
   "source": []
  }
 ],
 "metadata": {
  "kernelspec": {
   "display_name": "Python 3",
   "language": "python",
   "name": "python3"
  },
  "language_info": {
   "codemirror_mode": {
    "name": "ipython",
    "version": 3
   },
   "file_extension": ".py",
   "mimetype": "text/x-python",
   "name": "python",
   "nbconvert_exporter": "python",
   "pygments_lexer": "ipython3",
   "version": "3.8.5"
  }
 },
 "nbformat": 4,
 "nbformat_minor": 4
}
