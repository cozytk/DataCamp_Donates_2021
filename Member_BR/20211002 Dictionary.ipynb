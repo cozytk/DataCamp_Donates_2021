{
 "cells": [
  {
   "cell_type": "markdown",
   "metadata": {},
   "source": [
    "# Dictionary\n",
    "\n",
    "- a set of Key : Value pairs.  \n",
    "    keys: immutable, unique(within one dictionary),  can't use lists as key.  \n",
    "\n",
    "\n",
    "- A pair of braces (curly brackets) creates an empty dictionary: {}. '중괄호'  \n",
    "\n",
    "\n",
    "- Placing a comma-seperated list of key:value  \n",
    "  i,e) apple:사과, banana:바나나..."
   ]
  },
  {
   "cell_type": "markdown",
   "metadata": {},
   "source": [
    "- add, delete, sorted , in and not in "
   ]
  },
  {
   "cell_type": "code",
   "execution_count": 15,
   "metadata": {},
   "outputs": [
    {
     "data": {
      "text/plain": [
       "{'a': '1', 'b': '2', 'c': '3', 'd': '4'}"
      ]
     },
     "execution_count": 15,
     "metadata": {},
     "output_type": "execute_result"
    }
   ],
   "source": [
    "# add 추가하고자 하는 key를 대괄호에 넣는다,\n",
    "x = {'a':'1','b':'2','c':'3'}\n",
    "x['d'] = '4'\n",
    "x"
   ]
  },
  {
   "cell_type": "code",
   "execution_count": 16,
   "metadata": {},
   "outputs": [
    {
     "data": {
      "text/plain": [
       "{'b': '2', 'c': '3', 'd': '4'}"
      ]
     },
     "execution_count": 16,
     "metadata": {},
     "output_type": "execute_result"
    }
   ],
   "source": [
    "#delete . 삭제하는 방법도 동일하게 대괄호 안에 삭제하고자 하는 key를 넣음.\n",
    "x = {'a': '1', 'b': '2', 'c': '3', 'd': '4'}\n",
    "del x['a']\n",
    "x"
   ]
  },
  {
   "cell_type": "code",
   "execution_count": 17,
   "metadata": {},
   "outputs": [
    {
     "data": {
      "text/plain": [
       "True"
      ]
     },
     "execution_count": 17,
     "metadata": {},
     "output_type": "execute_result"
    }
   ],
   "source": [
    "'b' in x"
   ]
  },
  {
   "cell_type": "code",
   "execution_count": 18,
   "metadata": {},
   "outputs": [
    {
     "data": {
      "text/plain": [
       "False"
      ]
     },
     "execution_count": 18,
     "metadata": {},
     "output_type": "execute_result"
    }
   ],
   "source": [
    "'a' in x"
   ]
  },
  {
   "cell_type": "markdown",
   "metadata": {},
   "source": [
    "### how to print dictionaries  \n",
    "참고  \n",
    "https://stackoverflow.com/questions/5904969/how-to-print-a-dictionarys-key"
   ]
  },
  {
   "cell_type": "code",
   "execution_count": 23,
   "metadata": {},
   "outputs": [],
   "source": [
    "# A simple dictionary\n",
    "x = {'X':\"yes\", 'Y':\"no\", 'Z':\"ok\"}"
   ]
  },
  {
   "cell_type": "code",
   "execution_count": 20,
   "metadata": {},
   "outputs": [
    {
     "name": "stdout",
     "output_type": "stream",
     "text": [
      "c\n"
     ]
    }
   ],
   "source": [
    "# To print a specific key (for example key at index 1)\n",
    "print([key for key in x.keys()][1])"
   ]
  },
  {
   "cell_type": "code",
   "execution_count": 21,
   "metadata": {},
   "outputs": [
    {
     "name": "stdout",
     "output_type": "stream",
     "text": [
      "3\n"
     ]
    }
   ],
   "source": [
    "# To print a specific value (for example value at index 1)\n",
    "print([value for value in x.values()][1])"
   ]
  },
  {
   "cell_type": "code",
   "execution_count": 4,
   "metadata": {},
   "outputs": [
    {
     "name": "stdout",
     "output_type": "stream",
     "text": [
      "('Z', 'ok')\n"
     ]
    }
   ],
   "source": [
    "# To print a pair of a key with its value (for example pair at index 2)\n",
    "print(([key for key in x.keys()][2], [value for value in x.values()][2]))"
   ]
  },
  {
   "cell_type": "code",
   "execution_count": 5,
   "metadata": {},
   "outputs": [
    {
     "name": "stdout",
     "output_type": "stream",
     "text": [
      "('X', 'no')\n"
     ]
    }
   ],
   "source": [
    "# To print a key and a different value (for example key at index 0 and value at index 1)\n",
    "print(([key for key in x.keys()][0], [value for value in x.values()][1]))"
   ]
  },
  {
   "cell_type": "code",
   "execution_count": 6,
   "metadata": {},
   "outputs": [
    {
     "name": "stdout",
     "output_type": "stream",
     "text": [
      "XyesYnoZok\n"
     ]
    }
   ],
   "source": [
    "# To print all keys and values concatenated together\n",
    "print(''.join(str(key) + '' + str(value) for key, value in x.items()))"
   ]
  },
  {
   "cell_type": "code",
   "execution_count": 7,
   "metadata": {},
   "outputs": [
    {
     "name": "stdout",
     "output_type": "stream",
     "text": [
      "X, yes, Y, no, Z, ok\n"
     ]
    }
   ],
   "source": [
    "# To print all keys and values separated by commas\n",
    "print(', '.join(str(key) + ', ' + str(value) for key, value in x.items()))"
   ]
  },
  {
   "cell_type": "code",
   "execution_count": 8,
   "metadata": {},
   "outputs": [
    {
     "name": "stdout",
     "output_type": "stream",
     "text": [
      "('X', 'yes')\n",
      "('Y', 'no')\n",
      "('Z', 'ok')\n"
     ]
    }
   ],
   "source": [
    "# To print all pairs of (key, value) one at a time\n",
    "for e in range(len(x)):\n",
    "    print(([key for key in x.keys()][e], [value for value in x.values()][e]))"
   ]
  },
  {
   "cell_type": "code",
   "execution_count": 9,
   "metadata": {
    "scrolled": true
   },
   "outputs": [
    {
     "name": "stdout",
     "output_type": "stream",
     "text": [
      "(('X', 'yes'), ('Y', 'no'), ('Z', 'ok'))\n"
     ]
    }
   ],
   "source": [
    "# To print all pairs (key, value) in a tuple\n",
    "print(tuple(([key for key in x.keys()][i], [value for value in x.values()][i]) for i in range(len(x))))"
   ]
  },
  {
   "attachments": {
    "image.png": {
     "image/png": "[encoded data removed]"
    }
   },
   "cell_type": "markdown",
   "metadata": {},
   "source": [
    "![image.png](attachment:image.png)  \n",
    "\n",
    "- 리스트와 딕셔너리의 차이를 잘 정리하여 어떤 상황에서 맞게 사용할수 있는지 알수 있다."
   ]
  },
  {
   "cell_type": "markdown",
   "metadata": {},
   "source": [
    "# Pandas  \n",
    "\n",
    "- 파이썬 데이터 처리를 위한 라이브러리로 DataFrame이 가장 많이 사용된다. \n",
    "\n",
    "- 데이터 프레임은 2차원 리스트를 매개변수로 전달한다. 즉 행과 열을 가지는 구조이다.  \n",
    "    열(columns), 인덱스(index), 값 (values)로 구성된다.  \n",
    "    \n",
    "\n",
    "- pandas는 CSV (comma-separated values), 텍스트, excel, SQL,HTML,JSON등 다양한 파일을 읽고 데이터프레임 생성이 가능하다.   \n",
    "  예) CSV 파일은 pandas.read_csv() 를 통해 읽을수 있다.  \n",
    "  -> pandas를 import pandas as pd로 해주었다면 pd.read_csv()  \n",
    "  예) csv 파일 이름이 cars.csv라면 pd.read_csv(\"cars.csv\")\n",
    "  \n",
    "\n",
    "\n",
    "참고  \n",
    "https://wikidocs.net/32829  \n",
    "https://pandas.pydata.org/pandas-docs/stable/user_guide/index.html#user-guide\n"
   ]
  },
  {
   "cell_type": "code",
   "execution_count": 19,
   "metadata": {},
   "outputs": [],
   "source": [
    "# import pandas 를 꼭 해주어야 한다.\n",
    "import pandas as pd"
   ]
  },
  {
   "cell_type": "markdown",
   "metadata": {},
   "source": [
    "- loc : label-based ; 인덱스를 기준으로 행데이터 추출\n",
    "- iloc : integer position-based  ; 행번호를 기준으로 행 데이터 추출\n",
    "\n",
    "참고  \n",
    "https://sikaleo.tistory.com/12  \n",
    "\n",
    "\n",
    "- loc : https://pandas.pydata.org/pandas-docs/stable/reference/api/pandas.DataFrame.loc.html?highlight=loc#pandas.DataFrame.loc\n",
    "- iloc: https://pandas.pydata.org/pandas-docs/stable/reference/api/pandas.DataFrame.iloc.html?highlight=iloc"
   ]
  },
  {
   "cell_type": "code",
   "execution_count": null,
   "metadata": {},
   "outputs": [],
   "source": []
  }
 ],
 "metadata": {
  "kernelspec": {
   "display_name": "Python 3",
   "language": "python",
   "name": "python3"
  },
  "language_info": {
   "codemirror_mode": {
    "name": "ipython",
    "version": 3
   },
   "file_extension": ".py",
   "mimetype": "text/x-python",
   "name": "python",
   "nbconvert_exporter": "python",
   "pygments_lexer": "ipython3",
   "version": "3.8.5"
  }
 },
 "nbformat": 4,
 "nbformat_minor": 4
}
